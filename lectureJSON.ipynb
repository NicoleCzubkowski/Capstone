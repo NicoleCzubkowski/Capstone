{
 "cells": [
  {
   "cell_type": "markdown",
   "metadata": {},
   "source": [
    "# COURSE REVIEW"
   ]
  },
  {
   "cell_type": "code",
   "execution_count": 1,
   "metadata": {},
   "outputs": [
    {
     "name": "stderr",
     "output_type": "stream",
     "text": [
      "Installing package into ‘/home/tasty/R/x86_64-pc-linux-gnu-library/3.6’\n",
      "(as ‘lib’ is unspecified)\n",
      "\n",
      "Warning message:\n",
      "“package ‘rjson’ is not available (for R version 3.6.3)”\n"
     ]
    }
   ],
   "source": [
    "install.packages('rjson')"
   ]
  },
  {
   "cell_type": "markdown",
   "metadata": {},
   "source": [
    "### JSONs\n",
    "\n",
    "- basic creation of JSONs\n",
    "- being able to access the data in a JSON\n",
    "- being able to manipulate data in a JSON"
   ]
  },
  {
   "cell_type": "code",
   "execution_count": 2,
   "metadata": {},
   "outputs": [],
   "source": [
    "library('rjson')"
   ]
  },
  {
   "cell_type": "code",
   "execution_count": 3,
   "metadata": {},
   "outputs": [],
   "source": [
    "json1.str = '{ \n",
    "   \"ID\":[],\n",
    "   \"FirstName\":[1,2],\n",
    "   \"LastName\":[]\n",
    "}'"
   ]
  },
  {
   "cell_type": "code",
   "execution_count": 4,
   "metadata": {},
   "outputs": [
    {
     "data": {
      "text/html": [
       "<span style=white-space:pre-wrap>'{ \\n   \"ID\":[],\\n   \"FirstName\":[1,2],\\n   \"LastName\":[]\\n}'</span>"
      ],
      "text/latex": [
       "'\\{ \\textbackslash{}n   \"ID\":{[}{]},\\textbackslash{}n   \"FirstName\":{[}1,2{]},\\textbackslash{}n   \"LastName\":{[}{]}\\textbackslash{}n\\}'"
      ],
      "text/markdown": [
       "<span style=white-space:pre-wrap>'{ \\n   \"ID\":[],\\n   \"FirstName\":[1,2],\\n   \"LastName\":[]\\n}'</span>"
      ],
      "text/plain": [
       "[1] \"{ \\n   \\\"ID\\\":[],\\n   \\\"FirstName\\\":[1,2],\\n   \\\"LastName\\\":[]\\n}\""
      ]
     },
     "metadata": {},
     "output_type": "display_data"
    }
   ],
   "source": [
    "json1.str"
   ]
  },
  {
   "cell_type": "code",
   "execution_count": 5,
   "metadata": {},
   "outputs": [
    {
     "data": {
      "text/html": [
       "<dl>\n",
       "\t<dt>$ID</dt>\n",
       "\t\t<dd><ol>\n",
       "</ol>\n",
       "</dd>\n",
       "\t<dt>$FirstName</dt>\n",
       "\t\t<dd><style>\n",
       ".list-inline {list-style: none; margin:0; padding: 0}\n",
       ".list-inline>li {display: inline-block}\n",
       ".list-inline>li:not(:last-child)::after {content: \"\\00b7\"; padding: 0 .5ex}\n",
       "</style>\n",
       "<ol class=list-inline><li>1</li><li>2</li></ol>\n",
       "</dd>\n",
       "\t<dt>$LastName</dt>\n",
       "\t\t<dd><ol>\n",
       "</ol>\n",
       "</dd>\n",
       "</dl>\n"
      ],
      "text/latex": [
       "\\begin{description}\n",
       "\\item[\\$ID] \\begin{enumerate}\n",
       "\\end{enumerate}\n",
       "\n",
       "\\item[\\$FirstName] \\begin{enumerate*}\n",
       "\\item 1\n",
       "\\item 2\n",
       "\\end{enumerate*}\n",
       "\n",
       "\\item[\\$LastName] \\begin{enumerate}\n",
       "\\end{enumerate}\n",
       "\n",
       "\\end{description}\n"
      ],
      "text/markdown": [
       "$ID\n",
       ":   \n",
       "\n",
       "\n",
       "$FirstName\n",
       ":   1. 1\n",
       "2. 2\n",
       "\n",
       "\n",
       "\n",
       "$LastName\n",
       ":   \n",
       "\n",
       "\n",
       "\n",
       "\n"
      ],
      "text/plain": [
       "$ID\n",
       "list()\n",
       "\n",
       "$FirstName\n",
       "[1] 1 2\n",
       "\n",
       "$LastName\n",
       "list()\n"
      ]
     },
     "metadata": {},
     "output_type": "display_data"
    }
   ],
   "source": [
    "fromJSON(json1.str)"
   ]
  },
  {
   "cell_type": "code",
   "execution_count": 6,
   "metadata": {},
   "outputs": [],
   "source": [
    "json1.str.json = fromJSON(json1.str)"
   ]
  },
  {
   "cell_type": "code",
   "execution_count": 7,
   "metadata": {},
   "outputs": [
    {
     "data": {
      "text/html": [
       "<style>\n",
       ".list-inline {list-style: none; margin:0; padding: 0}\n",
       ".list-inline>li {display: inline-block}\n",
       ".list-inline>li:not(:last-child)::after {content: \"\\00b7\"; padding: 0 .5ex}\n",
       "</style>\n",
       "<ol class=list-inline><li>'ID'</li><li>'FirstName'</li><li>'LastName'</li></ol>\n"
      ],
      "text/latex": [
       "\\begin{enumerate*}\n",
       "\\item 'ID'\n",
       "\\item 'FirstName'\n",
       "\\item 'LastName'\n",
       "\\end{enumerate*}\n"
      ],
      "text/markdown": [
       "1. 'ID'\n",
       "2. 'FirstName'\n",
       "3. 'LastName'\n",
       "\n",
       "\n"
      ],
      "text/plain": [
       "[1] \"ID\"        \"FirstName\" \"LastName\" "
      ]
     },
     "metadata": {},
     "output_type": "display_data"
    }
   ],
   "source": [
    "names(json1.str.json)"
   ]
  },
  {
   "cell_type": "code",
   "execution_count": 8,
   "metadata": {},
   "outputs": [
    {
     "data": {
      "text/html": [
       "<style>\n",
       ".list-inline {list-style: none; margin:0; padding: 0}\n",
       ".list-inline>li {display: inline-block}\n",
       ".list-inline>li:not(:last-child)::after {content: \"\\00b7\"; padding: 0 .5ex}\n",
       "</style>\n",
       "<ol class=list-inline><li>66</li><li>70</li><li>8</li><li>43</li><li>39</li><li>1</li><li>82</li><li>2</li><li>16</li><li>61</li></ol>\n"
      ],
      "text/latex": [
       "\\begin{enumerate*}\n",
       "\\item 66\n",
       "\\item 70\n",
       "\\item 8\n",
       "\\item 43\n",
       "\\item 39\n",
       "\\item 1\n",
       "\\item 82\n",
       "\\item 2\n",
       "\\item 16\n",
       "\\item 61\n",
       "\\end{enumerate*}\n"
      ],
      "text/markdown": [
       "1. 66\n",
       "2. 70\n",
       "3. 8\n",
       "4. 43\n",
       "5. 39\n",
       "6. 1\n",
       "7. 82\n",
       "8. 2\n",
       "9. 16\n",
       "10. 61\n",
       "\n",
       "\n"
      ],
      "text/plain": [
       " [1] 66 70  8 43 39  1 82  2 16 61"
      ]
     },
     "metadata": {},
     "output_type": "display_data"
    }
   ],
   "source": [
    "sample(x = 1:100,size = 10,replace = FALSE)"
   ]
  },
  {
   "cell_type": "code",
   "execution_count": 9,
   "metadata": {},
   "outputs": [
    {
     "data": {
      "text/html": [
       "<style>\n",
       ".list-inline {list-style: none; margin:0; padding: 0}\n",
       ".list-inline>li {display: inline-block}\n",
       ".list-inline>li:not(:last-child)::after {content: \"\\00b7\"; padding: 0 .5ex}\n",
       "</style>\n",
       "<ol class=list-inline><li>'H'</li><li>'G'</li><li>'A'</li><li>'G'</li><li>'X'</li><li>'J'</li><li>'K'</li></ol>\n"
      ],
      "text/latex": [
       "\\begin{enumerate*}\n",
       "\\item 'H'\n",
       "\\item 'G'\n",
       "\\item 'A'\n",
       "\\item 'G'\n",
       "\\item 'X'\n",
       "\\item 'J'\n",
       "\\item 'K'\n",
       "\\end{enumerate*}\n"
      ],
      "text/markdown": [
       "1. 'H'\n",
       "2. 'G'\n",
       "3. 'A'\n",
       "4. 'G'\n",
       "5. 'X'\n",
       "6. 'J'\n",
       "7. 'K'\n",
       "\n",
       "\n"
      ],
      "text/plain": [
       "[1] \"H\" \"G\" \"A\" \"G\" \"X\" \"J\" \"K\""
      ]
     },
     "metadata": {},
     "output_type": "display_data"
    }
   ],
   "source": [
    "sample(LETTERS, 7, TRUE)"
   ]
  },
  {
   "cell_type": "code",
   "execution_count": 10,
   "metadata": {},
   "outputs": [
    {
     "data": {
      "text/html": [
       "'R&lt;-&gt;F&lt;-&gt;W&lt;-&gt;L&lt;-&gt;F'"
      ],
      "text/latex": [
       "'R<->F<->W<->L<->F'"
      ],
      "text/markdown": [
       "'R&lt;-&gt;F&lt;-&gt;W&lt;-&gt;L&lt;-&gt;F'"
      ],
      "text/plain": [
       "[1] \"R<->F<->W<->L<->F\""
      ]
     },
     "metadata": {},
     "output_type": "display_data"
    }
   ],
   "source": [
    "paste(sample(LETTERS, 5, TRUE),collapse=\"<->\")"
   ]
  },
  {
   "cell_type": "code",
   "execution_count": 11,
   "metadata": {},
   "outputs": [
    {
     "data": {
      "text/html": [
       "'OWKUAYWQ'"
      ],
      "text/latex": [
       "'OWKUAYWQ'"
      ],
      "text/markdown": [
       "'OWKUAYWQ'"
      ],
      "text/plain": [
       "[1] \"OWKUAYWQ\""
      ]
     },
     "metadata": {},
     "output_type": "display_data"
    }
   ],
   "source": [
    "paste(sample(LETTERS, 8, TRUE),collapse=\"\")"
   ]
  },
  {
   "cell_type": "code",
   "execution_count": 12,
   "metadata": {},
   "outputs": [
    {
     "name": "stderr",
     "output_type": "stream",
     "text": [
      "Warning message in json1.str.json[[\"ID\"]][ii] <- sample(x = 1:100, size = 10, replace = FALSE):\n",
      "“number of items to replace is not a multiple of replacement length”\n",
      "Warning message in json1.str.json[[\"ID\"]][ii] <- sample(x = 1:100, size = 10, replace = FALSE):\n",
      "“number of items to replace is not a multiple of replacement length”\n",
      "Warning message in json1.str.json[[\"ID\"]][ii] <- sample(x = 1:100, size = 10, replace = FALSE):\n",
      "“number of items to replace is not a multiple of replacement length”\n",
      "Warning message in json1.str.json[[\"ID\"]][ii] <- sample(x = 1:100, size = 10, replace = FALSE):\n",
      "“number of items to replace is not a multiple of replacement length”\n",
      "Warning message in json1.str.json[[\"ID\"]][ii] <- sample(x = 1:100, size = 10, replace = FALSE):\n",
      "“number of items to replace is not a multiple of replacement length”\n",
      "Warning message in json1.str.json[[\"ID\"]][ii] <- sample(x = 1:100, size = 10, replace = FALSE):\n",
      "“number of items to replace is not a multiple of replacement length”\n",
      "Warning message in json1.str.json[[\"ID\"]][ii] <- sample(x = 1:100, size = 10, replace = FALSE):\n",
      "“number of items to replace is not a multiple of replacement length”\n",
      "Warning message in json1.str.json[[\"ID\"]][ii] <- sample(x = 1:100, size = 10, replace = FALSE):\n",
      "“number of items to replace is not a multiple of replacement length”\n",
      "Warning message in json1.str.json[[\"ID\"]][ii] <- sample(x = 1:100, size = 10, replace = FALSE):\n",
      "“number of items to replace is not a multiple of replacement length”\n",
      "Warning message in json1.str.json[[\"ID\"]][ii] <- sample(x = 1:100, size = 10, replace = FALSE):\n",
      "“number of items to replace is not a multiple of replacement length”\n"
     ]
    }
   ],
   "source": [
    "for (ii in 1:10){\n",
    " \n",
    "    json1.str.json[[\"ID\"]][ii] = sample(x = 1:100,size = 10,replace = FALSE)\n",
    "    json1.str.json[[\"FirstName\"]][ii] = paste(sample(LETTERS, 5, TRUE),collapse=\"\")\n",
    "    json1.str.json[[\"LastName\"]][ii] = paste(sample(LETTERS, 8, TRUE),collapse=\"\")\n",
    "    \n",
    "}"
   ]
  },
  {
   "cell_type": "code",
   "execution_count": 13,
   "metadata": {},
   "outputs": [
    {
     "data": {
      "text/html": [
       "<dl>\n",
       "\t<dt>$ID</dt>\n",
       "\t\t<dd><ol>\n",
       "\t<li>65</li>\n",
       "\t<li>8</li>\n",
       "\t<li>33</li>\n",
       "\t<li>40</li>\n",
       "\t<li>62</li>\n",
       "\t<li>10</li>\n",
       "\t<li>48</li>\n",
       "\t<li>35</li>\n",
       "\t<li>71</li>\n",
       "\t<li>98</li>\n",
       "</ol>\n",
       "</dd>\n",
       "\t<dt>$FirstName</dt>\n",
       "\t\t<dd><style>\n",
       ".list-inline {list-style: none; margin:0; padding: 0}\n",
       ".list-inline>li {display: inline-block}\n",
       ".list-inline>li:not(:last-child)::after {content: \"\\00b7\"; padding: 0 .5ex}\n",
       "</style>\n",
       "<ol class=list-inline><li>'VMMRQ'</li><li>'NSCBN'</li><li>'GLDEH'</li><li>'OUVGJ'</li><li>'RDVVQ'</li><li>'OSLLF'</li><li>'CBZWW'</li><li>'QZDSH'</li><li>'REVDU'</li><li>'NBZJZ'</li></ol>\n",
       "</dd>\n",
       "\t<dt>$LastName</dt>\n",
       "\t\t<dd><ol>\n",
       "\t<li>'WRFKTSUZ'</li>\n",
       "\t<li>'FCPHYGBV'</li>\n",
       "\t<li>'OSRVSCYA'</li>\n",
       "\t<li>'IKZLUJLC'</li>\n",
       "\t<li>'JRVFGLUF'</li>\n",
       "\t<li>'VRGWGTIC'</li>\n",
       "\t<li>'YGIGHUJY'</li>\n",
       "\t<li>'CLJKGHYB'</li>\n",
       "\t<li>'IXLSOIJV'</li>\n",
       "\t<li>'LIWNEILL'</li>\n",
       "</ol>\n",
       "</dd>\n",
       "</dl>\n"
      ],
      "text/latex": [
       "\\begin{description}\n",
       "\\item[\\$ID] \\begin{enumerate}\n",
       "\\item 65\n",
       "\\item 8\n",
       "\\item 33\n",
       "\\item 40\n",
       "\\item 62\n",
       "\\item 10\n",
       "\\item 48\n",
       "\\item 35\n",
       "\\item 71\n",
       "\\item 98\n",
       "\\end{enumerate}\n",
       "\n",
       "\\item[\\$FirstName] \\begin{enumerate*}\n",
       "\\item 'VMMRQ'\n",
       "\\item 'NSCBN'\n",
       "\\item 'GLDEH'\n",
       "\\item 'OUVGJ'\n",
       "\\item 'RDVVQ'\n",
       "\\item 'OSLLF'\n",
       "\\item 'CBZWW'\n",
       "\\item 'QZDSH'\n",
       "\\item 'REVDU'\n",
       "\\item 'NBZJZ'\n",
       "\\end{enumerate*}\n",
       "\n",
       "\\item[\\$LastName] \\begin{enumerate}\n",
       "\\item 'WRFKTSUZ'\n",
       "\\item 'FCPHYGBV'\n",
       "\\item 'OSRVSCYA'\n",
       "\\item 'IKZLUJLC'\n",
       "\\item 'JRVFGLUF'\n",
       "\\item 'VRGWGTIC'\n",
       "\\item 'YGIGHUJY'\n",
       "\\item 'CLJKGHYB'\n",
       "\\item 'IXLSOIJV'\n",
       "\\item 'LIWNEILL'\n",
       "\\end{enumerate}\n",
       "\n",
       "\\end{description}\n"
      ],
      "text/markdown": [
       "$ID\n",
       ":   1. 65\n",
       "2. 8\n",
       "3. 33\n",
       "4. 40\n",
       "5. 62\n",
       "6. 10\n",
       "7. 48\n",
       "8. 35\n",
       "9. 71\n",
       "10. 98\n",
       "\n",
       "\n",
       "\n",
       "$FirstName\n",
       ":   1. 'VMMRQ'\n",
       "2. 'NSCBN'\n",
       "3. 'GLDEH'\n",
       "4. 'OUVGJ'\n",
       "5. 'RDVVQ'\n",
       "6. 'OSLLF'\n",
       "7. 'CBZWW'\n",
       "8. 'QZDSH'\n",
       "9. 'REVDU'\n",
       "10. 'NBZJZ'\n",
       "\n",
       "\n",
       "\n",
       "$LastName\n",
       ":   1. 'WRFKTSUZ'\n",
       "2. 'FCPHYGBV'\n",
       "3. 'OSRVSCYA'\n",
       "4. 'IKZLUJLC'\n",
       "5. 'JRVFGLUF'\n",
       "6. 'VRGWGTIC'\n",
       "7. 'YGIGHUJY'\n",
       "8. 'CLJKGHYB'\n",
       "9. 'IXLSOIJV'\n",
       "10. 'LIWNEILL'\n",
       "\n",
       "\n",
       "\n",
       "\n",
       "\n"
      ],
      "text/plain": [
       "$ID\n",
       "$ID[[1]]\n",
       "[1] 65\n",
       "\n",
       "$ID[[2]]\n",
       "[1] 8\n",
       "\n",
       "$ID[[3]]\n",
       "[1] 33\n",
       "\n",
       "$ID[[4]]\n",
       "[1] 40\n",
       "\n",
       "$ID[[5]]\n",
       "[1] 62\n",
       "\n",
       "$ID[[6]]\n",
       "[1] 10\n",
       "\n",
       "$ID[[7]]\n",
       "[1] 48\n",
       "\n",
       "$ID[[8]]\n",
       "[1] 35\n",
       "\n",
       "$ID[[9]]\n",
       "[1] 71\n",
       "\n",
       "$ID[[10]]\n",
       "[1] 98\n",
       "\n",
       "\n",
       "$FirstName\n",
       " [1] \"VMMRQ\" \"NSCBN\" \"GLDEH\" \"OUVGJ\" \"RDVVQ\" \"OSLLF\" \"CBZWW\" \"QZDSH\" \"REVDU\"\n",
       "[10] \"NBZJZ\"\n",
       "\n",
       "$LastName\n",
       "$LastName[[1]]\n",
       "[1] \"WRFKTSUZ\"\n",
       "\n",
       "$LastName[[2]]\n",
       "[1] \"FCPHYGBV\"\n",
       "\n",
       "$LastName[[3]]\n",
       "[1] \"OSRVSCYA\"\n",
       "\n",
       "$LastName[[4]]\n",
       "[1] \"IKZLUJLC\"\n",
       "\n",
       "$LastName[[5]]\n",
       "[1] \"JRVFGLUF\"\n",
       "\n",
       "$LastName[[6]]\n",
       "[1] \"VRGWGTIC\"\n",
       "\n",
       "$LastName[[7]]\n",
       "[1] \"YGIGHUJY\"\n",
       "\n",
       "$LastName[[8]]\n",
       "[1] \"CLJKGHYB\"\n",
       "\n",
       "$LastName[[9]]\n",
       "[1] \"IXLSOIJV\"\n",
       "\n",
       "$LastName[[10]]\n",
       "[1] \"LIWNEILL\"\n",
       "\n"
      ]
     },
     "metadata": {},
     "output_type": "display_data"
    }
   ],
   "source": [
    "json1.str.json"
   ]
  },
  {
   "cell_type": "code",
   "execution_count": 14,
   "metadata": {},
   "outputs": [
    {
     "data": {
      "text/html": [
       "TRUE"
      ],
      "text/latex": [
       "TRUE"
      ],
      "text/markdown": [
       "TRUE"
      ],
      "text/plain": [
       "[1] TRUE"
      ]
     },
     "metadata": {},
     "output_type": "display_data"
    }
   ],
   "source": [
    "is.list(json1.str.json[[\"ID\"]])"
   ]
  },
  {
   "cell_type": "code",
   "execution_count": 15,
   "metadata": {},
   "outputs": [
    {
     "data": {
      "text/html": [
       "<style>\n",
       ".list-inline {list-style: none; margin:0; padding: 0}\n",
       ".list-inline>li {display: inline-block}\n",
       ".list-inline>li:not(:last-child)::after {content: \"\\00b7\"; padding: 0 .5ex}\n",
       "</style>\n",
       "<ol class=list-inline><li>'VMMRQ'</li><li>'NSCBN'</li><li>'GLDEH'</li><li>'OUVGJ'</li><li>'RDVVQ'</li><li>'OSLLF'</li><li>'CBZWW'</li><li>'QZDSH'</li><li>'REVDU'</li><li>'NBZJZ'</li></ol>\n"
      ],
      "text/latex": [
       "\\begin{enumerate*}\n",
       "\\item 'VMMRQ'\n",
       "\\item 'NSCBN'\n",
       "\\item 'GLDEH'\n",
       "\\item 'OUVGJ'\n",
       "\\item 'RDVVQ'\n",
       "\\item 'OSLLF'\n",
       "\\item 'CBZWW'\n",
       "\\item 'QZDSH'\n",
       "\\item 'REVDU'\n",
       "\\item 'NBZJZ'\n",
       "\\end{enumerate*}\n"
      ],
      "text/markdown": [
       "1. 'VMMRQ'\n",
       "2. 'NSCBN'\n",
       "3. 'GLDEH'\n",
       "4. 'OUVGJ'\n",
       "5. 'RDVVQ'\n",
       "6. 'OSLLF'\n",
       "7. 'CBZWW'\n",
       "8. 'QZDSH'\n",
       "9. 'REVDU'\n",
       "10. 'NBZJZ'\n",
       "\n",
       "\n"
      ],
      "text/plain": [
       " [1] \"VMMRQ\" \"NSCBN\" \"GLDEH\" \"OUVGJ\" \"RDVVQ\" \"OSLLF\" \"CBZWW\" \"QZDSH\" \"REVDU\"\n",
       "[10] \"NBZJZ\""
      ]
     },
     "metadata": {},
     "output_type": "display_data"
    }
   ],
   "source": [
    "json1.str.json[[\"FirstName\"]]"
   ]
  },
  {
   "cell_type": "code",
   "execution_count": 16,
   "metadata": {},
   "outputs": [],
   "source": [
    "json1.str.json[[\"FirstName\"]][2] = \"ALEX\""
   ]
  },
  {
   "cell_type": "code",
   "execution_count": 17,
   "metadata": {},
   "outputs": [
    {
     "data": {
      "text/html": [
       "<style>\n",
       ".list-inline {list-style: none; margin:0; padding: 0}\n",
       ".list-inline>li {display: inline-block}\n",
       ".list-inline>li:not(:last-child)::after {content: \"\\00b7\"; padding: 0 .5ex}\n",
       "</style>\n",
       "<ol class=list-inline><li>'VMMRQ'</li><li>'ALEX'</li><li>'GLDEH'</li><li>'OUVGJ'</li><li>'RDVVQ'</li><li>'OSLLF'</li><li>'CBZWW'</li><li>'QZDSH'</li><li>'REVDU'</li><li>'NBZJZ'</li></ol>\n"
      ],
      "text/latex": [
       "\\begin{enumerate*}\n",
       "\\item 'VMMRQ'\n",
       "\\item 'ALEX'\n",
       "\\item 'GLDEH'\n",
       "\\item 'OUVGJ'\n",
       "\\item 'RDVVQ'\n",
       "\\item 'OSLLF'\n",
       "\\item 'CBZWW'\n",
       "\\item 'QZDSH'\n",
       "\\item 'REVDU'\n",
       "\\item 'NBZJZ'\n",
       "\\end{enumerate*}\n"
      ],
      "text/markdown": [
       "1. 'VMMRQ'\n",
       "2. 'ALEX'\n",
       "3. 'GLDEH'\n",
       "4. 'OUVGJ'\n",
       "5. 'RDVVQ'\n",
       "6. 'OSLLF'\n",
       "7. 'CBZWW'\n",
       "8. 'QZDSH'\n",
       "9. 'REVDU'\n",
       "10. 'NBZJZ'\n",
       "\n",
       "\n"
      ],
      "text/plain": [
       " [1] \"VMMRQ\" \"ALEX\"  \"GLDEH\" \"OUVGJ\" \"RDVVQ\" \"OSLLF\" \"CBZWW\" \"QZDSH\" \"REVDU\"\n",
       "[10] \"NBZJZ\""
      ]
     },
     "metadata": {},
     "output_type": "display_data"
    }
   ],
   "source": [
    "json1.str.json[[\"FirstName\"]]"
   ]
  },
  {
   "cell_type": "code",
   "execution_count": 18,
   "metadata": {},
   "outputs": [],
   "source": [
    "json1.str = '{ \n",
    "   \"ID\":[1],\n",
    "   \"FirstName\":[1],\n",
    "   \"LastName\":[1] \n",
    "   \"ID2\":[2],\n",
    "   \"FirstName2\":[2],\n",
    "   \"LastName2\":[2]\n",
    "}'"
   ]
  },
  {
   "cell_type": "code",
   "execution_count": 19,
   "metadata": {},
   "outputs": [
    {
     "data": {
      "text/html": [
       "<span style=white-space:pre-wrap>'{ \\n   \"ID\":[1],\\n   \"FirstName\":[1],\\n   \"LastName\":[1] \\n   \"ID2\":[2],\\n   \"FirstName2\":[2],\\n   \"LastName2\":[2]\\n}'</span>"
      ],
      "text/latex": [
       "'\\{ \\textbackslash{}n   \"ID\":{[}1{]},\\textbackslash{}n   \"FirstName\":{[}1{]},\\textbackslash{}n   \"LastName\":{[}1{]} \\textbackslash{}n   \"ID2\":{[}2{]},\\textbackslash{}n   \"FirstName2\":{[}2{]},\\textbackslash{}n   \"LastName2\":{[}2{]}\\textbackslash{}n\\}'"
      ],
      "text/markdown": [
       "<span style=white-space:pre-wrap>'{ \\n   \"ID\":[1],\\n   \"FirstName\":[1],\\n   \"LastName\":[1] \\n   \"ID2\":[2],\\n   \"FirstName2\":[2],\\n   \"LastName2\":[2]\\n}'</span>"
      ],
      "text/plain": [
       "[1] \"{ \\n   \\\"ID\\\":[1],\\n   \\\"FirstName\\\":[1],\\n   \\\"LastName\\\":[1] \\n   \\\"ID2\\\":[2],\\n   \\\"FirstName2\\\":[2],\\n   \\\"LastName2\\\":[2]\\n}\""
      ]
     },
     "metadata": {},
     "output_type": "display_data"
    }
   ],
   "source": [
    "(json1.str)"
   ]
  },
  {
   "cell_type": "code",
   "execution_count": null,
   "metadata": {},
   "outputs": [],
   "source": []
  },
  {
   "cell_type": "code",
   "execution_count": null,
   "metadata": {},
   "outputs": [],
   "source": []
  },
  {
   "cell_type": "markdown",
   "metadata": {},
   "source": [
    "### Load the dataset for the subtitles of Game of Thrones (JSONs)\n",
    "\n",
    "https://www.kaggle.com/gunnvant/game-of-thrones-srt"
   ]
  },
  {
   "cell_type": "code",
   "execution_count": null,
   "metadata": {},
   "outputs": [],
   "source": []
  },
  {
   "cell_type": "code",
   "execution_count": 20,
   "metadata": {},
   "outputs": [],
   "source": [
    "GoTs1.json.fromFile = fromJSON(file=\"./GoTsubtitles/season1.json\")"
   ]
  },
  {
   "cell_type": "code",
   "execution_count": 21,
   "metadata": {},
   "outputs": [
    {
     "data": {
      "text/html": [
       "<style>\n",
       ".list-inline {list-style: none; margin:0; padding: 0}\n",
       ".list-inline>li {display: inline-block}\n",
       ".list-inline>li:not(:last-child)::after {content: \"\\00b7\"; padding: 0 .5ex}\n",
       "</style>\n",
       "<ol class=list-inline><li>'Game Of Thrones S01E01 Winter Is Coming.srt'</li><li>'Game Of Thrones S01E02 The Kingsroad.srt'</li><li>'Game Of Thrones S01E03 Lord Snow.srt'</li><li>'Game Of Thrones S01E04 Cripples, Bastards, And Broken Things.srt'</li><li>'Game Of Thrones S01E05 The Wolf And The Lion.srt'</li><li>'Game Of Thrones S01E06 A Golden Crown.srt'</li><li>'Game Of Thrones S01E07 You Win Or You Die.srt'</li><li>'Game Of Thrones S01E08 The Pointy End.srt'</li><li>'Game Of Thrones S01E09 Baelor.srt'</li><li>'Game Of Thrones S01E10 Fire And Blood.srt'</li></ol>\n"
      ],
      "text/latex": [
       "\\begin{enumerate*}\n",
       "\\item 'Game Of Thrones S01E01 Winter Is Coming.srt'\n",
       "\\item 'Game Of Thrones S01E02 The Kingsroad.srt'\n",
       "\\item 'Game Of Thrones S01E03 Lord Snow.srt'\n",
       "\\item 'Game Of Thrones S01E04 Cripples, Bastards, And Broken Things.srt'\n",
       "\\item 'Game Of Thrones S01E05 The Wolf And The Lion.srt'\n",
       "\\item 'Game Of Thrones S01E06 A Golden Crown.srt'\n",
       "\\item 'Game Of Thrones S01E07 You Win Or You Die.srt'\n",
       "\\item 'Game Of Thrones S01E08 The Pointy End.srt'\n",
       "\\item 'Game Of Thrones S01E09 Baelor.srt'\n",
       "\\item 'Game Of Thrones S01E10 Fire And Blood.srt'\n",
       "\\end{enumerate*}\n"
      ],
      "text/markdown": [
       "1. 'Game Of Thrones S01E01 Winter Is Coming.srt'\n",
       "2. 'Game Of Thrones S01E02 The Kingsroad.srt'\n",
       "3. 'Game Of Thrones S01E03 Lord Snow.srt'\n",
       "4. 'Game Of Thrones S01E04 Cripples, Bastards, And Broken Things.srt'\n",
       "5. 'Game Of Thrones S01E05 The Wolf And The Lion.srt'\n",
       "6. 'Game Of Thrones S01E06 A Golden Crown.srt'\n",
       "7. 'Game Of Thrones S01E07 You Win Or You Die.srt'\n",
       "8. 'Game Of Thrones S01E08 The Pointy End.srt'\n",
       "9. 'Game Of Thrones S01E09 Baelor.srt'\n",
       "10. 'Game Of Thrones S01E10 Fire And Blood.srt'\n",
       "\n",
       "\n"
      ],
      "text/plain": [
       " [1] \"Game Of Thrones S01E01 Winter Is Coming.srt\"                     \n",
       " [2] \"Game Of Thrones S01E02 The Kingsroad.srt\"                        \n",
       " [3] \"Game Of Thrones S01E03 Lord Snow.srt\"                            \n",
       " [4] \"Game Of Thrones S01E04 Cripples, Bastards, And Broken Things.srt\"\n",
       " [5] \"Game Of Thrones S01E05 The Wolf And The Lion.srt\"                \n",
       " [6] \"Game Of Thrones S01E06 A Golden Crown.srt\"                       \n",
       " [7] \"Game Of Thrones S01E07 You Win Or You Die.srt\"                   \n",
       " [8] \"Game Of Thrones S01E08 The Pointy End.srt\"                       \n",
       " [9] \"Game Of Thrones S01E09 Baelor.srt\"                               \n",
       "[10] \"Game Of Thrones S01E10 Fire And Blood.srt\"                       "
      ]
     },
     "metadata": {},
     "output_type": "display_data"
    }
   ],
   "source": [
    "names(GoTs1.json.fromFile)"
   ]
  },
  {
   "cell_type": "code",
   "execution_count": 22,
   "metadata": {},
   "outputs": [],
   "source": [
    "#install.packages(\"descr\")\n",
    "library(\"descr\")"
   ]
  },
  {
   "cell_type": "code",
   "execution_count": 23,
   "metadata": {},
   "outputs": [
    {
     "name": "stdout",
     "output_type": "stream",
     "text": [
      "[1] \"{ \\\"got\\\": {\\n    \\\"1\\\":\\\"ok\\\",\\n    \\\"2\\\":\\\"very good\\\"\\n}}\"\n"
     ]
    }
   ],
   "source": [
    "tmp = '{ \"got\": {\n",
    "    \"1\":\"ok\",\n",
    "    \"2\":\"very good\"\n",
    "}}'\n",
    "print(tmp)"
   ]
  },
  {
   "cell_type": "code",
   "execution_count": 24,
   "metadata": {},
   "outputs": [
    {
     "name": "stdout",
     "output_type": "stream",
     "text": [
      "{\n",
      "    \"Game Of Thrones S01E01 Winter Is Coming.srt\": {\n",
      "        \"1\": \"Easy, boy.\",\n",
      "        \"10\": \"Our orders were to track the wildlings.\",\n",
      "        \"100\": \"- Right. Give it here. - No!\",\n",
      "        \"101\": \"Put away your blade.\",\n",
      "        \"102\": \"- I take orders from your father, not you. - Please, Father!\",\n",
      "        \"103\": \"I'm sorry, Bran.\",\n",
      "        \"104\": \"Lord Stark?\",\n",
      "        \"105\": \"There are five pups.\",\n",
      "        \"106\": \"One for each of the Stark children.\",\n",
      "        \"107\": \"The direwolf is the sigil of your house.\",\n"
     ]
    }
   ],
   "source": [
    "#print the first 12 lines of the json file\n",
    "file.head(\"./GoTsubtitles/season1.json\", 12, truncate.cols = TRUE)"
   ]
  },
  {
   "cell_type": "code",
   "execution_count": 25,
   "metadata": {},
   "outputs": [
    {
     "data": {
      "text/html": [
       "'Game Of Thrones S01E01 Winter Is Coming.srt'"
      ],
      "text/latex": [
       "'Game Of Thrones S01E01 Winter Is Coming.srt'"
      ],
      "text/markdown": [
       "'Game Of Thrones S01E01 Winter Is Coming.srt'"
      ],
      "text/plain": [
       "[1] \"Game Of Thrones S01E01 Winter Is Coming.srt\""
      ]
     },
     "metadata": {},
     "output_type": "display_data"
    }
   ],
   "source": [
    "names(GoTs1.json.fromFile)[1]"
   ]
  },
  {
   "cell_type": "code",
   "execution_count": 31,
   "metadata": {},
   "outputs": [
    {
     "data": {
      "text/html": [
       "<style>\n",
       ".list-inline {list-style: none; margin:0; padding: 0}\n",
       ".list-inline>li {display: inline-block}\n",
       ".list-inline>li:not(:last-child)::after {content: \"\\00b7\"; padding: 0 .5ex}\n",
       "</style>\n",
       "<ol class=list-inline><li>'1'</li><li>'10'</li><li>'100'</li><li>'101'</li><li>'102'</li><li>'103'</li><li>'104'</li><li>'105'</li><li>'106'</li><li>'107'</li><li>'108'</li><li>'109'</li><li>'11'</li><li>'110'</li><li>'111'</li><li>'112'</li><li>'113'</li><li>'114'</li><li>'115'</li><li>'116'</li><li>'117'</li><li>'118'</li><li>'119'</li><li>'12'</li><li>'120'</li><li>'121'</li><li>'122'</li><li>'123'</li><li>'124'</li><li>'125'</li><li>'126'</li><li>'127'</li><li>'128'</li><li>'129'</li><li>'13'</li><li>'130'</li><li>'131'</li><li>'132'</li><li>'133'</li><li>'134'</li><li>'135'</li><li>'136'</li><li>'137'</li><li>'138'</li><li>'139'</li><li>'14'</li><li>'140'</li><li>'141'</li><li>'142'</li><li>'143'</li><li>'144'</li><li>'145'</li><li>'146'</li><li>'147'</li><li>'148'</li><li>'149'</li><li>'15'</li><li>'150'</li><li>'151'</li><li>'152'</li><li>'153'</li><li>'154'</li><li>'155'</li><li>'156'</li><li>'157'</li><li>'158'</li><li>'159'</li><li>'16'</li><li>'160'</li><li>'161'</li><li>'162'</li><li>'163'</li><li>'164'</li><li>'165'</li><li>'166'</li><li>'167'</li><li>'168'</li><li>'169'</li><li>'17'</li><li>'170'</li><li>'171'</li><li>'172'</li><li>'173'</li><li>'174'</li><li>'175'</li><li>'176'</li><li>'177'</li><li>'178'</li><li>'179'</li><li>'18'</li><li>'180'</li><li>'181'</li><li>'182'</li><li>'183'</li><li>'184'</li><li>'185'</li><li>'186'</li><li>'187'</li><li>'188'</li><li>'189'</li><li>'19'</li><li>'190'</li><li>'191'</li><li>'192'</li><li>'193'</li><li>'194'</li><li>'195'</li><li>'196'</li><li>'197'</li><li>'198'</li><li>'199'</li><li>'2'</li><li>'20'</li><li>'200'</li><li>'201'</li><li>'202'</li><li>'203'</li><li>'204'</li><li>'205'</li><li>'206'</li><li>'207'</li><li>'208'</li><li>'209'</li><li>'21'</li><li>'210'</li><li>'211'</li><li>'212'</li><li>'213'</li><li>'214'</li><li>'215'</li><li>'216'</li><li>'217'</li><li>'218'</li><li>'219'</li><li>'22'</li><li>'220'</li><li>'221'</li><li>'222'</li><li>'223'</li><li>'224'</li><li>'225'</li><li>'226'</li><li>'227'</li><li>'228'</li><li>'229'</li><li>'23'</li><li>'230'</li><li>'231'</li><li>'232'</li><li>'233'</li><li>'234'</li><li>'235'</li><li>'236'</li><li>'237'</li><li>'238'</li><li>'239'</li><li>'24'</li><li>'240'</li><li>'241'</li><li>'242'</li><li>'243'</li><li>'244'</li><li>'245'</li><li>'246'</li><li>'247'</li><li>'248'</li><li>'249'</li><li>'25'</li><li>'250'</li><li>'251'</li><li>'252'</li><li>'253'</li><li>'254'</li><li>'255'</li><li>'256'</li><li>'257'</li><li>'258'</li><li>'259'</li><li>'26'</li><li>'260'</li><li>'261'</li><li>'262'</li><li>'263'</li><li>'264'</li><li>'265'</li><li>'266'</li><li>'267'</li><li>'268'</li><li>'269'</li><li>'27'</li><li>'270'</li><li>'271'</li><li>'272'</li><li>'273'</li><li>'274'</li><li>'275'</li><li>'276'</li><li>'277'</li><li>'278'</li><li>'279'</li><li>⋯</li><li>'422'</li><li>'423'</li><li>'424'</li><li>'425'</li><li>'426'</li><li>'427'</li><li>'428'</li><li>'429'</li><li>'43'</li><li>'430'</li><li>'431'</li><li>'432'</li><li>'433'</li><li>'434'</li><li>'435'</li><li>'436'</li><li>'437'</li><li>'438'</li><li>'439'</li><li>'44'</li><li>'440'</li><li>'441'</li><li>'442'</li><li>'443'</li><li>'444'</li><li>'445'</li><li>'446'</li><li>'447'</li><li>'448'</li><li>'449'</li><li>'45'</li><li>'450'</li><li>'451'</li><li>'452'</li><li>'453'</li><li>'454'</li><li>'455'</li><li>'456'</li><li>'457'</li><li>'458'</li><li>'459'</li><li>'46'</li><li>'460'</li><li>'461'</li><li>'462'</li><li>'463'</li><li>'464'</li><li>'465'</li><li>'466'</li><li>'467'</li><li>'468'</li><li>'469'</li><li>'47'</li><li>'470'</li><li>'471'</li><li>'472'</li><li>'473'</li><li>'474'</li><li>'475'</li><li>'476'</li><li>'477'</li><li>'478'</li><li>'479'</li><li>'48'</li><li>'480'</li><li>'481'</li><li>'482'</li><li>'483'</li><li>'484'</li><li>'485'</li><li>'486'</li><li>'487'</li><li>'488'</li><li>'489'</li><li>'49'</li><li>'490'</li><li>'491'</li><li>'492'</li><li>'493'</li><li>'494'</li><li>'495'</li><li>'496'</li><li>'497'</li><li>'498'</li><li>'499'</li><li>'5'</li><li>'50'</li><li>'500'</li><li>'501'</li><li>'502'</li><li>'503'</li><li>'504'</li><li>'505'</li><li>'506'</li><li>'507'</li><li>'508'</li><li>'509'</li><li>'51'</li><li>'510'</li><li>'511'</li><li>'512'</li><li>'513'</li><li>'514'</li><li>'515'</li><li>'516'</li><li>'517'</li><li>'518'</li><li>'519'</li><li>'52'</li><li>'520'</li><li>'521'</li><li>'522'</li><li>'523'</li><li>'524'</li><li>'525'</li><li>'526'</li><li>'527'</li><li>'528'</li><li>'529'</li><li>'53'</li><li>'530'</li><li>'531'</li><li>'532'</li><li>'533'</li><li>'534'</li><li>'535'</li><li>'536'</li><li>'537'</li><li>'538'</li><li>'539'</li><li>'54'</li><li>'540'</li><li>'541'</li><li>'542'</li><li>'543'</li><li>'544'</li><li>'545'</li><li>'546'</li><li>'547'</li><li>'548'</li><li>'549'</li><li>'55'</li><li>'550'</li><li>'551'</li><li>'552'</li><li>'553'</li><li>'554'</li><li>'555'</li><li>'556'</li><li>'557'</li><li>'558'</li><li>'559'</li><li>'56'</li><li>'57'</li><li>'58'</li><li>'59'</li><li>'6'</li><li>'60'</li><li>'61'</li><li>'62'</li><li>'63'</li><li>'64'</li><li>'65'</li><li>'66'</li><li>'67'</li><li>'68'</li><li>'69'</li><li>'7'</li><li>'70'</li><li>'71'</li><li>'72'</li><li>'73'</li><li>'74'</li><li>'75'</li><li>'76'</li><li>'77'</li><li>'78'</li><li>'79'</li><li>'8'</li><li>'80'</li><li>'81'</li><li>'82'</li><li>'83'</li><li>'84'</li><li>'85'</li><li>'86'</li><li>'87'</li><li>'88'</li><li>'89'</li><li>'9'</li><li>'90'</li><li>'91'</li><li>'92'</li><li>'93'</li><li>'94'</li><li>'95'</li><li>'96'</li><li>'97'</li><li>'98'</li><li>'99'</li></ol>\n"
      ],
      "text/latex": [
       "\\begin{enumerate*}\n",
       "\\item '1'\n",
       "\\item '10'\n",
       "\\item '100'\n",
       "\\item '101'\n",
       "\\item '102'\n",
       "\\item '103'\n",
       "\\item '104'\n",
       "\\item '105'\n",
       "\\item '106'\n",
       "\\item '107'\n",
       "\\item '108'\n",
       "\\item '109'\n",
       "\\item '11'\n",
       "\\item '110'\n",
       "\\item '111'\n",
       "\\item '112'\n",
       "\\item '113'\n",
       "\\item '114'\n",
       "\\item '115'\n",
       "\\item '116'\n",
       "\\item '117'\n",
       "\\item '118'\n",
       "\\item '119'\n",
       "\\item '12'\n",
       "\\item '120'\n",
       "\\item '121'\n",
       "\\item '122'\n",
       "\\item '123'\n",
       "\\item '124'\n",
       "\\item '125'\n",
       "\\item '126'\n",
       "\\item '127'\n",
       "\\item '128'\n",
       "\\item '129'\n",
       "\\item '13'\n",
       "\\item '130'\n",
       "\\item '131'\n",
       "\\item '132'\n",
       "\\item '133'\n",
       "\\item '134'\n",
       "\\item '135'\n",
       "\\item '136'\n",
       "\\item '137'\n",
       "\\item '138'\n",
       "\\item '139'\n",
       "\\item '14'\n",
       "\\item '140'\n",
       "\\item '141'\n",
       "\\item '142'\n",
       "\\item '143'\n",
       "\\item '144'\n",
       "\\item '145'\n",
       "\\item '146'\n",
       "\\item '147'\n",
       "\\item '148'\n",
       "\\item '149'\n",
       "\\item '15'\n",
       "\\item '150'\n",
       "\\item '151'\n",
       "\\item '152'\n",
       "\\item '153'\n",
       "\\item '154'\n",
       "\\item '155'\n",
       "\\item '156'\n",
       "\\item '157'\n",
       "\\item '158'\n",
       "\\item '159'\n",
       "\\item '16'\n",
       "\\item '160'\n",
       "\\item '161'\n",
       "\\item '162'\n",
       "\\item '163'\n",
       "\\item '164'\n",
       "\\item '165'\n",
       "\\item '166'\n",
       "\\item '167'\n",
       "\\item '168'\n",
       "\\item '169'\n",
       "\\item '17'\n",
       "\\item '170'\n",
       "\\item '171'\n",
       "\\item '172'\n",
       "\\item '173'\n",
       "\\item '174'\n",
       "\\item '175'\n",
       "\\item '176'\n",
       "\\item '177'\n",
       "\\item '178'\n",
       "\\item '179'\n",
       "\\item '18'\n",
       "\\item '180'\n",
       "\\item '181'\n",
       "\\item '182'\n",
       "\\item '183'\n",
       "\\item '184'\n",
       "\\item '185'\n",
       "\\item '186'\n",
       "\\item '187'\n",
       "\\item '188'\n",
       "\\item '189'\n",
       "\\item '19'\n",
       "\\item '190'\n",
       "\\item '191'\n",
       "\\item '192'\n",
       "\\item '193'\n",
       "\\item '194'\n",
       "\\item '195'\n",
       "\\item '196'\n",
       "\\item '197'\n",
       "\\item '198'\n",
       "\\item '199'\n",
       "\\item '2'\n",
       "\\item '20'\n",
       "\\item '200'\n",
       "\\item '201'\n",
       "\\item '202'\n",
       "\\item '203'\n",
       "\\item '204'\n",
       "\\item '205'\n",
       "\\item '206'\n",
       "\\item '207'\n",
       "\\item '208'\n",
       "\\item '209'\n",
       "\\item '21'\n",
       "\\item '210'\n",
       "\\item '211'\n",
       "\\item '212'\n",
       "\\item '213'\n",
       "\\item '214'\n",
       "\\item '215'\n",
       "\\item '216'\n",
       "\\item '217'\n",
       "\\item '218'\n",
       "\\item '219'\n",
       "\\item '22'\n",
       "\\item '220'\n",
       "\\item '221'\n",
       "\\item '222'\n",
       "\\item '223'\n",
       "\\item '224'\n",
       "\\item '225'\n",
       "\\item '226'\n",
       "\\item '227'\n",
       "\\item '228'\n",
       "\\item '229'\n",
       "\\item '23'\n",
       "\\item '230'\n",
       "\\item '231'\n",
       "\\item '232'\n",
       "\\item '233'\n",
       "\\item '234'\n",
       "\\item '235'\n",
       "\\item '236'\n",
       "\\item '237'\n",
       "\\item '238'\n",
       "\\item '239'\n",
       "\\item '24'\n",
       "\\item '240'\n",
       "\\item '241'\n",
       "\\item '242'\n",
       "\\item '243'\n",
       "\\item '244'\n",
       "\\item '245'\n",
       "\\item '246'\n",
       "\\item '247'\n",
       "\\item '248'\n",
       "\\item '249'\n",
       "\\item '25'\n",
       "\\item '250'\n",
       "\\item '251'\n",
       "\\item '252'\n",
       "\\item '253'\n",
       "\\item '254'\n",
       "\\item '255'\n",
       "\\item '256'\n",
       "\\item '257'\n",
       "\\item '258'\n",
       "\\item '259'\n",
       "\\item '26'\n",
       "\\item '260'\n",
       "\\item '261'\n",
       "\\item '262'\n",
       "\\item '263'\n",
       "\\item '264'\n",
       "\\item '265'\n",
       "\\item '266'\n",
       "\\item '267'\n",
       "\\item '268'\n",
       "\\item '269'\n",
       "\\item '27'\n",
       "\\item '270'\n",
       "\\item '271'\n",
       "\\item '272'\n",
       "\\item '273'\n",
       "\\item '274'\n",
       "\\item '275'\n",
       "\\item '276'\n",
       "\\item '277'\n",
       "\\item '278'\n",
       "\\item '279'\n",
       "\\item ⋯\n",
       "\\item '422'\n",
       "\\item '423'\n",
       "\\item '424'\n",
       "\\item '425'\n",
       "\\item '426'\n",
       "\\item '427'\n",
       "\\item '428'\n",
       "\\item '429'\n",
       "\\item '43'\n",
       "\\item '430'\n",
       "\\item '431'\n",
       "\\item '432'\n",
       "\\item '433'\n",
       "\\item '434'\n",
       "\\item '435'\n",
       "\\item '436'\n",
       "\\item '437'\n",
       "\\item '438'\n",
       "\\item '439'\n",
       "\\item '44'\n",
       "\\item '440'\n",
       "\\item '441'\n",
       "\\item '442'\n",
       "\\item '443'\n",
       "\\item '444'\n",
       "\\item '445'\n",
       "\\item '446'\n",
       "\\item '447'\n",
       "\\item '448'\n",
       "\\item '449'\n",
       "\\item '45'\n",
       "\\item '450'\n",
       "\\item '451'\n",
       "\\item '452'\n",
       "\\item '453'\n",
       "\\item '454'\n",
       "\\item '455'\n",
       "\\item '456'\n",
       "\\item '457'\n",
       "\\item '458'\n",
       "\\item '459'\n",
       "\\item '46'\n",
       "\\item '460'\n",
       "\\item '461'\n",
       "\\item '462'\n",
       "\\item '463'\n",
       "\\item '464'\n",
       "\\item '465'\n",
       "\\item '466'\n",
       "\\item '467'\n",
       "\\item '468'\n",
       "\\item '469'\n",
       "\\item '47'\n",
       "\\item '470'\n",
       "\\item '471'\n",
       "\\item '472'\n",
       "\\item '473'\n",
       "\\item '474'\n",
       "\\item '475'\n",
       "\\item '476'\n",
       "\\item '477'\n",
       "\\item '478'\n",
       "\\item '479'\n",
       "\\item '48'\n",
       "\\item '480'\n",
       "\\item '481'\n",
       "\\item '482'\n",
       "\\item '483'\n",
       "\\item '484'\n",
       "\\item '485'\n",
       "\\item '486'\n",
       "\\item '487'\n",
       "\\item '488'\n",
       "\\item '489'\n",
       "\\item '49'\n",
       "\\item '490'\n",
       "\\item '491'\n",
       "\\item '492'\n",
       "\\item '493'\n",
       "\\item '494'\n",
       "\\item '495'\n",
       "\\item '496'\n",
       "\\item '497'\n",
       "\\item '498'\n",
       "\\item '499'\n",
       "\\item '5'\n",
       "\\item '50'\n",
       "\\item '500'\n",
       "\\item '501'\n",
       "\\item '502'\n",
       "\\item '503'\n",
       "\\item '504'\n",
       "\\item '505'\n",
       "\\item '506'\n",
       "\\item '507'\n",
       "\\item '508'\n",
       "\\item '509'\n",
       "\\item '51'\n",
       "\\item '510'\n",
       "\\item '511'\n",
       "\\item '512'\n",
       "\\item '513'\n",
       "\\item '514'\n",
       "\\item '515'\n",
       "\\item '516'\n",
       "\\item '517'\n",
       "\\item '518'\n",
       "\\item '519'\n",
       "\\item '52'\n",
       "\\item '520'\n",
       "\\item '521'\n",
       "\\item '522'\n",
       "\\item '523'\n",
       "\\item '524'\n",
       "\\item '525'\n",
       "\\item '526'\n",
       "\\item '527'\n",
       "\\item '528'\n",
       "\\item '529'\n",
       "\\item '53'\n",
       "\\item '530'\n",
       "\\item '531'\n",
       "\\item '532'\n",
       "\\item '533'\n",
       "\\item '534'\n",
       "\\item '535'\n",
       "\\item '536'\n",
       "\\item '537'\n",
       "\\item '538'\n",
       "\\item '539'\n",
       "\\item '54'\n",
       "\\item '540'\n",
       "\\item '541'\n",
       "\\item '542'\n",
       "\\item '543'\n",
       "\\item '544'\n",
       "\\item '545'\n",
       "\\item '546'\n",
       "\\item '547'\n",
       "\\item '548'\n",
       "\\item '549'\n",
       "\\item '55'\n",
       "\\item '550'\n",
       "\\item '551'\n",
       "\\item '552'\n",
       "\\item '553'\n",
       "\\item '554'\n",
       "\\item '555'\n",
       "\\item '556'\n",
       "\\item '557'\n",
       "\\item '558'\n",
       "\\item '559'\n",
       "\\item '56'\n",
       "\\item '57'\n",
       "\\item '58'\n",
       "\\item '59'\n",
       "\\item '6'\n",
       "\\item '60'\n",
       "\\item '61'\n",
       "\\item '62'\n",
       "\\item '63'\n",
       "\\item '64'\n",
       "\\item '65'\n",
       "\\item '66'\n",
       "\\item '67'\n",
       "\\item '68'\n",
       "\\item '69'\n",
       "\\item '7'\n",
       "\\item '70'\n",
       "\\item '71'\n",
       "\\item '72'\n",
       "\\item '73'\n",
       "\\item '74'\n",
       "\\item '75'\n",
       "\\item '76'\n",
       "\\item '77'\n",
       "\\item '78'\n",
       "\\item '79'\n",
       "\\item '8'\n",
       "\\item '80'\n",
       "\\item '81'\n",
       "\\item '82'\n",
       "\\item '83'\n",
       "\\item '84'\n",
       "\\item '85'\n",
       "\\item '86'\n",
       "\\item '87'\n",
       "\\item '88'\n",
       "\\item '89'\n",
       "\\item '9'\n",
       "\\item '90'\n",
       "\\item '91'\n",
       "\\item '92'\n",
       "\\item '93'\n",
       "\\item '94'\n",
       "\\item '95'\n",
       "\\item '96'\n",
       "\\item '97'\n",
       "\\item '98'\n",
       "\\item '99'\n",
       "\\end{enumerate*}\n"
      ],
      "text/markdown": [
       "1. '1'\n",
       "2. '10'\n",
       "3. '100'\n",
       "4. '101'\n",
       "5. '102'\n",
       "6. '103'\n",
       "7. '104'\n",
       "8. '105'\n",
       "9. '106'\n",
       "10. '107'\n",
       "11. '108'\n",
       "12. '109'\n",
       "13. '11'\n",
       "14. '110'\n",
       "15. '111'\n",
       "16. '112'\n",
       "17. '113'\n",
       "18. '114'\n",
       "19. '115'\n",
       "20. '116'\n",
       "21. '117'\n",
       "22. '118'\n",
       "23. '119'\n",
       "24. '12'\n",
       "25. '120'\n",
       "26. '121'\n",
       "27. '122'\n",
       "28. '123'\n",
       "29. '124'\n",
       "30. '125'\n",
       "31. '126'\n",
       "32. '127'\n",
       "33. '128'\n",
       "34. '129'\n",
       "35. '13'\n",
       "36. '130'\n",
       "37. '131'\n",
       "38. '132'\n",
       "39. '133'\n",
       "40. '134'\n",
       "41. '135'\n",
       "42. '136'\n",
       "43. '137'\n",
       "44. '138'\n",
       "45. '139'\n",
       "46. '14'\n",
       "47. '140'\n",
       "48. '141'\n",
       "49. '142'\n",
       "50. '143'\n",
       "51. '144'\n",
       "52. '145'\n",
       "53. '146'\n",
       "54. '147'\n",
       "55. '148'\n",
       "56. '149'\n",
       "57. '15'\n",
       "58. '150'\n",
       "59. '151'\n",
       "60. '152'\n",
       "61. '153'\n",
       "62. '154'\n",
       "63. '155'\n",
       "64. '156'\n",
       "65. '157'\n",
       "66. '158'\n",
       "67. '159'\n",
       "68. '16'\n",
       "69. '160'\n",
       "70. '161'\n",
       "71. '162'\n",
       "72. '163'\n",
       "73. '164'\n",
       "74. '165'\n",
       "75. '166'\n",
       "76. '167'\n",
       "77. '168'\n",
       "78. '169'\n",
       "79. '17'\n",
       "80. '170'\n",
       "81. '171'\n",
       "82. '172'\n",
       "83. '173'\n",
       "84. '174'\n",
       "85. '175'\n",
       "86. '176'\n",
       "87. '177'\n",
       "88. '178'\n",
       "89. '179'\n",
       "90. '18'\n",
       "91. '180'\n",
       "92. '181'\n",
       "93. '182'\n",
       "94. '183'\n",
       "95. '184'\n",
       "96. '185'\n",
       "97. '186'\n",
       "98. '187'\n",
       "99. '188'\n",
       "100. '189'\n",
       "101. '19'\n",
       "102. '190'\n",
       "103. '191'\n",
       "104. '192'\n",
       "105. '193'\n",
       "106. '194'\n",
       "107. '195'\n",
       "108. '196'\n",
       "109. '197'\n",
       "110. '198'\n",
       "111. '199'\n",
       "112. '2'\n",
       "113. '20'\n",
       "114. '200'\n",
       "115. '201'\n",
       "116. '202'\n",
       "117. '203'\n",
       "118. '204'\n",
       "119. '205'\n",
       "120. '206'\n",
       "121. '207'\n",
       "122. '208'\n",
       "123. '209'\n",
       "124. '21'\n",
       "125. '210'\n",
       "126. '211'\n",
       "127. '212'\n",
       "128. '213'\n",
       "129. '214'\n",
       "130. '215'\n",
       "131. '216'\n",
       "132. '217'\n",
       "133. '218'\n",
       "134. '219'\n",
       "135. '22'\n",
       "136. '220'\n",
       "137. '221'\n",
       "138. '222'\n",
       "139. '223'\n",
       "140. '224'\n",
       "141. '225'\n",
       "142. '226'\n",
       "143. '227'\n",
       "144. '228'\n",
       "145. '229'\n",
       "146. '23'\n",
       "147. '230'\n",
       "148. '231'\n",
       "149. '232'\n",
       "150. '233'\n",
       "151. '234'\n",
       "152. '235'\n",
       "153. '236'\n",
       "154. '237'\n",
       "155. '238'\n",
       "156. '239'\n",
       "157. '24'\n",
       "158. '240'\n",
       "159. '241'\n",
       "160. '242'\n",
       "161. '243'\n",
       "162. '244'\n",
       "163. '245'\n",
       "164. '246'\n",
       "165. '247'\n",
       "166. '248'\n",
       "167. '249'\n",
       "168. '25'\n",
       "169. '250'\n",
       "170. '251'\n",
       "171. '252'\n",
       "172. '253'\n",
       "173. '254'\n",
       "174. '255'\n",
       "175. '256'\n",
       "176. '257'\n",
       "177. '258'\n",
       "178. '259'\n",
       "179. '26'\n",
       "180. '260'\n",
       "181. '261'\n",
       "182. '262'\n",
       "183. '263'\n",
       "184. '264'\n",
       "185. '265'\n",
       "186. '266'\n",
       "187. '267'\n",
       "188. '268'\n",
       "189. '269'\n",
       "190. '27'\n",
       "191. '270'\n",
       "192. '271'\n",
       "193. '272'\n",
       "194. '273'\n",
       "195. '274'\n",
       "196. '275'\n",
       "197. '276'\n",
       "198. '277'\n",
       "199. '278'\n",
       "200. '279'\n",
       "201. ⋯\n",
       "202. '422'\n",
       "203. '423'\n",
       "204. '424'\n",
       "205. '425'\n",
       "206. '426'\n",
       "207. '427'\n",
       "208. '428'\n",
       "209. '429'\n",
       "210. '43'\n",
       "211. '430'\n",
       "212. '431'\n",
       "213. '432'\n",
       "214. '433'\n",
       "215. '434'\n",
       "216. '435'\n",
       "217. '436'\n",
       "218. '437'\n",
       "219. '438'\n",
       "220. '439'\n",
       "221. '44'\n",
       "222. '440'\n",
       "223. '441'\n",
       "224. '442'\n",
       "225. '443'\n",
       "226. '444'\n",
       "227. '445'\n",
       "228. '446'\n",
       "229. '447'\n",
       "230. '448'\n",
       "231. '449'\n",
       "232. '45'\n",
       "233. '450'\n",
       "234. '451'\n",
       "235. '452'\n",
       "236. '453'\n",
       "237. '454'\n",
       "238. '455'\n",
       "239. '456'\n",
       "240. '457'\n",
       "241. '458'\n",
       "242. '459'\n",
       "243. '46'\n",
       "244. '460'\n",
       "245. '461'\n",
       "246. '462'\n",
       "247. '463'\n",
       "248. '464'\n",
       "249. '465'\n",
       "250. '466'\n",
       "251. '467'\n",
       "252. '468'\n",
       "253. '469'\n",
       "254. '47'\n",
       "255. '470'\n",
       "256. '471'\n",
       "257. '472'\n",
       "258. '473'\n",
       "259. '474'\n",
       "260. '475'\n",
       "261. '476'\n",
       "262. '477'\n",
       "263. '478'\n",
       "264. '479'\n",
       "265. '48'\n",
       "266. '480'\n",
       "267. '481'\n",
       "268. '482'\n",
       "269. '483'\n",
       "270. '484'\n",
       "271. '485'\n",
       "272. '486'\n",
       "273. '487'\n",
       "274. '488'\n",
       "275. '489'\n",
       "276. '49'\n",
       "277. '490'\n",
       "278. '491'\n",
       "279. '492'\n",
       "280. '493'\n",
       "281. '494'\n",
       "282. '495'\n",
       "283. '496'\n",
       "284. '497'\n",
       "285. '498'\n",
       "286. '499'\n",
       "287. '5'\n",
       "288. '50'\n",
       "289. '500'\n",
       "290. '501'\n",
       "291. '502'\n",
       "292. '503'\n",
       "293. '504'\n",
       "294. '505'\n",
       "295. '506'\n",
       "296. '507'\n",
       "297. '508'\n",
       "298. '509'\n",
       "299. '51'\n",
       "300. '510'\n",
       "301. '511'\n",
       "302. '512'\n",
       "303. '513'\n",
       "304. '514'\n",
       "305. '515'\n",
       "306. '516'\n",
       "307. '517'\n",
       "308. '518'\n",
       "309. '519'\n",
       "310. '52'\n",
       "311. '520'\n",
       "312. '521'\n",
       "313. '522'\n",
       "314. '523'\n",
       "315. '524'\n",
       "316. '525'\n",
       "317. '526'\n",
       "318. '527'\n",
       "319. '528'\n",
       "320. '529'\n",
       "321. '53'\n",
       "322. '530'\n",
       "323. '531'\n",
       "324. '532'\n",
       "325. '533'\n",
       "326. '534'\n",
       "327. '535'\n",
       "328. '536'\n",
       "329. '537'\n",
       "330. '538'\n",
       "331. '539'\n",
       "332. '54'\n",
       "333. '540'\n",
       "334. '541'\n",
       "335. '542'\n",
       "336. '543'\n",
       "337. '544'\n",
       "338. '545'\n",
       "339. '546'\n",
       "340. '547'\n",
       "341. '548'\n",
       "342. '549'\n",
       "343. '55'\n",
       "344. '550'\n",
       "345. '551'\n",
       "346. '552'\n",
       "347. '553'\n",
       "348. '554'\n",
       "349. '555'\n",
       "350. '556'\n",
       "351. '557'\n",
       "352. '558'\n",
       "353. '559'\n",
       "354. '56'\n",
       "355. '57'\n",
       "356. '58'\n",
       "357. '59'\n",
       "358. '6'\n",
       "359. '60'\n",
       "360. '61'\n",
       "361. '62'\n",
       "362. '63'\n",
       "363. '64'\n",
       "364. '65'\n",
       "365. '66'\n",
       "366. '67'\n",
       "367. '68'\n",
       "368. '69'\n",
       "369. '7'\n",
       "370. '70'\n",
       "371. '71'\n",
       "372. '72'\n",
       "373. '73'\n",
       "374. '74'\n",
       "375. '75'\n",
       "376. '76'\n",
       "377. '77'\n",
       "378. '78'\n",
       "379. '79'\n",
       "380. '8'\n",
       "381. '80'\n",
       "382. '81'\n",
       "383. '82'\n",
       "384. '83'\n",
       "385. '84'\n",
       "386. '85'\n",
       "387. '86'\n",
       "388. '87'\n",
       "389. '88'\n",
       "390. '89'\n",
       "391. '9'\n",
       "392. '90'\n",
       "393. '91'\n",
       "394. '92'\n",
       "395. '93'\n",
       "396. '94'\n",
       "397. '95'\n",
       "398. '96'\n",
       "399. '97'\n",
       "400. '98'\n",
       "401. '99'\n",
       "\n",
       "\n"
      ],
      "text/plain": [
       "  [1] \"1\"   \"10\"  \"100\" \"101\" \"102\" \"103\" \"104\" \"105\" \"106\" \"107\" \"108\" \"109\"\n",
       " [13] \"11\"  \"110\" \"111\" \"112\" \"113\" \"114\" \"115\" \"116\" \"117\" \"118\" \"119\" \"12\" \n",
       " [25] \"120\" \"121\" \"122\" \"123\" \"124\" \"125\" \"126\" \"127\" \"128\" \"129\" \"13\"  \"130\"\n",
       " [37] \"131\" \"132\" \"133\" \"134\" \"135\" \"136\" \"137\" \"138\" \"139\" \"14\"  \"140\" \"141\"\n",
       " [49] \"142\" \"143\" \"144\" \"145\" \"146\" \"147\" \"148\" \"149\" \"15\"  \"150\" \"151\" \"152\"\n",
       " [61] \"153\" \"154\" \"155\" \"156\" \"157\" \"158\" \"159\" \"16\"  \"160\" \"161\" \"162\" \"163\"\n",
       " [73] \"164\" \"165\" \"166\" \"167\" \"168\" \"169\" \"17\"  \"170\" \"171\" \"172\" \"173\" \"174\"\n",
       " [85] \"175\" \"176\" \"177\" \"178\" \"179\" \"18\"  \"180\" \"181\" \"182\" \"183\" \"184\" \"185\"\n",
       " [97] \"186\" \"187\" \"188\" \"189\" \"19\"  \"190\" \"191\" \"192\" \"193\" \"194\" \"195\" \"196\"\n",
       "[109] \"197\" \"198\" \"199\" \"2\"   \"20\"  \"200\" \"201\" \"202\" \"203\" \"204\" \"205\" \"206\"\n",
       "[121] \"207\" \"208\" \"209\" \"21\"  \"210\" \"211\" \"212\" \"213\" \"214\" \"215\" \"216\" \"217\"\n",
       "[133] \"218\" \"219\" \"22\"  \"220\" \"221\" \"222\" \"223\" \"224\" \"225\" \"226\" \"227\" \"228\"\n",
       "[145] \"229\" \"23\"  \"230\" \"231\" \"232\" \"233\" \"234\" \"235\" \"236\" \"237\" \"238\" \"239\"\n",
       "[157] \"24\"  \"240\" \"241\" \"242\" \"243\" \"244\" \"245\" \"246\" \"247\" \"248\" \"249\" \"25\" \n",
       "[169] \"250\" \"251\" \"252\" \"253\" \"254\" \"255\" \"256\" \"257\" \"258\" \"259\" \"26\"  \"260\"\n",
       "[181] \"261\" \"262\" \"263\" \"264\" \"265\" \"266\" \"267\" \"268\" \"269\" \"27\"  \"270\" \"271\"\n",
       "[193] \"272\" \"273\" \"274\" \"275\" \"276\" \"277\" \"278\" \"279\" \"28\"  \"280\" \"281\" \"282\"\n",
       "[205] \"283\" \"284\" \"285\" \"286\" \"287\" \"288\" \"289\" \"29\"  \"290\" \"291\" \"292\" \"293\"\n",
       "[217] \"294\" \"295\" \"296\" \"297\" \"298\" \"299\" \"3\"   \"30\"  \"300\" \"301\" \"302\" \"303\"\n",
       "[229] \"304\" \"305\" \"306\" \"307\" \"308\" \"309\" \"31\"  \"310\" \"311\" \"312\" \"313\" \"314\"\n",
       "[241] \"315\" \"316\" \"317\" \"318\" \"319\" \"32\"  \"320\" \"321\" \"322\" \"323\" \"324\" \"325\"\n",
       "[253] \"326\" \"327\" \"328\" \"329\" \"33\"  \"330\" \"331\" \"332\" \"333\" \"334\" \"335\" \"336\"\n",
       "[265] \"337\" \"338\" \"339\" \"34\"  \"340\" \"341\" \"342\" \"343\" \"344\" \"345\" \"346\" \"347\"\n",
       "[277] \"348\" \"349\" \"35\"  \"350\" \"351\" \"352\" \"353\" \"354\" \"355\" \"356\" \"357\" \"358\"\n",
       "[289] \"359\" \"36\"  \"360\" \"361\" \"362\" \"363\" \"364\" \"365\" \"366\" \"367\" \"368\" \"369\"\n",
       "[301] \"37\"  \"370\" \"371\" \"372\" \"373\" \"374\" \"375\" \"376\" \"377\" \"378\" \"379\" \"38\" \n",
       "[313] \"380\" \"381\" \"382\" \"383\" \"384\" \"385\" \"386\" \"387\" \"388\" \"389\" \"39\"  \"390\"\n",
       "[325] \"391\" \"392\" \"393\" \"394\" \"395\" \"396\" \"397\" \"398\" \"399\" \"4\"   \"40\"  \"400\"\n",
       "[337] \"401\" \"402\" \"403\" \"404\" \"405\" \"406\" \"407\" \"408\" \"409\" \"41\"  \"410\" \"411\"\n",
       "[349] \"412\" \"413\" \"414\" \"415\" \"416\" \"417\" \"418\" \"419\" \"42\"  \"420\" \"421\" \"422\"\n",
       "[361] \"423\" \"424\" \"425\" \"426\" \"427\" \"428\" \"429\" \"43\"  \"430\" \"431\" \"432\" \"433\"\n",
       "[373] \"434\" \"435\" \"436\" \"437\" \"438\" \"439\" \"44\"  \"440\" \"441\" \"442\" \"443\" \"444\"\n",
       "[385] \"445\" \"446\" \"447\" \"448\" \"449\" \"45\"  \"450\" \"451\" \"452\" \"453\" \"454\" \"455\"\n",
       "[397] \"456\" \"457\" \"458\" \"459\" \"46\"  \"460\" \"461\" \"462\" \"463\" \"464\" \"465\" \"466\"\n",
       "[409] \"467\" \"468\" \"469\" \"47\"  \"470\" \"471\" \"472\" \"473\" \"474\" \"475\" \"476\" \"477\"\n",
       "[421] \"478\" \"479\" \"48\"  \"480\" \"481\" \"482\" \"483\" \"484\" \"485\" \"486\" \"487\" \"488\"\n",
       "[433] \"489\" \"49\"  \"490\" \"491\" \"492\" \"493\" \"494\" \"495\" \"496\" \"497\" \"498\" \"499\"\n",
       "[445] \"5\"   \"50\"  \"500\" \"501\" \"502\" \"503\" \"504\" \"505\" \"506\" \"507\" \"508\" \"509\"\n",
       "[457] \"51\"  \"510\" \"511\" \"512\" \"513\" \"514\" \"515\" \"516\" \"517\" \"518\" \"519\" \"52\" \n",
       "[469] \"520\" \"521\" \"522\" \"523\" \"524\" \"525\" \"526\" \"527\" \"528\" \"529\" \"53\"  \"530\"\n",
       "[481] \"531\" \"532\" \"533\" \"534\" \"535\" \"536\" \"537\" \"538\" \"539\" \"54\"  \"540\" \"541\"\n",
       "[493] \"542\" \"543\" \"544\" \"545\" \"546\" \"547\" \"548\" \"549\" \"55\"  \"550\" \"551\" \"552\"\n",
       "[505] \"553\" \"554\" \"555\" \"556\" \"557\" \"558\" \"559\" \"56\"  \"57\"  \"58\"  \"59\"  \"6\"  \n",
       "[517] \"60\"  \"61\"  \"62\"  \"63\"  \"64\"  \"65\"  \"66\"  \"67\"  \"68\"  \"69\"  \"7\"   \"70\" \n",
       "[529] \"71\"  \"72\"  \"73\"  \"74\"  \"75\"  \"76\"  \"77\"  \"78\"  \"79\"  \"8\"   \"80\"  \"81\" \n",
       "[541] \"82\"  \"83\"  \"84\"  \"85\"  \"86\"  \"87\"  \"88\"  \"89\"  \"9\"   \"90\"  \"91\"  \"92\" \n",
       "[553] \"93\"  \"94\"  \"95\"  \"96\"  \"97\"  \"98\"  \"99\" "
      ]
     },
     "metadata": {},
     "output_type": "display_data"
    }
   ],
   "source": [
    "names( GoTs1.json.fromFile[[ names(GoTs1.json.fromFile)[1] ]] )"
   ]
  },
  {
   "cell_type": "code",
   "execution_count": 26,
   "metadata": {},
   "outputs": [
    {
     "data": {
      "text/html": [
       "<strong>$`1`</strong> = 'Easy, boy.'"
      ],
      "text/latex": [
       "\\textbf{\\$`1`} = 'Easy, boy.'"
      ],
      "text/markdown": [
       "**$`1`** = 'Easy, boy.'"
      ],
      "text/plain": [
       "$`1`\n",
       "[1] \"Easy, boy.\"\n"
      ]
     },
     "metadata": {},
     "output_type": "display_data"
    }
   ],
   "source": [
    "GoTs1.json.fromFile[[ names(GoTs1.json.fromFile)[1] ]][1]"
   ]
  },
  {
   "cell_type": "code",
   "execution_count": 27,
   "metadata": {},
   "outputs": [
    {
     "data": {
      "text/html": [
       "TRUE"
      ],
      "text/latex": [
       "TRUE"
      ],
      "text/markdown": [
       "TRUE"
      ],
      "text/plain": [
       "[1] TRUE"
      ]
     },
     "metadata": {},
     "output_type": "display_data"
    }
   ],
   "source": [
    "is.list( GoTs1.json.fromFile[[ names(GoTs1.json.fromFile)[1] ]][1] )"
   ]
  },
  {
   "cell_type": "code",
   "execution_count": 28,
   "metadata": {},
   "outputs": [
    {
     "data": {
      "text/html": [
       "'Easy, boy.'"
      ],
      "text/latex": [
       "'Easy, boy.'"
      ],
      "text/markdown": [
       "'Easy, boy.'"
      ],
      "text/plain": [
       "[1] \"Easy, boy.\""
      ]
     },
     "metadata": {},
     "output_type": "display_data"
    }
   ],
   "source": [
    "GoTs1.json.fromFile[[ names(GoTs1.json.fromFile)[1] ]][['1']]"
   ]
  },
  {
   "cell_type": "code",
   "execution_count": 29,
   "metadata": {},
   "outputs": [
    {
     "data": {
      "text/html": [
       "10"
      ],
      "text/latex": [
       "10"
      ],
      "text/markdown": [
       "10"
      ],
      "text/plain": [
       "[1] 10"
      ]
     },
     "metadata": {},
     "output_type": "display_data"
    }
   ],
   "source": [
    "nchar( GoTs1.json.fromFile[[ names(GoTs1.json.fromFile)[1] ]][['1']] )"
   ]
  },
  {
   "cell_type": "code",
   "execution_count": 30,
   "metadata": {},
   "outputs": [
    {
     "data": {
      "text/html": [
       "559"
      ],
      "text/latex": [
       "559"
      ],
      "text/markdown": [
       "559"
      ],
      "text/plain": [
       "[1] 559"
      ]
     },
     "metadata": {},
     "output_type": "display_data"
    }
   ],
   "source": [
    "length( GoTs1.json.fromFile[[ names(GoTs1.json.fromFile)[1] ]] )"
   ]
  },
  {
   "cell_type": "code",
   "execution_count": 31,
   "metadata": {},
   "outputs": [
    {
     "data": {
      "text/html": [
       "'12'"
      ],
      "text/latex": [
       "'12'"
      ],
      "text/markdown": [
       "'12'"
      ],
      "text/plain": [
       "[1] \"12\""
      ]
     },
     "metadata": {},
     "output_type": "display_data"
    }
   ],
   "source": [
    "as.character(12)"
   ]
  },
  {
   "cell_type": "code",
   "execution_count": 32,
   "metadata": {},
   "outputs": [
    {
     "name": "stdout",
     "output_type": "stream",
     "text": [
      "[1] \"Easy, boy.\"\n",
      "[1] \"What do you expect? They're savages.\"\n",
      "[1] \"One lot steals a goat from another lot,\"\n",
      "[1] \"before you know it they're ripping each other to pieces.\"\n",
      "[1] \"I've never seen wildlings do a thing like this.\"\n",
      "[1] \"I never seen a thing like this, not ever in my life.\"\n"
     ]
    }
   ],
   "source": [
    "#print first three lines of the season\n",
    "for (ii in 1:6){\n",
    "    line.char = as.character(ii)\n",
    "    line.tmp = GoTs1.json.fromFile[[ names(GoTs1.json.fromFile)[1] ]][[line.char]]\n",
    "    print(line.tmp)\n",
    "}"
   ]
  },
  {
   "cell_type": "code",
   "execution_count": 37,
   "metadata": {},
   "outputs": [
    {
     "data": {
      "text/html": [
       "<style>\n",
       ".list-inline {list-style: none; margin:0; padding: 0}\n",
       ".list-inline>li {display: inline-block}\n",
       ".list-inline>li:not(:last-child)::after {content: \"\\00b7\"; padding: 0 .5ex}\n",
       "</style>\n",
       "<ol class=list-inline><li>'17'</li><li>'497'</li><li>'547'</li><li>'265'</li><li>'519'</li><li>'418'</li><li>'317'</li><li>'445'</li><li>'96'</li><li>'362'</li><li>'351'</li><li>'416'</li><li>'300'</li><li>'536'</li><li>'182'</li></ol>\n"
      ],
      "text/latex": [
       "\\begin{enumerate*}\n",
       "\\item '17'\n",
       "\\item '497'\n",
       "\\item '547'\n",
       "\\item '265'\n",
       "\\item '519'\n",
       "\\item '418'\n",
       "\\item '317'\n",
       "\\item '445'\n",
       "\\item '96'\n",
       "\\item '362'\n",
       "\\item '351'\n",
       "\\item '416'\n",
       "\\item '300'\n",
       "\\item '536'\n",
       "\\item '182'\n",
       "\\end{enumerate*}\n"
      ],
      "text/markdown": [
       "1. '17'\n",
       "2. '497'\n",
       "3. '547'\n",
       "4. '265'\n",
       "5. '519'\n",
       "6. '418'\n",
       "7. '317'\n",
       "8. '445'\n",
       "9. '96'\n",
       "10. '362'\n",
       "11. '351'\n",
       "12. '416'\n",
       "13. '300'\n",
       "14. '536'\n",
       "15. '182'\n",
       "\n",
       "\n"
      ],
      "text/plain": [
       " [1] \"17\"  \"497\" \"547\" \"265\" \"519\" \"418\" \"317\" \"445\" \"96\"  \"362\" \"351\" \"416\"\n",
       "[13] \"300\" \"536\" \"182\""
      ]
     },
     "metadata": {},
     "output_type": "display_data"
    }
   ],
   "source": [
    "num.lines = length( GoTs1.json.fromFile[[ names(GoTs1.json.fromFile)[1] ]] )\n",
    "line.samples = sample(x = 1:num.lines,size = 15,replace = FALSE)\n",
    "as.character(line.samples)"
   ]
  },
  {
   "cell_type": "code",
   "execution_count": 38,
   "metadata": {},
   "outputs": [],
   "source": [
    "keys.tmp = as.character(line.samples)"
   ]
  },
  {
   "cell_type": "code",
   "execution_count": 39,
   "metadata": {},
   "outputs": [
    {
     "data": {
      "text/html": [
       "'Easy, boy.'"
      ],
      "text/latex": [
       "'Easy, boy.'"
      ],
      "text/markdown": [
       "'Easy, boy.'"
      ],
      "text/plain": [
       "[1] \"Easy, boy.\""
      ]
     },
     "metadata": {},
     "output_type": "display_data"
    }
   ],
   "source": [
    "GoTs1.json.fromFile[[ names(GoTs1.json.fromFile)[1] ]][[c('1')]]"
   ]
  },
  {
   "cell_type": "code",
   "execution_count": 40,
   "metadata": {},
   "outputs": [
    {
     "data": {
      "text/html": [
       "'Game Of Thrones S01E01 Winter Is Coming.srt'"
      ],
      "text/latex": [
       "'Game Of Thrones S01E01 Winter Is Coming.srt'"
      ],
      "text/markdown": [
       "'Game Of Thrones S01E01 Winter Is Coming.srt'"
      ],
      "text/plain": [
       "[1] \"Game Of Thrones S01E01 Winter Is Coming.srt\""
      ]
     },
     "metadata": {},
     "output_type": "display_data"
    }
   ],
   "source": [
    "names(GoTs1.json.fromFile)[1]"
   ]
  },
  {
   "cell_type": "code",
   "execution_count": 41,
   "metadata": {},
   "outputs": [
    {
     "data": {
      "text/html": [
       "'17'"
      ],
      "text/latex": [
       "'17'"
      ],
      "text/markdown": [
       "'17'"
      ],
      "text/plain": [
       "[1] \"17\""
      ]
     },
     "metadata": {},
     "output_type": "display_data"
    }
   ],
   "source": [
    "keys.tmp[1]"
   ]
  },
  {
   "cell_type": "code",
   "execution_count": 42,
   "metadata": {},
   "outputs": [
    {
     "name": "stdout",
     "output_type": "stream",
     "text": [
      "[1] \"You want to run away south, run away.\"\n",
      "[1] \"He owes him nothing.\"\n",
      "[1] \"- I hope I'll serve you well. - You will.\"\n",
      "[1] \"Come on, girls.\"\n",
      "[1] \"from the Shadow Lands beyond Asshai.\"\n",
      "[1] \"Direwolves south of the Wall,\"\n",
      "[1] \"Did he like her?\"\n",
      "[1] \"It would be good to have you on the field.\"\n",
      "[1] \"Where will they go?\"\n",
      "[1] \"Fill that up! Boys, Rodrik, come on.\"\n",
      "[1] \"Hush now. Your father hasn't even said yes.\"\n",
      "[1] \"Hmph. A wildling ambush.\"\n",
      "[1] \"The Dothraki are not known for their punctuality.\"\n",
      "[1] \"I didn't pick you for a hunter.\"\n",
      "[1] \"What are you doing with that on?\"\n"
     ]
    }
   ],
   "source": [
    "for (ii in 1:length(line.samples)){\n",
    "    print( GoTs1.json.fromFile[[ names(GoTs1.json.fromFile)[1] ]][[keys.tmp[ii]]] )\n",
    "    \n",
    "}"
   ]
  },
  {
   "cell_type": "code",
   "execution_count": 43,
   "metadata": {},
   "outputs": [
    {
     "name": "stdout",
     "output_type": "stream",
     "text": [
      "$`17`\n",
      "[1] \"You want to run away south, run away.\"\n",
      "\n",
      "$`497`\n",
      "[1] \"He owes him nothing.\"\n",
      "\n",
      "$`547`\n",
      "[1] \"- I hope I'll serve you well. - You will.\"\n",
      "\n",
      "$`265`\n",
      "[1] \"Come on, girls.\"\n",
      "\n",
      "$`519`\n",
      "[1] \"from the Shadow Lands beyond Asshai.\"\n",
      "\n",
      "$`418`\n",
      "[1] \"Direwolves south of the Wall,\"\n",
      "\n",
      "$`317`\n",
      "[1] \"Did he like her?\"\n",
      "\n",
      "$`445`\n",
      "[1] \"It would be good to have you on the field.\"\n",
      "\n",
      "$`96`\n",
      "[1] \"Where will they go?\"\n",
      "\n",
      "$`362`\n",
      "[1] \"Fill that up! Boys, Rodrik, come on.\"\n",
      "\n",
      "$`351`\n",
      "[1] \"Hush now. Your father hasn't even said yes.\"\n",
      "\n",
      "$`416`\n",
      "[1] \"Hmph. A wildling ambush.\"\n",
      "\n",
      "$`300`\n",
      "[1] \"The Dothraki are not known for their punctuality.\"\n",
      "\n",
      "$`536`\n",
      "[1] \"I didn't pick you for a hunter.\"\n",
      "\n",
      "$`182`\n",
      "[1] \"What are you doing with that on?\"\n",
      "\n"
     ]
    }
   ],
   "source": [
    "#select the lines from an array in the list (single square quote characters)\n",
    "print( GoTs1.json.fromFile[[ names(GoTs1.json.fromFile)[1] ]][keys.tmp] )"
   ]
  },
  {
   "cell_type": "markdown",
   "metadata": {},
   "source": [
    "### Let's modify the script a bit to read differently..."
   ]
  },
  {
   "cell_type": "code",
   "execution_count": 44,
   "metadata": {},
   "outputs": [],
   "source": [
    "GoTs1.json.fromFile[[ names(GoTs1.json.fromFile)[1] ]][['1']] = 'Howdy partner!!! howdy from FL'"
   ]
  },
  {
   "cell_type": "code",
   "execution_count": 45,
   "metadata": {},
   "outputs": [
    {
     "data": {
      "text/html": [
       "'Howdy partner!!! howdy from FL'"
      ],
      "text/latex": [
       "'Howdy partner!!! howdy from FL'"
      ],
      "text/markdown": [
       "'Howdy partner!!! howdy from FL'"
      ],
      "text/plain": [
       "[1] \"Howdy partner!!! howdy from FL\""
      ]
     },
     "metadata": {},
     "output_type": "display_data"
    }
   ],
   "source": [
    "GoTs1.json.fromFile[[ names(GoTs1.json.fromFile)[1] ]][['1']]"
   ]
  },
  {
   "cell_type": "code",
   "execution_count": 46,
   "metadata": {},
   "outputs": [
    {
     "data": {
      "text/html": [
       "<dl>\n",
       "\t<dt>$`1`</dt>\n",
       "\t\t<dd>'Howdy partner!!! howdy from FL'</dd>\n",
       "\t<dt>$`2`</dt>\n",
       "\t\t<dd>'What do you expect? They\\'re savages.'</dd>\n",
       "\t<dt>$`3`</dt>\n",
       "\t\t<dd>'One lot steals a goat from another lot,'</dd>\n",
       "</dl>\n"
      ],
      "text/latex": [
       "\\begin{description}\n",
       "\\item[\\$`1`] 'Howdy partner!!! howdy from FL'\n",
       "\\item[\\$`2`] 'What do you expect? They\\textbackslash{}'re savages.'\n",
       "\\item[\\$`3`] 'One lot steals a goat from another lot,'\n",
       "\\end{description}\n"
      ],
      "text/markdown": [
       "$`1`\n",
       ":   'Howdy partner!!! howdy from FL'\n",
       "$`2`\n",
       ":   'What do you expect? They\\'re savages.'\n",
       "$`3`\n",
       ":   'One lot steals a goat from another lot,'\n",
       "\n",
       "\n"
      ],
      "text/plain": [
       "$`1`\n",
       "[1] \"Howdy partner!!! howdy from FL\"\n",
       "\n",
       "$`2`\n",
       "[1] \"What do you expect? They're savages.\"\n",
       "\n",
       "$`3`\n",
       "[1] \"One lot steals a goat from another lot,\"\n"
      ]
     },
     "metadata": {},
     "output_type": "display_data"
    }
   ],
   "source": [
    "GoTs1.json.fromFile[[ names(GoTs1.json.fromFile)[1] ]][c('1','2','3')]"
   ]
  },
  {
   "cell_type": "markdown",
   "metadata": {},
   "source": [
    "### Write the JSON to file"
   ]
  },
  {
   "cell_type": "code",
   "execution_count": 48,
   "metadata": {},
   "outputs": [],
   "source": [
    "write( toJSON(GoTs1.json.fromFile) , \"./GoTsubtitles/myseason1.json\")"
   ]
  },
  {
   "cell_type": "markdown",
   "metadata": {},
   "source": [
    "### check the new file"
   ]
  },
  {
   "cell_type": "code",
   "execution_count": 52,
   "metadata": {},
   "outputs": [
    {
     "name": "stdout",
     "output_type": "stream",
     "text": [
      "{\"Game Of Thrones S01E01 Winter Is Coming.srt\":{\"1\":\"Howdy partner!!! howdy fro\n",
      "NULL\n"
     ]
    }
   ],
   "source": [
    "#print the first 12 lines of the json file\n",
    "tmp  = file.head(\"./GoTsubtitles/myseason1.json\", 44, truncate.cols = TRUE)\n",
    "print(tmp)"
   ]
  },
  {
   "cell_type": "markdown",
   "metadata": {},
   "source": [
    "### Read the new JSON from file"
   ]
  },
  {
   "cell_type": "code",
   "execution_count": 53,
   "metadata": {},
   "outputs": [],
   "source": [
    "myGoTs1.json.fromFile = fromJSON(file=\"./GoTsubtitles/myseason1.json\")"
   ]
  },
  {
   "cell_type": "code",
   "execution_count": 54,
   "metadata": {},
   "outputs": [
    {
     "data": {
      "text/html": [
       "<dl>\n",
       "\t<dt>$`1`</dt>\n",
       "\t\t<dd>'Howdy partner!!! howdy from FL'</dd>\n",
       "\t<dt>$`2`</dt>\n",
       "\t\t<dd>'What do you expect? They\\'re savages.'</dd>\n",
       "\t<dt>$`3`</dt>\n",
       "\t\t<dd>'One lot steals a goat from another lot,'</dd>\n",
       "</dl>\n"
      ],
      "text/latex": [
       "\\begin{description}\n",
       "\\item[\\$`1`] 'Howdy partner!!! howdy from FL'\n",
       "\\item[\\$`2`] 'What do you expect? They\\textbackslash{}'re savages.'\n",
       "\\item[\\$`3`] 'One lot steals a goat from another lot,'\n",
       "\\end{description}\n"
      ],
      "text/markdown": [
       "$`1`\n",
       ":   'Howdy partner!!! howdy from FL'\n",
       "$`2`\n",
       ":   'What do you expect? They\\'re savages.'\n",
       "$`3`\n",
       ":   'One lot steals a goat from another lot,'\n",
       "\n",
       "\n"
      ],
      "text/plain": [
       "$`1`\n",
       "[1] \"Howdy partner!!! howdy from FL\"\n",
       "\n",
       "$`2`\n",
       "[1] \"What do you expect? They're savages.\"\n",
       "\n",
       "$`3`\n",
       "[1] \"One lot steals a goat from another lot,\"\n"
      ]
     },
     "metadata": {},
     "output_type": "display_data"
    }
   ],
   "source": [
    "myGoTs1.json.fromFile[[ names(GoTs1.json.fromFile)[1] ]][c('1','2','3')]"
   ]
  },
  {
   "cell_type": "markdown",
   "metadata": {},
   "source": [
    "## now you can redirect your own version of the story!\n",
    "\n",
    "### <span style=\"color:orange\">JSONs are becoming increasingly important</span>"
   ]
  },
  {
   "cell_type": "code",
   "execution_count": null,
   "metadata": {},
   "outputs": [],
   "source": []
  },
  {
   "cell_type": "code",
   "execution_count": 55,
   "metadata": {},
   "outputs": [
    {
     "data": {
      "text/html": [
       "<style>\n",
       ".list-inline {list-style: none; margin:0; padding: 0}\n",
       ".list-inline>li {display: inline-block}\n",
       ".list-inline>li:not(:last-child)::after {content: \"\\00b7\"; padding: 0 .5ex}\n",
       "</style>\n",
       "<ol class=list-inline><li>'Howdy'</li><li>'partner!!!'</li><li>'howdy'</li><li>'from'</li><li>'FL'</li></ol>\n"
      ],
      "text/latex": [
       "\\begin{enumerate*}\n",
       "\\item 'Howdy'\n",
       "\\item 'partner!!!'\n",
       "\\item 'howdy'\n",
       "\\item 'from'\n",
       "\\item 'FL'\n",
       "\\end{enumerate*}\n"
      ],
      "text/markdown": [
       "1. 'Howdy'\n",
       "2. 'partner!!!'\n",
       "3. 'howdy'\n",
       "4. 'from'\n",
       "5. 'FL'\n",
       "\n",
       "\n"
      ],
      "text/plain": [
       "[1] \"Howdy\"      \"partner!!!\" \"howdy\"      \"from\"       \"FL\"        "
      ]
     },
     "metadata": {},
     "output_type": "display_data"
    },
    {
     "name": "stdout",
     "output_type": "stream",
     "text": [
      "[1] 5\n"
     ]
    }
   ],
   "source": [
    "str.tmp = GoTs1.json.fromFile[[ names(GoTs1.json.fromFile)[1] ]][['1']] \n",
    "st = strsplit(str.tmp, \" \")[[1]]\n",
    "st\n",
    "print( length(st) )"
   ]
  },
  {
   "cell_type": "code",
   "execution_count": 56,
   "metadata": {},
   "outputs": [
    {
     "data": {
      "text/html": [
       "<ol>\n",
       "\t<li><style>\n",
       ".list-inline {list-style: none; margin:0; padding: 0}\n",
       ".list-inline>li {display: inline-block}\n",
       ".list-inline>li:not(:last-child)::after {content: \"\\00b7\"; padding: 0 .5ex}\n",
       "</style>\n",
       "<ol class=list-inline><li>'You'</li><li>'don\\'t'</li><li>'think'</li><li>'he\\'ll'</li><li>'ask'</li><li>'us'</li><li>'how'</li><li>'they'</li><li>'died?'</li></ol>\n",
       "</li>\n",
       "</ol>\n"
      ],
      "text/latex": [
       "\\begin{enumerate}\n",
       "\\item \\begin{enumerate*}\n",
       "\\item 'You'\n",
       "\\item 'don\\textbackslash{}'t'\n",
       "\\item 'think'\n",
       "\\item 'he\\textbackslash{}'ll'\n",
       "\\item 'ask'\n",
       "\\item 'us'\n",
       "\\item 'how'\n",
       "\\item 'they'\n",
       "\\item 'died?'\n",
       "\\end{enumerate*}\n",
       "\n",
       "\\end{enumerate}\n"
      ],
      "text/markdown": [
       "1. 1. 'You'\n",
       "2. 'don\\'t'\n",
       "3. 'think'\n",
       "4. 'he\\'ll'\n",
       "5. 'ask'\n",
       "6. 'us'\n",
       "7. 'how'\n",
       "8. 'they'\n",
       "9. 'died?'\n",
       "\n",
       "\n",
       "\n",
       "\n",
       "\n"
      ],
      "text/plain": [
       "[[1]]\n",
       "[1] \"You\"   \"don't\" \"think\" \"he'll\" \"ask\"   \"us\"    \"how\"   \"they\"  \"died?\"\n"
      ]
     },
     "metadata": {},
     "output_type": "display_data"
    }
   ],
   "source": [
    "str.tmp = GoTs1.json.fromFile[[ names(GoTs1.json.fromFile)[1] ]][['12']] \n",
    "strsplit(str.tmp, \" \")"
   ]
  },
  {
   "cell_type": "code",
   "execution_count": 57,
   "metadata": {},
   "outputs": [
    {
     "data": {
      "text/html": [
       "'list'"
      ],
      "text/latex": [
       "'list'"
      ],
      "text/markdown": [
       "'list'"
      ],
      "text/plain": [
       "[1] \"list\""
      ]
     },
     "metadata": {},
     "output_type": "display_data"
    }
   ],
   "source": [
    "typeof( strsplit(str.tmp, \" \") )"
   ]
  },
  {
   "cell_type": "code",
   "execution_count": 58,
   "metadata": {},
   "outputs": [
    {
     "data": {
      "text/html": [
       "<style>\n",
       ".list-inline {list-style: none; margin:0; padding: 0}\n",
       ".list-inline>li {display: inline-block}\n",
       ".list-inline>li:not(:last-child)::after {content: \"\\00b7\"; padding: 0 .5ex}\n",
       "</style>\n",
       "<ol class=list-inline><li>'You'</li><li>'don\\'t'</li><li>'think'</li><li>'he\\'ll'</li><li>'ask'</li><li>'us'</li><li>'how'</li><li>'they'</li><li>'died?'</li></ol>\n"
      ],
      "text/latex": [
       "\\begin{enumerate*}\n",
       "\\item 'You'\n",
       "\\item 'don\\textbackslash{}'t'\n",
       "\\item 'think'\n",
       "\\item 'he\\textbackslash{}'ll'\n",
       "\\item 'ask'\n",
       "\\item 'us'\n",
       "\\item 'how'\n",
       "\\item 'they'\n",
       "\\item 'died?'\n",
       "\\end{enumerate*}\n"
      ],
      "text/markdown": [
       "1. 'You'\n",
       "2. 'don\\'t'\n",
       "3. 'think'\n",
       "4. 'he\\'ll'\n",
       "5. 'ask'\n",
       "6. 'us'\n",
       "7. 'how'\n",
       "8. 'they'\n",
       "9. 'died?'\n",
       "\n",
       "\n"
      ],
      "text/plain": [
       "[1] \"You\"   \"don't\" \"think\" \"he'll\" \"ask\"   \"us\"    \"how\"   \"they\"  \"died?\""
      ]
     },
     "metadata": {},
     "output_type": "display_data"
    }
   ],
   "source": [
    "strsplit(str.tmp, \" \")[[1]]"
   ]
  },
  {
   "cell_type": "code",
   "execution_count": 59,
   "metadata": {},
   "outputs": [
    {
     "data": {
      "text/html": [
       "'think'"
      ],
      "text/latex": [
       "'think'"
      ],
      "text/markdown": [
       "'think'"
      ],
      "text/plain": [
       "[1] \"think\""
      ]
     },
     "metadata": {},
     "output_type": "display_data"
    }
   ],
   "source": [
    "strsplit(str.tmp, \" \")[[1]][3]"
   ]
  },
  {
   "cell_type": "code",
   "execution_count": 60,
   "metadata": {},
   "outputs": [
    {
     "data": {
      "text/html": [
       "TRUE"
      ],
      "text/latex": [
       "TRUE"
      ],
      "text/markdown": [
       "TRUE"
      ],
      "text/plain": [
       "[1] TRUE"
      ]
     },
     "metadata": {},
     "output_type": "display_data"
    }
   ],
   "source": [
    "strsplit(str.tmp, \" \")[[1]][3] == 'think'"
   ]
  },
  {
   "cell_type": "code",
   "execution_count": 61,
   "metadata": {},
   "outputs": [
    {
     "data": {
      "text/html": [
       "FALSE"
      ],
      "text/latex": [
       "FALSE"
      ],
      "text/markdown": [
       "FALSE"
      ],
      "text/plain": [
       "[1] FALSE"
      ]
     },
     "metadata": {},
     "output_type": "display_data"
    }
   ],
   "source": [
    "strsplit(str.tmp, \" \")[[1]][3] == 'thinks'"
   ]
  },
  {
   "cell_type": "code",
   "execution_count": 62,
   "metadata": {},
   "outputs": [
    {
     "data": {
      "text/html": [
       "'Game Of Thrones S01E07 You Win Or You Die.srt'"
      ],
      "text/latex": [
       "'Game Of Thrones S01E07 You Win Or You Die.srt'"
      ],
      "text/markdown": [
       "'Game Of Thrones S01E07 You Win Or You Die.srt'"
      ],
      "text/plain": [
       "[1] \"Game Of Thrones S01E07 You Win Or You Die.srt\""
      ]
     },
     "metadata": {},
     "output_type": "display_data"
    }
   ],
   "source": [
    "names(GoTs1.json.fromFile)[7]"
   ]
  },
  {
   "cell_type": "code",
   "execution_count": 55,
   "metadata": {},
   "outputs": [
    {
     "name": "stderr",
     "output_type": "stream",
     "text": [
      "Installing package into ‘/home/resort/R/x86_64-pc-linux-gnu-library/4.1’\n",
      "(as ‘lib’ is unspecified)\n",
      "\n",
      "Warning message:\n",
      "“package ‘tools’ is a base package, and should not be updated”\n"
     ]
    }
   ],
   "source": [
    "install.packages('tools')"
   ]
  },
  {
   "cell_type": "code",
   "execution_count": 63,
   "metadata": {},
   "outputs": [],
   "source": [
    "library('tools')"
   ]
  },
  {
   "cell_type": "code",
   "execution_count": 64,
   "metadata": {},
   "outputs": [
    {
     "data": {
      "text/html": [
       "<ol>\n",
       "</ol>\n"
      ],
      "text/latex": [
       "\\begin{enumerate}\n",
       "\\end{enumerate}\n"
      ],
      "text/markdown": [
       "\n",
       "\n"
      ],
      "text/plain": [
       "list()"
      ]
     },
     "metadata": {},
     "output_type": "display_data"
    }
   ],
   "source": [
    "GoTs.list = list()\n",
    "GoTs.list"
   ]
  },
  {
   "cell_type": "code",
   "execution_count": 65,
   "metadata": {},
   "outputs": [
    {
     "data": {
      "text/html": [
       "TRUE"
      ],
      "text/latex": [
       "TRUE"
      ],
      "text/markdown": [
       "TRUE"
      ],
      "text/plain": [
       "[1] TRUE"
      ]
     },
     "metadata": {},
     "output_type": "display_data"
    }
   ],
   "source": [
    "is.list(GoTs.list)"
   ]
  },
  {
   "cell_type": "code",
   "execution_count": 66,
   "metadata": {},
   "outputs": [
    {
     "data": {
      "text/html": [
       "'json'"
      ],
      "text/latex": [
       "'json'"
      ],
      "text/markdown": [
       "'json'"
      ],
      "text/plain": [
       "[1] \"json\""
      ]
     },
     "metadata": {},
     "output_type": "display_data"
    }
   ],
   "source": [
    "file_ext('season1.json')"
   ]
  },
  {
   "cell_type": "code",
   "execution_count": 67,
   "metadata": {},
   "outputs": [
    {
     "name": "stdout",
     "output_type": "stream",
     "text": [
      "[1] \"json\"\n",
      "[1] \"json\"\n",
      "[1] \"json\"\n",
      "[1] \"json\"\n",
      "[1] \"json\"\n",
      "[1] \"json\"\n",
      "[1] \"json\"\n",
      "[1] \"json\"\n"
     ]
    },
    {
     "data": {
      "text/html": [
       "<style>\n",
       ".list-inline {list-style: none; margin:0; padding: 0}\n",
       ".list-inline>li {display: inline-block}\n",
       ".list-inline>li:not(:last-child)::after {content: \"\\00b7\"; padding: 0 .5ex}\n",
       "</style>\n",
       "<ol class=list-inline><li>'myseason1.json'</li><li>'season1.json'</li><li>'season2.json'</li><li>'season3.json'</li><li>'season4.json'</li><li>'season5.json'</li><li>'season6.json'</li><li>'season7.json'</li></ol>\n"
      ],
      "text/latex": [
       "\\begin{enumerate*}\n",
       "\\item 'myseason1.json'\n",
       "\\item 'season1.json'\n",
       "\\item 'season2.json'\n",
       "\\item 'season3.json'\n",
       "\\item 'season4.json'\n",
       "\\item 'season5.json'\n",
       "\\item 'season6.json'\n",
       "\\item 'season7.json'\n",
       "\\end{enumerate*}\n"
      ],
      "text/markdown": [
       "1. 'myseason1.json'\n",
       "2. 'season1.json'\n",
       "3. 'season2.json'\n",
       "4. 'season3.json'\n",
       "5. 'season4.json'\n",
       "6. 'season5.json'\n",
       "7. 'season6.json'\n",
       "8. 'season7.json'\n",
       "\n",
       "\n"
      ],
      "text/plain": [
       "[1] \"myseason1.json\" \"season1.json\"   \"season2.json\"   \"season3.json\"  \n",
       "[5] \"season4.json\"   \"season5.json\"   \"season6.json\"   \"season7.json\"  "
      ]
     },
     "metadata": {},
     "output_type": "display_data"
    }
   ],
   "source": [
    "for( ii in list.files('./GoTsubtitles') ){\n",
    "    ext = file_ext(ii)\n",
    "    print(ext)\n",
    "    if( ext == 'json' ){\n",
    "        loadStr = paste0('./GoTsubtitles/',ii)\n",
    "        season.key = ii\n",
    "        GoTs.list[[season.key]] = fromJSON(file=loadStr)\n",
    "    } else{\n",
    "        print('not json!')\n",
    "    }\n",
    "}\n",
    "names(GoTs.list)"
   ]
  },
  {
   "cell_type": "code",
   "execution_count": 68,
   "metadata": {},
   "outputs": [
    {
     "data": {
      "text/html": [
       "<style>\n",
       ".list-inline {list-style: none; margin:0; padding: 0}\n",
       ".list-inline>li {display: inline-block}\n",
       ".list-inline>li:not(:last-child)::after {content: \"\\00b7\"; padding: 0 .5ex}\n",
       "</style>\n",
       "<ol class=list-inline><li>'myseason1.json'</li><li>'season1.json'</li><li>'season2.json'</li><li>'season3.json'</li><li>'season4.json'</li><li>'season5.json'</li><li>'season6.json'</li><li>'season7.json'</li></ol>\n"
      ],
      "text/latex": [
       "\\begin{enumerate*}\n",
       "\\item 'myseason1.json'\n",
       "\\item 'season1.json'\n",
       "\\item 'season2.json'\n",
       "\\item 'season3.json'\n",
       "\\item 'season4.json'\n",
       "\\item 'season5.json'\n",
       "\\item 'season6.json'\n",
       "\\item 'season7.json'\n",
       "\\end{enumerate*}\n"
      ],
      "text/markdown": [
       "1. 'myseason1.json'\n",
       "2. 'season1.json'\n",
       "3. 'season2.json'\n",
       "4. 'season3.json'\n",
       "5. 'season4.json'\n",
       "6. 'season5.json'\n",
       "7. 'season6.json'\n",
       "8. 'season7.json'\n",
       "\n",
       "\n"
      ],
      "text/plain": [
       "[1] \"myseason1.json\" \"season1.json\"   \"season2.json\"   \"season3.json\"  \n",
       "[5] \"season4.json\"   \"season5.json\"   \"season6.json\"   \"season7.json\"  "
      ]
     },
     "metadata": {},
     "output_type": "display_data"
    }
   ],
   "source": [
    "names(GoTs.list)"
   ]
  },
  {
   "cell_type": "code",
   "execution_count": 69,
   "metadata": {},
   "outputs": [
    {
     "data": {
      "text/html": [
       "<style>\n",
       ".list-inline {list-style: none; margin:0; padding: 0}\n",
       ".list-inline>li {display: inline-block}\n",
       ".list-inline>li:not(:last-child)::after {content: \"\\00b7\"; padding: 0 .5ex}\n",
       "</style>\n",
       "<ol class=list-inline><li>'Game Of Thrones S06E01 The Red Woman.srt'</li><li>'Game Of Thrones S06E02 Home.srt'</li><li>'Game Of Thrones S06E03 Oathbreaker.srt'</li><li>'Game Of Thrones S06E04 Book of the Stranger.srt'</li><li>'Game Of Thrones S06E05 The Door.srt'</li><li>'Game Of Thrones S06E06 Blood of My Blood.srt'</li><li>'Game Of Thrones S06E07 The Broken Man.srt'</li><li>'Game Of Thrones S06E08 No One.srt'</li><li>'Game Of Thrones S06E09 Battle of the Bastards.srt'</li><li>'Game Of Thrones S06E10 The Winds of Winter.srt'</li></ol>\n"
      ],
      "text/latex": [
       "\\begin{enumerate*}\n",
       "\\item 'Game Of Thrones S06E01 The Red Woman.srt'\n",
       "\\item 'Game Of Thrones S06E02 Home.srt'\n",
       "\\item 'Game Of Thrones S06E03 Oathbreaker.srt'\n",
       "\\item 'Game Of Thrones S06E04 Book of the Stranger.srt'\n",
       "\\item 'Game Of Thrones S06E05 The Door.srt'\n",
       "\\item 'Game Of Thrones S06E06 Blood of My Blood.srt'\n",
       "\\item 'Game Of Thrones S06E07 The Broken Man.srt'\n",
       "\\item 'Game Of Thrones S06E08 No One.srt'\n",
       "\\item 'Game Of Thrones S06E09 Battle of the Bastards.srt'\n",
       "\\item 'Game Of Thrones S06E10 The Winds of Winter.srt'\n",
       "\\end{enumerate*}\n"
      ],
      "text/markdown": [
       "1. 'Game Of Thrones S06E01 The Red Woman.srt'\n",
       "2. 'Game Of Thrones S06E02 Home.srt'\n",
       "3. 'Game Of Thrones S06E03 Oathbreaker.srt'\n",
       "4. 'Game Of Thrones S06E04 Book of the Stranger.srt'\n",
       "5. 'Game Of Thrones S06E05 The Door.srt'\n",
       "6. 'Game Of Thrones S06E06 Blood of My Blood.srt'\n",
       "7. 'Game Of Thrones S06E07 The Broken Man.srt'\n",
       "8. 'Game Of Thrones S06E08 No One.srt'\n",
       "9. 'Game Of Thrones S06E09 Battle of the Bastards.srt'\n",
       "10. 'Game Of Thrones S06E10 The Winds of Winter.srt'\n",
       "\n",
       "\n"
      ],
      "text/plain": [
       " [1] \"Game Of Thrones S06E01 The Red Woman.srt\"         \n",
       " [2] \"Game Of Thrones S06E02 Home.srt\"                  \n",
       " [3] \"Game Of Thrones S06E03 Oathbreaker.srt\"           \n",
       " [4] \"Game Of Thrones S06E04 Book of the Stranger.srt\"  \n",
       " [5] \"Game Of Thrones S06E05 The Door.srt\"              \n",
       " [6] \"Game Of Thrones S06E06 Blood of My Blood.srt\"     \n",
       " [7] \"Game Of Thrones S06E07 The Broken Man.srt\"        \n",
       " [8] \"Game Of Thrones S06E08 No One.srt\"                \n",
       " [9] \"Game Of Thrones S06E09 Battle of the Bastards.srt\"\n",
       "[10] \"Game Of Thrones S06E10 The Winds of Winter.srt\"   "
      ]
     },
     "metadata": {},
     "output_type": "display_data"
    }
   ],
   "source": [
    "names( GoTs.list[[  list.files('./GoTsubtitles')[7]  ]] )"
   ]
  },
  {
   "cell_type": "code",
   "execution_count": 70,
   "metadata": {},
   "outputs": [
    {
     "data": {
      "text/html": [
       "<style>\n",
       ".list-inline {list-style: none; margin:0; padding: 0}\n",
       ".list-inline>li {display: inline-block}\n",
       ".list-inline>li:not(:last-child)::after {content: \"\\00b7\"; padding: 0 .5ex}\n",
       "</style>\n",
       "<ol class=list-inline><li>'Game Of Thrones S01E01 Winter Is Coming.srt'</li><li>'Game Of Thrones S01E02 The Kingsroad.srt'</li><li>'Game Of Thrones S01E03 Lord Snow.srt'</li><li>'Game Of Thrones S01E04 Cripples, Bastards, And Broken Things.srt'</li><li>'Game Of Thrones S01E05 The Wolf And The Lion.srt'</li><li>'Game Of Thrones S01E06 A Golden Crown.srt'</li><li>'Game Of Thrones S01E07 You Win Or You Die.srt'</li><li>'Game Of Thrones S01E08 The Pointy End.srt'</li><li>'Game Of Thrones S01E09 Baelor.srt'</li><li>'Game Of Thrones S01E10 Fire And Blood.srt'</li></ol>\n"
      ],
      "text/latex": [
       "\\begin{enumerate*}\n",
       "\\item 'Game Of Thrones S01E01 Winter Is Coming.srt'\n",
       "\\item 'Game Of Thrones S01E02 The Kingsroad.srt'\n",
       "\\item 'Game Of Thrones S01E03 Lord Snow.srt'\n",
       "\\item 'Game Of Thrones S01E04 Cripples, Bastards, And Broken Things.srt'\n",
       "\\item 'Game Of Thrones S01E05 The Wolf And The Lion.srt'\n",
       "\\item 'Game Of Thrones S01E06 A Golden Crown.srt'\n",
       "\\item 'Game Of Thrones S01E07 You Win Or You Die.srt'\n",
       "\\item 'Game Of Thrones S01E08 The Pointy End.srt'\n",
       "\\item 'Game Of Thrones S01E09 Baelor.srt'\n",
       "\\item 'Game Of Thrones S01E10 Fire And Blood.srt'\n",
       "\\end{enumerate*}\n"
      ],
      "text/markdown": [
       "1. 'Game Of Thrones S01E01 Winter Is Coming.srt'\n",
       "2. 'Game Of Thrones S01E02 The Kingsroad.srt'\n",
       "3. 'Game Of Thrones S01E03 Lord Snow.srt'\n",
       "4. 'Game Of Thrones S01E04 Cripples, Bastards, And Broken Things.srt'\n",
       "5. 'Game Of Thrones S01E05 The Wolf And The Lion.srt'\n",
       "6. 'Game Of Thrones S01E06 A Golden Crown.srt'\n",
       "7. 'Game Of Thrones S01E07 You Win Or You Die.srt'\n",
       "8. 'Game Of Thrones S01E08 The Pointy End.srt'\n",
       "9. 'Game Of Thrones S01E09 Baelor.srt'\n",
       "10. 'Game Of Thrones S01E10 Fire And Blood.srt'\n",
       "\n",
       "\n"
      ],
      "text/plain": [
       " [1] \"Game Of Thrones S01E01 Winter Is Coming.srt\"                     \n",
       " [2] \"Game Of Thrones S01E02 The Kingsroad.srt\"                        \n",
       " [3] \"Game Of Thrones S01E03 Lord Snow.srt\"                            \n",
       " [4] \"Game Of Thrones S01E04 Cripples, Bastards, And Broken Things.srt\"\n",
       " [5] \"Game Of Thrones S01E05 The Wolf And The Lion.srt\"                \n",
       " [6] \"Game Of Thrones S01E06 A Golden Crown.srt\"                       \n",
       " [7] \"Game Of Thrones S01E07 You Win Or You Die.srt\"                   \n",
       " [8] \"Game Of Thrones S01E08 The Pointy End.srt\"                       \n",
       " [9] \"Game Of Thrones S01E09 Baelor.srt\"                               \n",
       "[10] \"Game Of Thrones S01E10 Fire And Blood.srt\"                       "
      ]
     },
     "metadata": {},
     "output_type": "display_data"
    }
   ],
   "source": [
    "names(GoTs1.json.fromFile)"
   ]
  },
  {
   "cell_type": "code",
   "execution_count": 71,
   "metadata": {},
   "outputs": [
    {
     "data": {
      "text/html": [
       "'Game Of Thrones S01E01 Winter Is Coming.srt'"
      ],
      "text/latex": [
       "'Game Of Thrones S01E01 Winter Is Coming.srt'"
      ],
      "text/markdown": [
       "'Game Of Thrones S01E01 Winter Is Coming.srt'"
      ],
      "text/plain": [
       "[1] \"Game Of Thrones S01E01 Winter Is Coming.srt\""
      ]
     },
     "metadata": {},
     "output_type": "display_data"
    }
   ],
   "source": [
    "names(GoTs1.json.fromFile[1])"
   ]
  },
  {
   "cell_type": "code",
   "execution_count": null,
   "metadata": {},
   "outputs": [],
   "source": []
  },
  {
   "cell_type": "code",
   "execution_count": 72,
   "metadata": {},
   "outputs": [],
   "source": [
    "key.word = 'Lannister'\n",
    "key.words = c('Ned','magic')\n",
    "season.counts = c()\n",
    "files.length = length( list.files('./GoTsubtitles') )\n",
    "\n",
    "for (zz in 1:files.length){\n",
    "    season.key = list.files('./GoTsubtitles')[zz] #paste0('season',zz)\n",
    "    #print('>>>>>>>>>>>>><<<<<<<<<<<<<<<')\n",
    "    #print(season.key)\n",
    "    #print('>>>>>>>>>>>>><<<<<<<<<<<<<<<')\n",
    "    GoTjson.tmp = GoTs.list[[season.key]]  \n",
    "    season.count = 0\n",
    "    \n",
    "    for ( jj in 1:length(names(GoTjson.tmp)) ) {\n",
    "        episode.key = names(GoTjson.tmp)[jj]\n",
    "        count = 0\n",
    "        count2 = 0\n",
    "     #   print('!-----------------!')\n",
    "    #    print( episode.key )\n",
    "        for (ii in names(GoTjson.tmp[[episode.key]]) ){\n",
    "            v1 = GoTjson.tmp[[episode.key]][[ii]]\n",
    "            v2 = strsplit(v1, \" \")[[1]]\n",
    "            v3 = key.words %in% v2\n",
    "            if( any(v3) == TRUE){\n",
    "                count = count+1\n",
    "                season.count = season.count + 1\n",
    "   #             print(v1)\n",
    "            }else{\n",
    "                count2 = count2 + 1\n",
    "            }\n",
    "        }\n",
    "  #      print(count)\n",
    " #       print(count2)\n",
    "    }\n",
    "    season.counts = append(season.counts,season.count)\n",
    "    #print('!!!!!!!!!!!!!!!----------!!!!!!!!!!!!!!!!!!!')\n",
    "    #print(paste0('how many times the word: ',key.word, ' appeared in SEASON,', season.key,' is=',season.count))\n",
    "    #print('!!!!!!!!!!!!!!!----------!!!!!!!!!!!!!!!!!!!')\n",
    "}"
   ]
  },
  {
   "cell_type": "code",
   "execution_count": 73,
   "metadata": {},
   "outputs": [
    {
     "data": {
      "text/plain": [
       "\n",
       "Call:\n",
       "lm(formula = Y ~ X, data = traj)\n",
       "\n",
       "Residuals:\n",
       "   Min     1Q Median     3Q    Max \n",
       "-9.429 -3.191 -0.375  1.940 11.679 \n",
       "\n",
       "Coefficients:\n",
       "            Estimate Std. Error t value Pr(>|t|)   \n",
       "(Intercept)   22.214      5.219   4.257  0.00534 **\n",
       "X             -1.631      1.033  -1.578  0.16561   \n",
       "---\n",
       "Signif. codes:  0 ‘***’ 0.001 ‘**’ 0.01 ‘*’ 0.05 ‘.’ 0.1 ‘ ’ 1\n",
       "\n",
       "Residual standard error: 6.698 on 6 degrees of freedom\n",
       "Multiple R-squared:  0.2933,\tAdjusted R-squared:  0.1755 \n",
       "F-statistic:  2.49 on 1 and 6 DF,  p-value: 0.1656\n"
      ]
     },
     "metadata": {},
     "output_type": "display_data"
    },
    {
     "data": {
      "image/png": "[encoded data removed]",
      "text/plain": [
       "Plot with title “Ned”",
       "Plot with title “magic”"
      ]
     },
     "metadata": {
      "image/png": {
       "height": 420,
       "width": 420
      }
     },
     "output_type": "display_data"
    }
   ],
   "source": [
    "traj = as.data.frame( cbind(season.counts,1:8) )\n",
    "names(traj) = c('Y','X')\n",
    "m1 = lm( Y~X,data=traj  )\n",
    "summary(m1)\n",
    "plot(season.counts,col=\"red\",cex=5,pch=2,main=key.words)\n",
    "lines(season.counts,lw=5)\n",
    "abline( lm( Y~X,data=traj ),col=\"orange\", lw=3 )"
   ]
  },
  {
   "cell_type": "code",
   "execution_count": 99,
   "metadata": {},
   "outputs": [
    {
     "data": {
      "text/plain": [
       "\n",
       "Call:\n",
       "lm(formula = Y ~ X, data = traj)\n",
       "\n",
       "Residuals:\n",
       "    Min      1Q  Median      3Q     Max \n",
       "-7.6071 -1.9881 -0.6429  1.9494  7.8571 \n",
       "\n",
       "Coefficients:\n",
       "            Estimate Std. Error t value Pr(>|t|)   \n",
       "(Intercept)  20.6786     3.8813   5.328  0.00178 **\n",
       "X            -1.8452     0.7686  -2.401  0.05324 . \n",
       "---\n",
       "Signif. codes:  0 ‘***’ 0.001 ‘**’ 0.01 ‘*’ 0.05 ‘.’ 0.1 ‘ ’ 1\n",
       "\n",
       "Residual standard error: 4.981 on 6 degrees of freedom\n",
       "Multiple R-squared:   0.49,\tAdjusted R-squared:  0.4049 \n",
       "F-statistic: 5.764 on 1 and 6 DF,  p-value: 0.05324\n"
      ]
     },
     "metadata": {},
     "output_type": "display_data"
    }
   ],
   "source": [
    "m1 = lm( Y~X,data=traj  )\n",
    "summary(m1)"
   ]
  },
  {
   "cell_type": "code",
   "execution_count": 103,
   "metadata": {},
   "outputs": [
    {
     "name": "stdout",
     "output_type": "stream",
     "text": [
      "[1] FALSE\n"
     ]
    }
   ],
   "source": [
    "res = c('dogs','bird','bat') %in% c('dog','cat')\n",
    "print(any(res)) "
   ]
  },
  {
   "cell_type": "code",
   "execution_count": 104,
   "metadata": {},
   "outputs": [
    {
     "name": "stdout",
     "output_type": "stream",
     "text": [
      "[1] 4\n",
      "[1] 954\n"
     ]
    }
   ],
   "source": [
    "print(count)\n",
    "print(count2)"
   ]
  },
  {
   "cell_type": "code",
   "execution_count": 105,
   "metadata": {},
   "outputs": [
    {
     "data": {
      "text/html": [
       "<style>\n",
       ".list-inline {list-style: none; margin:0; padding: 0}\n",
       ".list-inline>li {display: inline-block}\n",
       ".list-inline>li:not(:last-child)::after {content: \"\\00b7\"; padding: 0 .5ex}\n",
       "</style>\n",
       "<ol class=list-inline><li>'1'</li><li>'10'</li><li>'100'</li><li>'101'</li><li>'102'</li><li>'103'</li><li>'104'</li><li>'105'</li><li>'106'</li><li>'107'</li><li>'108'</li><li>'109'</li><li>'11'</li><li>'110'</li><li>'111'</li><li>'112'</li><li>'113'</li><li>'114'</li><li>'115'</li><li>'116'</li><li>'117'</li><li>'118'</li><li>'119'</li><li>'12'</li><li>'120'</li><li>'121'</li><li>'122'</li><li>'123'</li><li>'124'</li><li>'125'</li><li>'126'</li><li>'127'</li><li>'128'</li><li>'129'</li><li>'13'</li><li>'130'</li><li>'131'</li><li>'132'</li><li>'133'</li><li>'134'</li><li>'135'</li><li>'136'</li><li>'137'</li><li>'138'</li><li>'139'</li><li>'14'</li><li>'140'</li><li>'141'</li><li>'142'</li><li>'143'</li><li>'144'</li><li>'145'</li><li>'146'</li><li>'147'</li><li>'148'</li><li>'149'</li><li>'15'</li><li>'150'</li><li>'151'</li><li>'152'</li><li>'153'</li><li>'154'</li><li>'155'</li><li>'156'</li><li>'157'</li><li>'158'</li><li>'159'</li><li>'16'</li><li>'160'</li><li>'161'</li><li>'162'</li><li>'163'</li><li>'164'</li><li>'165'</li><li>'166'</li><li>'167'</li><li>'168'</li><li>'169'</li><li>'17'</li><li>'170'</li><li>'171'</li><li>'172'</li><li>'173'</li><li>'174'</li><li>'175'</li><li>'176'</li><li>'177'</li><li>'178'</li><li>'179'</li><li>'18'</li><li>'180'</li><li>'181'</li><li>'182'</li><li>'183'</li><li>'184'</li><li>'185'</li><li>'186'</li><li>'187'</li><li>'188'</li><li>'189'</li><li>'19'</li><li>'190'</li><li>'191'</li><li>'192'</li><li>'193'</li><li>'194'</li><li>'195'</li><li>'196'</li><li>'197'</li><li>'198'</li><li>'199'</li><li>'2'</li><li>'20'</li><li>'200'</li><li>'201'</li><li>'202'</li><li>'203'</li><li>'204'</li><li>'205'</li><li>'206'</li><li>'207'</li><li>'208'</li><li>'209'</li><li>'21'</li><li>'210'</li><li>'211'</li><li>'212'</li><li>'213'</li><li>'214'</li><li>'215'</li><li>'216'</li><li>'217'</li><li>'218'</li><li>'219'</li><li>'22'</li><li>'220'</li><li>'221'</li><li>'222'</li><li>'223'</li><li>'224'</li><li>'225'</li><li>'226'</li><li>'227'</li><li>'228'</li><li>'229'</li><li>'23'</li><li>'230'</li><li>'231'</li><li>'232'</li><li>'233'</li><li>'234'</li><li>'235'</li><li>'236'</li><li>'237'</li><li>'238'</li><li>'239'</li><li>'24'</li><li>'240'</li><li>'241'</li><li>'242'</li><li>'243'</li><li>'244'</li><li>'245'</li><li>'246'</li><li>'247'</li><li>'248'</li><li>'249'</li><li>'25'</li><li>'250'</li><li>'251'</li><li>'252'</li><li>'253'</li><li>'254'</li><li>'255'</li><li>'256'</li><li>'257'</li><li>'258'</li><li>'259'</li><li>'26'</li><li>'260'</li><li>'261'</li><li>'262'</li><li>'263'</li><li>'264'</li><li>'265'</li><li>'266'</li><li>'267'</li><li>'268'</li><li>'269'</li><li>'27'</li><li>'270'</li><li>'271'</li><li>'272'</li><li>'273'</li><li>'274'</li><li>'275'</li><li>'276'</li><li>'277'</li><li>'278'</li><li>'279'</li><li>⋯</li><li>'422'</li><li>'423'</li><li>'424'</li><li>'425'</li><li>'426'</li><li>'427'</li><li>'428'</li><li>'429'</li><li>'43'</li><li>'430'</li><li>'431'</li><li>'432'</li><li>'433'</li><li>'434'</li><li>'435'</li><li>'436'</li><li>'437'</li><li>'438'</li><li>'439'</li><li>'44'</li><li>'440'</li><li>'441'</li><li>'442'</li><li>'443'</li><li>'444'</li><li>'445'</li><li>'446'</li><li>'447'</li><li>'448'</li><li>'449'</li><li>'45'</li><li>'450'</li><li>'451'</li><li>'452'</li><li>'453'</li><li>'454'</li><li>'455'</li><li>'456'</li><li>'457'</li><li>'458'</li><li>'459'</li><li>'46'</li><li>'460'</li><li>'461'</li><li>'462'</li><li>'463'</li><li>'464'</li><li>'465'</li><li>'466'</li><li>'467'</li><li>'468'</li><li>'469'</li><li>'47'</li><li>'470'</li><li>'471'</li><li>'472'</li><li>'473'</li><li>'474'</li><li>'475'</li><li>'476'</li><li>'477'</li><li>'478'</li><li>'479'</li><li>'48'</li><li>'480'</li><li>'481'</li><li>'482'</li><li>'483'</li><li>'484'</li><li>'485'</li><li>'486'</li><li>'487'</li><li>'488'</li><li>'489'</li><li>'49'</li><li>'490'</li><li>'491'</li><li>'492'</li><li>'493'</li><li>'494'</li><li>'495'</li><li>'496'</li><li>'497'</li><li>'498'</li><li>'499'</li><li>'5'</li><li>'50'</li><li>'500'</li><li>'501'</li><li>'502'</li><li>'503'</li><li>'504'</li><li>'505'</li><li>'506'</li><li>'507'</li><li>'508'</li><li>'509'</li><li>'51'</li><li>'510'</li><li>'511'</li><li>'512'</li><li>'513'</li><li>'514'</li><li>'515'</li><li>'516'</li><li>'517'</li><li>'518'</li><li>'519'</li><li>'52'</li><li>'520'</li><li>'521'</li><li>'522'</li><li>'523'</li><li>'524'</li><li>'525'</li><li>'526'</li><li>'527'</li><li>'528'</li><li>'529'</li><li>'53'</li><li>'530'</li><li>'531'</li><li>'532'</li><li>'533'</li><li>'534'</li><li>'535'</li><li>'536'</li><li>'537'</li><li>'538'</li><li>'539'</li><li>'54'</li><li>'540'</li><li>'541'</li><li>'542'</li><li>'543'</li><li>'544'</li><li>'545'</li><li>'546'</li><li>'547'</li><li>'548'</li><li>'549'</li><li>'55'</li><li>'550'</li><li>'551'</li><li>'552'</li><li>'553'</li><li>'554'</li><li>'555'</li><li>'556'</li><li>'557'</li><li>'558'</li><li>'559'</li><li>'56'</li><li>'57'</li><li>'58'</li><li>'59'</li><li>'6'</li><li>'60'</li><li>'61'</li><li>'62'</li><li>'63'</li><li>'64'</li><li>'65'</li><li>'66'</li><li>'67'</li><li>'68'</li><li>'69'</li><li>'7'</li><li>'70'</li><li>'71'</li><li>'72'</li><li>'73'</li><li>'74'</li><li>'75'</li><li>'76'</li><li>'77'</li><li>'78'</li><li>'79'</li><li>'8'</li><li>'80'</li><li>'81'</li><li>'82'</li><li>'83'</li><li>'84'</li><li>'85'</li><li>'86'</li><li>'87'</li><li>'88'</li><li>'89'</li><li>'9'</li><li>'90'</li><li>'91'</li><li>'92'</li><li>'93'</li><li>'94'</li><li>'95'</li><li>'96'</li><li>'97'</li><li>'98'</li><li>'99'</li></ol>\n"
      ],
      "text/latex": [
       "\\begin{enumerate*}\n",
       "\\item '1'\n",
       "\\item '10'\n",
       "\\item '100'\n",
       "\\item '101'\n",
       "\\item '102'\n",
       "\\item '103'\n",
       "\\item '104'\n",
       "\\item '105'\n",
       "\\item '106'\n",
       "\\item '107'\n",
       "\\item '108'\n",
       "\\item '109'\n",
       "\\item '11'\n",
       "\\item '110'\n",
       "\\item '111'\n",
       "\\item '112'\n",
       "\\item '113'\n",
       "\\item '114'\n",
       "\\item '115'\n",
       "\\item '116'\n",
       "\\item '117'\n",
       "\\item '118'\n",
       "\\item '119'\n",
       "\\item '12'\n",
       "\\item '120'\n",
       "\\item '121'\n",
       "\\item '122'\n",
       "\\item '123'\n",
       "\\item '124'\n",
       "\\item '125'\n",
       "\\item '126'\n",
       "\\item '127'\n",
       "\\item '128'\n",
       "\\item '129'\n",
       "\\item '13'\n",
       "\\item '130'\n",
       "\\item '131'\n",
       "\\item '132'\n",
       "\\item '133'\n",
       "\\item '134'\n",
       "\\item '135'\n",
       "\\item '136'\n",
       "\\item '137'\n",
       "\\item '138'\n",
       "\\item '139'\n",
       "\\item '14'\n",
       "\\item '140'\n",
       "\\item '141'\n",
       "\\item '142'\n",
       "\\item '143'\n",
       "\\item '144'\n",
       "\\item '145'\n",
       "\\item '146'\n",
       "\\item '147'\n",
       "\\item '148'\n",
       "\\item '149'\n",
       "\\item '15'\n",
       "\\item '150'\n",
       "\\item '151'\n",
       "\\item '152'\n",
       "\\item '153'\n",
       "\\item '154'\n",
       "\\item '155'\n",
       "\\item '156'\n",
       "\\item '157'\n",
       "\\item '158'\n",
       "\\item '159'\n",
       "\\item '16'\n",
       "\\item '160'\n",
       "\\item '161'\n",
       "\\item '162'\n",
       "\\item '163'\n",
       "\\item '164'\n",
       "\\item '165'\n",
       "\\item '166'\n",
       "\\item '167'\n",
       "\\item '168'\n",
       "\\item '169'\n",
       "\\item '17'\n",
       "\\item '170'\n",
       "\\item '171'\n",
       "\\item '172'\n",
       "\\item '173'\n",
       "\\item '174'\n",
       "\\item '175'\n",
       "\\item '176'\n",
       "\\item '177'\n",
       "\\item '178'\n",
       "\\item '179'\n",
       "\\item '18'\n",
       "\\item '180'\n",
       "\\item '181'\n",
       "\\item '182'\n",
       "\\item '183'\n",
       "\\item '184'\n",
       "\\item '185'\n",
       "\\item '186'\n",
       "\\item '187'\n",
       "\\item '188'\n",
       "\\item '189'\n",
       "\\item '19'\n",
       "\\item '190'\n",
       "\\item '191'\n",
       "\\item '192'\n",
       "\\item '193'\n",
       "\\item '194'\n",
       "\\item '195'\n",
       "\\item '196'\n",
       "\\item '197'\n",
       "\\item '198'\n",
       "\\item '199'\n",
       "\\item '2'\n",
       "\\item '20'\n",
       "\\item '200'\n",
       "\\item '201'\n",
       "\\item '202'\n",
       "\\item '203'\n",
       "\\item '204'\n",
       "\\item '205'\n",
       "\\item '206'\n",
       "\\item '207'\n",
       "\\item '208'\n",
       "\\item '209'\n",
       "\\item '21'\n",
       "\\item '210'\n",
       "\\item '211'\n",
       "\\item '212'\n",
       "\\item '213'\n",
       "\\item '214'\n",
       "\\item '215'\n",
       "\\item '216'\n",
       "\\item '217'\n",
       "\\item '218'\n",
       "\\item '219'\n",
       "\\item '22'\n",
       "\\item '220'\n",
       "\\item '221'\n",
       "\\item '222'\n",
       "\\item '223'\n",
       "\\item '224'\n",
       "\\item '225'\n",
       "\\item '226'\n",
       "\\item '227'\n",
       "\\item '228'\n",
       "\\item '229'\n",
       "\\item '23'\n",
       "\\item '230'\n",
       "\\item '231'\n",
       "\\item '232'\n",
       "\\item '233'\n",
       "\\item '234'\n",
       "\\item '235'\n",
       "\\item '236'\n",
       "\\item '237'\n",
       "\\item '238'\n",
       "\\item '239'\n",
       "\\item '24'\n",
       "\\item '240'\n",
       "\\item '241'\n",
       "\\item '242'\n",
       "\\item '243'\n",
       "\\item '244'\n",
       "\\item '245'\n",
       "\\item '246'\n",
       "\\item '247'\n",
       "\\item '248'\n",
       "\\item '249'\n",
       "\\item '25'\n",
       "\\item '250'\n",
       "\\item '251'\n",
       "\\item '252'\n",
       "\\item '253'\n",
       "\\item '254'\n",
       "\\item '255'\n",
       "\\item '256'\n",
       "\\item '257'\n",
       "\\item '258'\n",
       "\\item '259'\n",
       "\\item '26'\n",
       "\\item '260'\n",
       "\\item '261'\n",
       "\\item '262'\n",
       "\\item '263'\n",
       "\\item '264'\n",
       "\\item '265'\n",
       "\\item '266'\n",
       "\\item '267'\n",
       "\\item '268'\n",
       "\\item '269'\n",
       "\\item '27'\n",
       "\\item '270'\n",
       "\\item '271'\n",
       "\\item '272'\n",
       "\\item '273'\n",
       "\\item '274'\n",
       "\\item '275'\n",
       "\\item '276'\n",
       "\\item '277'\n",
       "\\item '278'\n",
       "\\item '279'\n",
       "\\item ⋯\n",
       "\\item '422'\n",
       "\\item '423'\n",
       "\\item '424'\n",
       "\\item '425'\n",
       "\\item '426'\n",
       "\\item '427'\n",
       "\\item '428'\n",
       "\\item '429'\n",
       "\\item '43'\n",
       "\\item '430'\n",
       "\\item '431'\n",
       "\\item '432'\n",
       "\\item '433'\n",
       "\\item '434'\n",
       "\\item '435'\n",
       "\\item '436'\n",
       "\\item '437'\n",
       "\\item '438'\n",
       "\\item '439'\n",
       "\\item '44'\n",
       "\\item '440'\n",
       "\\item '441'\n",
       "\\item '442'\n",
       "\\item '443'\n",
       "\\item '444'\n",
       "\\item '445'\n",
       "\\item '446'\n",
       "\\item '447'\n",
       "\\item '448'\n",
       "\\item '449'\n",
       "\\item '45'\n",
       "\\item '450'\n",
       "\\item '451'\n",
       "\\item '452'\n",
       "\\item '453'\n",
       "\\item '454'\n",
       "\\item '455'\n",
       "\\item '456'\n",
       "\\item '457'\n",
       "\\item '458'\n",
       "\\item '459'\n",
       "\\item '46'\n",
       "\\item '460'\n",
       "\\item '461'\n",
       "\\item '462'\n",
       "\\item '463'\n",
       "\\item '464'\n",
       "\\item '465'\n",
       "\\item '466'\n",
       "\\item '467'\n",
       "\\item '468'\n",
       "\\item '469'\n",
       "\\item '47'\n",
       "\\item '470'\n",
       "\\item '471'\n",
       "\\item '472'\n",
       "\\item '473'\n",
       "\\item '474'\n",
       "\\item '475'\n",
       "\\item '476'\n",
       "\\item '477'\n",
       "\\item '478'\n",
       "\\item '479'\n",
       "\\item '48'\n",
       "\\item '480'\n",
       "\\item '481'\n",
       "\\item '482'\n",
       "\\item '483'\n",
       "\\item '484'\n",
       "\\item '485'\n",
       "\\item '486'\n",
       "\\item '487'\n",
       "\\item '488'\n",
       "\\item '489'\n",
       "\\item '49'\n",
       "\\item '490'\n",
       "\\item '491'\n",
       "\\item '492'\n",
       "\\item '493'\n",
       "\\item '494'\n",
       "\\item '495'\n",
       "\\item '496'\n",
       "\\item '497'\n",
       "\\item '498'\n",
       "\\item '499'\n",
       "\\item '5'\n",
       "\\item '50'\n",
       "\\item '500'\n",
       "\\item '501'\n",
       "\\item '502'\n",
       "\\item '503'\n",
       "\\item '504'\n",
       "\\item '505'\n",
       "\\item '506'\n",
       "\\item '507'\n",
       "\\item '508'\n",
       "\\item '509'\n",
       "\\item '51'\n",
       "\\item '510'\n",
       "\\item '511'\n",
       "\\item '512'\n",
       "\\item '513'\n",
       "\\item '514'\n",
       "\\item '515'\n",
       "\\item '516'\n",
       "\\item '517'\n",
       "\\item '518'\n",
       "\\item '519'\n",
       "\\item '52'\n",
       "\\item '520'\n",
       "\\item '521'\n",
       "\\item '522'\n",
       "\\item '523'\n",
       "\\item '524'\n",
       "\\item '525'\n",
       "\\item '526'\n",
       "\\item '527'\n",
       "\\item '528'\n",
       "\\item '529'\n",
       "\\item '53'\n",
       "\\item '530'\n",
       "\\item '531'\n",
       "\\item '532'\n",
       "\\item '533'\n",
       "\\item '534'\n",
       "\\item '535'\n",
       "\\item '536'\n",
       "\\item '537'\n",
       "\\item '538'\n",
       "\\item '539'\n",
       "\\item '54'\n",
       "\\item '540'\n",
       "\\item '541'\n",
       "\\item '542'\n",
       "\\item '543'\n",
       "\\item '544'\n",
       "\\item '545'\n",
       "\\item '546'\n",
       "\\item '547'\n",
       "\\item '548'\n",
       "\\item '549'\n",
       "\\item '55'\n",
       "\\item '550'\n",
       "\\item '551'\n",
       "\\item '552'\n",
       "\\item '553'\n",
       "\\item '554'\n",
       "\\item '555'\n",
       "\\item '556'\n",
       "\\item '557'\n",
       "\\item '558'\n",
       "\\item '559'\n",
       "\\item '56'\n",
       "\\item '57'\n",
       "\\item '58'\n",
       "\\item '59'\n",
       "\\item '6'\n",
       "\\item '60'\n",
       "\\item '61'\n",
       "\\item '62'\n",
       "\\item '63'\n",
       "\\item '64'\n",
       "\\item '65'\n",
       "\\item '66'\n",
       "\\item '67'\n",
       "\\item '68'\n",
       "\\item '69'\n",
       "\\item '7'\n",
       "\\item '70'\n",
       "\\item '71'\n",
       "\\item '72'\n",
       "\\item '73'\n",
       "\\item '74'\n",
       "\\item '75'\n",
       "\\item '76'\n",
       "\\item '77'\n",
       "\\item '78'\n",
       "\\item '79'\n",
       "\\item '8'\n",
       "\\item '80'\n",
       "\\item '81'\n",
       "\\item '82'\n",
       "\\item '83'\n",
       "\\item '84'\n",
       "\\item '85'\n",
       "\\item '86'\n",
       "\\item '87'\n",
       "\\item '88'\n",
       "\\item '89'\n",
       "\\item '9'\n",
       "\\item '90'\n",
       "\\item '91'\n",
       "\\item '92'\n",
       "\\item '93'\n",
       "\\item '94'\n",
       "\\item '95'\n",
       "\\item '96'\n",
       "\\item '97'\n",
       "\\item '98'\n",
       "\\item '99'\n",
       "\\end{enumerate*}\n"
      ],
      "text/markdown": [
       "1. '1'\n",
       "2. '10'\n",
       "3. '100'\n",
       "4. '101'\n",
       "5. '102'\n",
       "6. '103'\n",
       "7. '104'\n",
       "8. '105'\n",
       "9. '106'\n",
       "10. '107'\n",
       "11. '108'\n",
       "12. '109'\n",
       "13. '11'\n",
       "14. '110'\n",
       "15. '111'\n",
       "16. '112'\n",
       "17. '113'\n",
       "18. '114'\n",
       "19. '115'\n",
       "20. '116'\n",
       "21. '117'\n",
       "22. '118'\n",
       "23. '119'\n",
       "24. '12'\n",
       "25. '120'\n",
       "26. '121'\n",
       "27. '122'\n",
       "28. '123'\n",
       "29. '124'\n",
       "30. '125'\n",
       "31. '126'\n",
       "32. '127'\n",
       "33. '128'\n",
       "34. '129'\n",
       "35. '13'\n",
       "36. '130'\n",
       "37. '131'\n",
       "38. '132'\n",
       "39. '133'\n",
       "40. '134'\n",
       "41. '135'\n",
       "42. '136'\n",
       "43. '137'\n",
       "44. '138'\n",
       "45. '139'\n",
       "46. '14'\n",
       "47. '140'\n",
       "48. '141'\n",
       "49. '142'\n",
       "50. '143'\n",
       "51. '144'\n",
       "52. '145'\n",
       "53. '146'\n",
       "54. '147'\n",
       "55. '148'\n",
       "56. '149'\n",
       "57. '15'\n",
       "58. '150'\n",
       "59. '151'\n",
       "60. '152'\n",
       "61. '153'\n",
       "62. '154'\n",
       "63. '155'\n",
       "64. '156'\n",
       "65. '157'\n",
       "66. '158'\n",
       "67. '159'\n",
       "68. '16'\n",
       "69. '160'\n",
       "70. '161'\n",
       "71. '162'\n",
       "72. '163'\n",
       "73. '164'\n",
       "74. '165'\n",
       "75. '166'\n",
       "76. '167'\n",
       "77. '168'\n",
       "78. '169'\n",
       "79. '17'\n",
       "80. '170'\n",
       "81. '171'\n",
       "82. '172'\n",
       "83. '173'\n",
       "84. '174'\n",
       "85. '175'\n",
       "86. '176'\n",
       "87. '177'\n",
       "88. '178'\n",
       "89. '179'\n",
       "90. '18'\n",
       "91. '180'\n",
       "92. '181'\n",
       "93. '182'\n",
       "94. '183'\n",
       "95. '184'\n",
       "96. '185'\n",
       "97. '186'\n",
       "98. '187'\n",
       "99. '188'\n",
       "100. '189'\n",
       "101. '19'\n",
       "102. '190'\n",
       "103. '191'\n",
       "104. '192'\n",
       "105. '193'\n",
       "106. '194'\n",
       "107. '195'\n",
       "108. '196'\n",
       "109. '197'\n",
       "110. '198'\n",
       "111. '199'\n",
       "112. '2'\n",
       "113. '20'\n",
       "114. '200'\n",
       "115. '201'\n",
       "116. '202'\n",
       "117. '203'\n",
       "118. '204'\n",
       "119. '205'\n",
       "120. '206'\n",
       "121. '207'\n",
       "122. '208'\n",
       "123. '209'\n",
       "124. '21'\n",
       "125. '210'\n",
       "126. '211'\n",
       "127. '212'\n",
       "128. '213'\n",
       "129. '214'\n",
       "130. '215'\n",
       "131. '216'\n",
       "132. '217'\n",
       "133. '218'\n",
       "134. '219'\n",
       "135. '22'\n",
       "136. '220'\n",
       "137. '221'\n",
       "138. '222'\n",
       "139. '223'\n",
       "140. '224'\n",
       "141. '225'\n",
       "142. '226'\n",
       "143. '227'\n",
       "144. '228'\n",
       "145. '229'\n",
       "146. '23'\n",
       "147. '230'\n",
       "148. '231'\n",
       "149. '232'\n",
       "150. '233'\n",
       "151. '234'\n",
       "152. '235'\n",
       "153. '236'\n",
       "154. '237'\n",
       "155. '238'\n",
       "156. '239'\n",
       "157. '24'\n",
       "158. '240'\n",
       "159. '241'\n",
       "160. '242'\n",
       "161. '243'\n",
       "162. '244'\n",
       "163. '245'\n",
       "164. '246'\n",
       "165. '247'\n",
       "166. '248'\n",
       "167. '249'\n",
       "168. '25'\n",
       "169. '250'\n",
       "170. '251'\n",
       "171. '252'\n",
       "172. '253'\n",
       "173. '254'\n",
       "174. '255'\n",
       "175. '256'\n",
       "176. '257'\n",
       "177. '258'\n",
       "178. '259'\n",
       "179. '26'\n",
       "180. '260'\n",
       "181. '261'\n",
       "182. '262'\n",
       "183. '263'\n",
       "184. '264'\n",
       "185. '265'\n",
       "186. '266'\n",
       "187. '267'\n",
       "188. '268'\n",
       "189. '269'\n",
       "190. '27'\n",
       "191. '270'\n",
       "192. '271'\n",
       "193. '272'\n",
       "194. '273'\n",
       "195. '274'\n",
       "196. '275'\n",
       "197. '276'\n",
       "198. '277'\n",
       "199. '278'\n",
       "200. '279'\n",
       "201. ⋯\n",
       "202. '422'\n",
       "203. '423'\n",
       "204. '424'\n",
       "205. '425'\n",
       "206. '426'\n",
       "207. '427'\n",
       "208. '428'\n",
       "209. '429'\n",
       "210. '43'\n",
       "211. '430'\n",
       "212. '431'\n",
       "213. '432'\n",
       "214. '433'\n",
       "215. '434'\n",
       "216. '435'\n",
       "217. '436'\n",
       "218. '437'\n",
       "219. '438'\n",
       "220. '439'\n",
       "221. '44'\n",
       "222. '440'\n",
       "223. '441'\n",
       "224. '442'\n",
       "225. '443'\n",
       "226. '444'\n",
       "227. '445'\n",
       "228. '446'\n",
       "229. '447'\n",
       "230. '448'\n",
       "231. '449'\n",
       "232. '45'\n",
       "233. '450'\n",
       "234. '451'\n",
       "235. '452'\n",
       "236. '453'\n",
       "237. '454'\n",
       "238. '455'\n",
       "239. '456'\n",
       "240. '457'\n",
       "241. '458'\n",
       "242. '459'\n",
       "243. '46'\n",
       "244. '460'\n",
       "245. '461'\n",
       "246. '462'\n",
       "247. '463'\n",
       "248. '464'\n",
       "249. '465'\n",
       "250. '466'\n",
       "251. '467'\n",
       "252. '468'\n",
       "253. '469'\n",
       "254. '47'\n",
       "255. '470'\n",
       "256. '471'\n",
       "257. '472'\n",
       "258. '473'\n",
       "259. '474'\n",
       "260. '475'\n",
       "261. '476'\n",
       "262. '477'\n",
       "263. '478'\n",
       "264. '479'\n",
       "265. '48'\n",
       "266. '480'\n",
       "267. '481'\n",
       "268. '482'\n",
       "269. '483'\n",
       "270. '484'\n",
       "271. '485'\n",
       "272. '486'\n",
       "273. '487'\n",
       "274. '488'\n",
       "275. '489'\n",
       "276. '49'\n",
       "277. '490'\n",
       "278. '491'\n",
       "279. '492'\n",
       "280. '493'\n",
       "281. '494'\n",
       "282. '495'\n",
       "283. '496'\n",
       "284. '497'\n",
       "285. '498'\n",
       "286. '499'\n",
       "287. '5'\n",
       "288. '50'\n",
       "289. '500'\n",
       "290. '501'\n",
       "291. '502'\n",
       "292. '503'\n",
       "293. '504'\n",
       "294. '505'\n",
       "295. '506'\n",
       "296. '507'\n",
       "297. '508'\n",
       "298. '509'\n",
       "299. '51'\n",
       "300. '510'\n",
       "301. '511'\n",
       "302. '512'\n",
       "303. '513'\n",
       "304. '514'\n",
       "305. '515'\n",
       "306. '516'\n",
       "307. '517'\n",
       "308. '518'\n",
       "309. '519'\n",
       "310. '52'\n",
       "311. '520'\n",
       "312. '521'\n",
       "313. '522'\n",
       "314. '523'\n",
       "315. '524'\n",
       "316. '525'\n",
       "317. '526'\n",
       "318. '527'\n",
       "319. '528'\n",
       "320. '529'\n",
       "321. '53'\n",
       "322. '530'\n",
       "323. '531'\n",
       "324. '532'\n",
       "325. '533'\n",
       "326. '534'\n",
       "327. '535'\n",
       "328. '536'\n",
       "329. '537'\n",
       "330. '538'\n",
       "331. '539'\n",
       "332. '54'\n",
       "333. '540'\n",
       "334. '541'\n",
       "335. '542'\n",
       "336. '543'\n",
       "337. '544'\n",
       "338. '545'\n",
       "339. '546'\n",
       "340. '547'\n",
       "341. '548'\n",
       "342. '549'\n",
       "343. '55'\n",
       "344. '550'\n",
       "345. '551'\n",
       "346. '552'\n",
       "347. '553'\n",
       "348. '554'\n",
       "349. '555'\n",
       "350. '556'\n",
       "351. '557'\n",
       "352. '558'\n",
       "353. '559'\n",
       "354. '56'\n",
       "355. '57'\n",
       "356. '58'\n",
       "357. '59'\n",
       "358. '6'\n",
       "359. '60'\n",
       "360. '61'\n",
       "361. '62'\n",
       "362. '63'\n",
       "363. '64'\n",
       "364. '65'\n",
       "365. '66'\n",
       "366. '67'\n",
       "367. '68'\n",
       "368. '69'\n",
       "369. '7'\n",
       "370. '70'\n",
       "371. '71'\n",
       "372. '72'\n",
       "373. '73'\n",
       "374. '74'\n",
       "375. '75'\n",
       "376. '76'\n",
       "377. '77'\n",
       "378. '78'\n",
       "379. '79'\n",
       "380. '8'\n",
       "381. '80'\n",
       "382. '81'\n",
       "383. '82'\n",
       "384. '83'\n",
       "385. '84'\n",
       "386. '85'\n",
       "387. '86'\n",
       "388. '87'\n",
       "389. '88'\n",
       "390. '89'\n",
       "391. '9'\n",
       "392. '90'\n",
       "393. '91'\n",
       "394. '92'\n",
       "395. '93'\n",
       "396. '94'\n",
       "397. '95'\n",
       "398. '96'\n",
       "399. '97'\n",
       "400. '98'\n",
       "401. '99'\n",
       "\n",
       "\n"
      ],
      "text/plain": [
       "  [1] \"1\"   \"10\"  \"100\" \"101\" \"102\" \"103\" \"104\" \"105\" \"106\" \"107\" \"108\" \"109\"\n",
       " [13] \"11\"  \"110\" \"111\" \"112\" \"113\" \"114\" \"115\" \"116\" \"117\" \"118\" \"119\" \"12\" \n",
       " [25] \"120\" \"121\" \"122\" \"123\" \"124\" \"125\" \"126\" \"127\" \"128\" \"129\" \"13\"  \"130\"\n",
       " [37] \"131\" \"132\" \"133\" \"134\" \"135\" \"136\" \"137\" \"138\" \"139\" \"14\"  \"140\" \"141\"\n",
       " [49] \"142\" \"143\" \"144\" \"145\" \"146\" \"147\" \"148\" \"149\" \"15\"  \"150\" \"151\" \"152\"\n",
       " [61] \"153\" \"154\" \"155\" \"156\" \"157\" \"158\" \"159\" \"16\"  \"160\" \"161\" \"162\" \"163\"\n",
       " [73] \"164\" \"165\" \"166\" \"167\" \"168\" \"169\" \"17\"  \"170\" \"171\" \"172\" \"173\" \"174\"\n",
       " [85] \"175\" \"176\" \"177\" \"178\" \"179\" \"18\"  \"180\" \"181\" \"182\" \"183\" \"184\" \"185\"\n",
       " [97] \"186\" \"187\" \"188\" \"189\" \"19\"  \"190\" \"191\" \"192\" \"193\" \"194\" \"195\" \"196\"\n",
       "[109] \"197\" \"198\" \"199\" \"2\"   \"20\"  \"200\" \"201\" \"202\" \"203\" \"204\" \"205\" \"206\"\n",
       "[121] \"207\" \"208\" \"209\" \"21\"  \"210\" \"211\" \"212\" \"213\" \"214\" \"215\" \"216\" \"217\"\n",
       "[133] \"218\" \"219\" \"22\"  \"220\" \"221\" \"222\" \"223\" \"224\" \"225\" \"226\" \"227\" \"228\"\n",
       "[145] \"229\" \"23\"  \"230\" \"231\" \"232\" \"233\" \"234\" \"235\" \"236\" \"237\" \"238\" \"239\"\n",
       "[157] \"24\"  \"240\" \"241\" \"242\" \"243\" \"244\" \"245\" \"246\" \"247\" \"248\" \"249\" \"25\" \n",
       "[169] \"250\" \"251\" \"252\" \"253\" \"254\" \"255\" \"256\" \"257\" \"258\" \"259\" \"26\"  \"260\"\n",
       "[181] \"261\" \"262\" \"263\" \"264\" \"265\" \"266\" \"267\" \"268\" \"269\" \"27\"  \"270\" \"271\"\n",
       "[193] \"272\" \"273\" \"274\" \"275\" \"276\" \"277\" \"278\" \"279\" \"28\"  \"280\" \"281\" \"282\"\n",
       "[205] \"283\" \"284\" \"285\" \"286\" \"287\" \"288\" \"289\" \"29\"  \"290\" \"291\" \"292\" \"293\"\n",
       "[217] \"294\" \"295\" \"296\" \"297\" \"298\" \"299\" \"3\"   \"30\"  \"300\" \"301\" \"302\" \"303\"\n",
       "[229] \"304\" \"305\" \"306\" \"307\" \"308\" \"309\" \"31\"  \"310\" \"311\" \"312\" \"313\" \"314\"\n",
       "[241] \"315\" \"316\" \"317\" \"318\" \"319\" \"32\"  \"320\" \"321\" \"322\" \"323\" \"324\" \"325\"\n",
       "[253] \"326\" \"327\" \"328\" \"329\" \"33\"  \"330\" \"331\" \"332\" \"333\" \"334\" \"335\" \"336\"\n",
       "[265] \"337\" \"338\" \"339\" \"34\"  \"340\" \"341\" \"342\" \"343\" \"344\" \"345\" \"346\" \"347\"\n",
       "[277] \"348\" \"349\" \"35\"  \"350\" \"351\" \"352\" \"353\" \"354\" \"355\" \"356\" \"357\" \"358\"\n",
       "[289] \"359\" \"36\"  \"360\" \"361\" \"362\" \"363\" \"364\" \"365\" \"366\" \"367\" \"368\" \"369\"\n",
       "[301] \"37\"  \"370\" \"371\" \"372\" \"373\" \"374\" \"375\" \"376\" \"377\" \"378\" \"379\" \"38\" \n",
       "[313] \"380\" \"381\" \"382\" \"383\" \"384\" \"385\" \"386\" \"387\" \"388\" \"389\" \"39\"  \"390\"\n",
       "[325] \"391\" \"392\" \"393\" \"394\" \"395\" \"396\" \"397\" \"398\" \"399\" \"4\"   \"40\"  \"400\"\n",
       "[337] \"401\" \"402\" \"403\" \"404\" \"405\" \"406\" \"407\" \"408\" \"409\" \"41\"  \"410\" \"411\"\n",
       "[349] \"412\" \"413\" \"414\" \"415\" \"416\" \"417\" \"418\" \"419\" \"42\"  \"420\" \"421\" \"422\"\n",
       "[361] \"423\" \"424\" \"425\" \"426\" \"427\" \"428\" \"429\" \"43\"  \"430\" \"431\" \"432\" \"433\"\n",
       "[373] \"434\" \"435\" \"436\" \"437\" \"438\" \"439\" \"44\"  \"440\" \"441\" \"442\" \"443\" \"444\"\n",
       "[385] \"445\" \"446\" \"447\" \"448\" \"449\" \"45\"  \"450\" \"451\" \"452\" \"453\" \"454\" \"455\"\n",
       "[397] \"456\" \"457\" \"458\" \"459\" \"46\"  \"460\" \"461\" \"462\" \"463\" \"464\" \"465\" \"466\"\n",
       "[409] \"467\" \"468\" \"469\" \"47\"  \"470\" \"471\" \"472\" \"473\" \"474\" \"475\" \"476\" \"477\"\n",
       "[421] \"478\" \"479\" \"48\"  \"480\" \"481\" \"482\" \"483\" \"484\" \"485\" \"486\" \"487\" \"488\"\n",
       "[433] \"489\" \"49\"  \"490\" \"491\" \"492\" \"493\" \"494\" \"495\" \"496\" \"497\" \"498\" \"499\"\n",
       "[445] \"5\"   \"50\"  \"500\" \"501\" \"502\" \"503\" \"504\" \"505\" \"506\" \"507\" \"508\" \"509\"\n",
       "[457] \"51\"  \"510\" \"511\" \"512\" \"513\" \"514\" \"515\" \"516\" \"517\" \"518\" \"519\" \"52\" \n",
       "[469] \"520\" \"521\" \"522\" \"523\" \"524\" \"525\" \"526\" \"527\" \"528\" \"529\" \"53\"  \"530\"\n",
       "[481] \"531\" \"532\" \"533\" \"534\" \"535\" \"536\" \"537\" \"538\" \"539\" \"54\"  \"540\" \"541\"\n",
       "[493] \"542\" \"543\" \"544\" \"545\" \"546\" \"547\" \"548\" \"549\" \"55\"  \"550\" \"551\" \"552\"\n",
       "[505] \"553\" \"554\" \"555\" \"556\" \"557\" \"558\" \"559\" \"56\"  \"57\"  \"58\"  \"59\"  \"6\"  \n",
       "[517] \"60\"  \"61\"  \"62\"  \"63\"  \"64\"  \"65\"  \"66\"  \"67\"  \"68\"  \"69\"  \"7\"   \"70\" \n",
       "[529] \"71\"  \"72\"  \"73\"  \"74\"  \"75\"  \"76\"  \"77\"  \"78\"  \"79\"  \"8\"   \"80\"  \"81\" \n",
       "[541] \"82\"  \"83\"  \"84\"  \"85\"  \"86\"  \"87\"  \"88\"  \"89\"  \"9\"   \"90\"  \"91\"  \"92\" \n",
       "[553] \"93\"  \"94\"  \"95\"  \"96\"  \"97\"  \"98\"  \"99\" "
      ]
     },
     "metadata": {},
     "output_type": "display_data"
    }
   ],
   "source": [
    "names( GoTs1.json.fromFile[['Game Of Thrones S01E01 Winter Is Coming.srt']] )"
   ]
  },
  {
   "cell_type": "code",
   "execution_count": 106,
   "metadata": {},
   "outputs": [
    {
     "data": {
      "text/html": [
       "<style>\n",
       ".list-inline {list-style: none; margin:0; padding: 0}\n",
       ".list-inline>li {display: inline-block}\n",
       ".list-inline>li:not(:last-child)::after {content: \"\\00b7\"; padding: 0 .5ex}\n",
       "</style>\n",
       "<ol class=list-inline><li>'I\\'m'</li><li>'sure'</li><li>'it\\'s'</li><li>'very'</li><li>'grim'</li><li>'after'</li><li>'King\\'s'</li><li>'Landing.'</li></ol>\n"
      ],
      "text/latex": [
       "\\begin{enumerate*}\n",
       "\\item 'I\\textbackslash{}'m'\n",
       "\\item 'sure'\n",
       "\\item 'it\\textbackslash{}'s'\n",
       "\\item 'very'\n",
       "\\item 'grim'\n",
       "\\item 'after'\n",
       "\\item 'King\\textbackslash{}'s'\n",
       "\\item 'Landing.'\n",
       "\\end{enumerate*}\n"
      ],
      "text/markdown": [
       "1. 'I\\'m'\n",
       "2. 'sure'\n",
       "3. 'it\\'s'\n",
       "4. 'very'\n",
       "5. 'grim'\n",
       "6. 'after'\n",
       "7. 'King\\'s'\n",
       "8. 'Landing.'\n",
       "\n",
       "\n"
      ],
      "text/plain": [
       "[1] \"I'm\"      \"sure\"     \"it's\"     \"very\"     \"grim\"     \"after\"    \"King's\"  \n",
       "[8] \"Landing.\""
      ]
     },
     "metadata": {},
     "output_type": "display_data"
    }
   ],
   "source": [
    "strsplit(GoTs1.json.fromFile[['Game Of Thrones S01E01 Winter Is Coming.srt']][['427']], \" \")[[1]]"
   ]
  },
  {
   "cell_type": "code",
   "execution_count": 107,
   "metadata": {},
   "outputs": [
    {
     "data": {
      "text/plain": [
       "NULL"
      ]
     },
     "metadata": {},
     "output_type": "display_data"
    }
   ],
   "source": [
    "GoTs1.json.fromFile[[ '481' ]]"
   ]
  },
  {
   "cell_type": "code",
   "execution_count": null,
   "metadata": {},
   "outputs": [],
   "source": []
  },
  {
   "cell_type": "code",
   "execution_count": null,
   "metadata": {},
   "outputs": [],
   "source": [
    "# CLASS LAB (~25min)\n",
    "\n",
    "1. for the seasons find the counts of the words 'death' and 'kill' and show in different plots/figures, and plot a straight line model and comment on the parameters\n",
    "\n",
    "2. instead of the counts, find the 'rate' (percentage) for the use of the words c('Lannister','Tyrion','dragon') in the episodes and apply a single variable regression through it and comment on the fit\n",
    "\n",
    "3. plot the average number of words in each episode line over the different seasons\n",
    "\n",
    "4. draw the histogram of the number of words in each line for the first season\n",
    "\n",
    "\n",
    "email your notebooks to the GTA"
   ]
  },
  {
   "cell_type": "code",
   "execution_count": null,
   "metadata": {},
   "outputs": [],
   "source": []
  },
  {
   "cell_type": "code",
   "execution_count": null,
   "metadata": {},
   "outputs": [],
   "source": []
  },
  {
   "cell_type": "code",
   "execution_count": null,
   "metadata": {},
   "outputs": [],
   "source": []
  },
  {
   "cell_type": "markdown",
   "metadata": {},
   "source": [
    "# Neural Networks\n",
    "\n",
    "- format data for the neural network\n",
    "- create the training and testing data for the model\n",
    "- evaluate the accuracy\n",
    "- predict a point"
   ]
  },
  {
   "cell_type": "code",
   "execution_count": 90,
   "metadata": {},
   "outputs": [],
   "source": [
    "#install.packages(\"neuralnet\")\n",
    "library('neuralnet')"
   ]
  },
  {
   "cell_type": "code",
   "execution_count": 91,
   "metadata": {},
   "outputs": [
    {
     "name": "stderr",
     "output_type": "stream",
     "text": [
      "Downloading GitHub repo bips-hb/neuralnet@HEAD\n",
      "\n"
     ]
    },
    {
     "name": "stdout",
     "output_type": "stream",
     "text": [
      "\n",
      "\u001b[32m✔\u001b[39m  \u001b[38;5;247mchecking for file ‘/tmp/Rtmp5Qf4fG/remotes631c71e328cc/bips-hb-neuralnet-0981535/DESCRIPTION’\u001b[39m\u001b[36m\u001b[39m\n",
      "\u001b[38;5;247m─\u001b[39m\u001b[38;5;247m  \u001b[39m\u001b[38;5;247mpreparing ‘neuralnet’:\u001b[39m\u001b[36m\u001b[39m\n",
      "\u001b[32m✔\u001b[39m  \u001b[38;5;247mchecking DESCRIPTION meta-information\u001b[39m\u001b[36m\u001b[39m\n",
      "\u001b[38;5;247m─\u001b[39m\u001b[38;5;247m  \u001b[39m\u001b[38;5;247mchecking for LF line-endings in source and make files and shell scripts\u001b[39m\u001b[36m\u001b[39m\n",
      "\u001b[38;5;247m─\u001b[39m\u001b[38;5;247m  \u001b[39m\u001b[38;5;247mchecking for empty or unneeded directories\u001b[39m\u001b[36m\u001b[39m\n",
      "\u001b[38;5;247m─\u001b[39m\u001b[38;5;247m  \u001b[39m\u001b[38;5;247mbuilding ‘neuralnet_1.44.6.tar.gz’\u001b[39m\u001b[36m\u001b[39m\n",
      "   \n",
      "\r"
     ]
    },
    {
     "name": "stderr",
     "output_type": "stream",
     "text": [
      "Installing package into ‘/home/resort/R/x86_64-pc-linux-gnu-library/4.1’\n",
      "(as ‘lib’ is unspecified)\n",
      "\n"
     ]
    }
   ],
   "source": [
    "devtools::install_github(\"bips-hb/neuralnet\")"
   ]
  },
  {
   "cell_type": "code",
   "execution_count": 93,
   "metadata": {},
   "outputs": [],
   "source": [
    "#install.packages(c('caret','ggplot2','GGally','nnet','neuralnet','nnet'))\n",
    "library('caret')\n",
    "library(ggplot2)\n",
    "library(GGally)\n",
    "library(nnet)\n",
    "library('caret')\n",
    "library('neuralnet')\n",
    "library(nnet)"
   ]
  },
  {
   "cell_type": "markdown",
   "metadata": {},
   "source": [
    "### Let's look at data for the personal distances held by people in different countries\n",
    "\n",
    "https://www.kaggle.com/vitaliymalcev/personal-distance-in-42-countries"
   ]
  },
  {
   "cell_type": "code",
   "execution_count": 123,
   "metadata": {},
   "outputs": [],
   "source": [
    "personalDist = read.table(\"./personalDistance/personal_distance.csv\", header = TRUE,\n",
    "                          sep=\",\")"
   ]
  },
  {
   "cell_type": "code",
   "execution_count": 124,
   "metadata": {},
   "outputs": [
    {
     "data": {
      "text/html": [
       "<table>\n",
       "<caption>A data.frame: 6 × 8</caption>\n",
       "<thead>\n",
       "\t<tr><th></th><th scope=col>Country</th><th scope=col>Worldregion</th><th scope=col>SocialdistanceMean</th><th scope=col>SocialdistanceSD</th><th scope=col>PersonaldistanceMean</th><th scope=col>PersonaldistanceSD</th><th scope=col>IntimatedistanceMean</th><th scope=col>IntimatedistanceSD</th></tr>\n",
       "\t<tr><th></th><th scope=col>&lt;chr&gt;</th><th scope=col>&lt;int&gt;</th><th scope=col>&lt;dbl&gt;</th><th scope=col>&lt;dbl&gt;</th><th scope=col>&lt;dbl&gt;</th><th scope=col>&lt;dbl&gt;</th><th scope=col>&lt;dbl&gt;</th><th scope=col>&lt;dbl&gt;</th></tr>\n",
       "</thead>\n",
       "<tbody>\n",
       "\t<tr><th scope=row>1</th><td>Argentina</td><td>2</td><td> 76.52</td><td>-31.08</td><td>59.10</td><td>-24.76</td><td>40.30</td><td>-20.25</td></tr>\n",
       "\t<tr><th scope=row>2</th><td>Austria  </td><td>1</td><td> 88.10</td><td>-30.94</td><td>68.00</td><td>-25.28</td><td>50.70</td><td>-24.79</td></tr>\n",
       "\t<tr><th scope=row>3</th><td>Brazil   </td><td>2</td><td>101.21</td><td>-40.05</td><td>78.00</td><td>-35.27</td><td>54.04</td><td>-40.50</td></tr>\n",
       "\t<tr><th scope=row>4</th><td>Bulgaria </td><td>1</td><td> 81.37</td><td>-12.98</td><td>63.92</td><td>-10.91</td><td>43.14</td><td>-12.51</td></tr>\n",
       "\t<tr><th scope=row>5</th><td>Canada   </td><td>1</td><td>103.24</td><td>-49.31</td><td>85.47</td><td>-39.25</td><td>74.54</td><td>-55.47</td></tr>\n",
       "\t<tr><th scope=row>6</th><td>China    </td><td>3</td><td>115.80</td><td>-44.33</td><td>83.53</td><td>-37.43</td><td>57.65</td><td>-35.24</td></tr>\n",
       "</tbody>\n",
       "</table>\n"
      ],
      "text/latex": [
       "A data.frame: 6 × 8\n",
       "\\begin{tabular}{r|llllllll}\n",
       "  & Country & Worldregion & SocialdistanceMean & SocialdistanceSD & PersonaldistanceMean & PersonaldistanceSD & IntimatedistanceMean & IntimatedistanceSD\\\\\n",
       "  & <chr> & <int> & <dbl> & <dbl> & <dbl> & <dbl> & <dbl> & <dbl>\\\\\n",
       "\\hline\n",
       "\t1 & Argentina & 2 &  76.52 & -31.08 & 59.10 & -24.76 & 40.30 & -20.25\\\\\n",
       "\t2 & Austria   & 1 &  88.10 & -30.94 & 68.00 & -25.28 & 50.70 & -24.79\\\\\n",
       "\t3 & Brazil    & 2 & 101.21 & -40.05 & 78.00 & -35.27 & 54.04 & -40.50\\\\\n",
       "\t4 & Bulgaria  & 1 &  81.37 & -12.98 & 63.92 & -10.91 & 43.14 & -12.51\\\\\n",
       "\t5 & Canada    & 1 & 103.24 & -49.31 & 85.47 & -39.25 & 74.54 & -55.47\\\\\n",
       "\t6 & China     & 3 & 115.80 & -44.33 & 83.53 & -37.43 & 57.65 & -35.24\\\\\n",
       "\\end{tabular}\n"
      ],
      "text/markdown": [
       "\n",
       "A data.frame: 6 × 8\n",
       "\n",
       "| <!--/--> | Country &lt;chr&gt; | Worldregion &lt;int&gt; | SocialdistanceMean &lt;dbl&gt; | SocialdistanceSD &lt;dbl&gt; | PersonaldistanceMean &lt;dbl&gt; | PersonaldistanceSD &lt;dbl&gt; | IntimatedistanceMean &lt;dbl&gt; | IntimatedistanceSD &lt;dbl&gt; |\n",
       "|---|---|---|---|---|---|---|---|---|\n",
       "| 1 | Argentina | 2 |  76.52 | -31.08 | 59.10 | -24.76 | 40.30 | -20.25 |\n",
       "| 2 | Austria   | 1 |  88.10 | -30.94 | 68.00 | -25.28 | 50.70 | -24.79 |\n",
       "| 3 | Brazil    | 2 | 101.21 | -40.05 | 78.00 | -35.27 | 54.04 | -40.50 |\n",
       "| 4 | Bulgaria  | 1 |  81.37 | -12.98 | 63.92 | -10.91 | 43.14 | -12.51 |\n",
       "| 5 | Canada    | 1 | 103.24 | -49.31 | 85.47 | -39.25 | 74.54 | -55.47 |\n",
       "| 6 | China     | 3 | 115.80 | -44.33 | 83.53 | -37.43 | 57.65 | -35.24 |\n",
       "\n"
      ],
      "text/plain": [
       "  Country   Worldregion SocialdistanceMean SocialdistanceSD\n",
       "1 Argentina 2            76.52             -31.08          \n",
       "2 Austria   1            88.10             -30.94          \n",
       "3 Brazil    2           101.21             -40.05          \n",
       "4 Bulgaria  1            81.37             -12.98          \n",
       "5 Canada    1           103.24             -49.31          \n",
       "6 China     3           115.80             -44.33          \n",
       "  PersonaldistanceMean PersonaldistanceSD IntimatedistanceMean\n",
       "1 59.10                -24.76             40.30               \n",
       "2 68.00                -25.28             50.70               \n",
       "3 78.00                -35.27             54.04               \n",
       "4 63.92                -10.91             43.14               \n",
       "5 85.47                -39.25             74.54               \n",
       "6 83.53                -37.43             57.65               \n",
       "  IntimatedistanceSD\n",
       "1 -20.25            \n",
       "2 -24.79            \n",
       "3 -40.50            \n",
       "4 -12.51            \n",
       "5 -55.47            \n",
       "6 -35.24            "
      ]
     },
     "metadata": {},
     "output_type": "display_data"
    }
   ],
   "source": [
    "head(personalDist)"
   ]
  },
  {
   "cell_type": "code",
   "execution_count": 125,
   "metadata": {},
   "outputs": [
    {
     "data": {
      "text/html": [
       "<style>\n",
       ".list-inline {list-style: none; margin:0; padding: 0}\n",
       ".list-inline>li {display: inline-block}\n",
       ".list-inline>li:not(:last-child)::after {content: \"\\00b7\"; padding: 0 .5ex}\n",
       "</style>\n",
       "<ol class=list-inline><li>'Country'</li><li>'Worldregion'</li><li>'SocialdistanceMean'</li><li>'SocialdistanceSD'</li><li>'PersonaldistanceMean'</li><li>'PersonaldistanceSD'</li><li>'IntimatedistanceMean'</li><li>'IntimatedistanceSD'</li></ol>\n"
      ],
      "text/latex": [
       "\\begin{enumerate*}\n",
       "\\item 'Country'\n",
       "\\item 'Worldregion'\n",
       "\\item 'SocialdistanceMean'\n",
       "\\item 'SocialdistanceSD'\n",
       "\\item 'PersonaldistanceMean'\n",
       "\\item 'PersonaldistanceSD'\n",
       "\\item 'IntimatedistanceMean'\n",
       "\\item 'IntimatedistanceSD'\n",
       "\\end{enumerate*}\n"
      ],
      "text/markdown": [
       "1. 'Country'\n",
       "2. 'Worldregion'\n",
       "3. 'SocialdistanceMean'\n",
       "4. 'SocialdistanceSD'\n",
       "5. 'PersonaldistanceMean'\n",
       "6. 'PersonaldistanceSD'\n",
       "7. 'IntimatedistanceMean'\n",
       "8. 'IntimatedistanceSD'\n",
       "\n",
       "\n"
      ],
      "text/plain": [
       "[1] \"Country\"              \"Worldregion\"          \"SocialdistanceMean\"  \n",
       "[4] \"SocialdistanceSD\"     \"PersonaldistanceMean\" \"PersonaldistanceSD\"  \n",
       "[7] \"IntimatedistanceMean\" \"IntimatedistanceSD\"  "
      ]
     },
     "metadata": {},
     "output_type": "display_data"
    }
   ],
   "source": [
    "names(personalDist)"
   ]
  },
  {
   "cell_type": "code",
   "execution_count": 126,
   "metadata": {},
   "outputs": [],
   "source": [
    "#  1-Europe and North America; 2-South and Latin America, 3-Asia, 4-Africa"
   ]
  },
  {
   "cell_type": "code",
   "execution_count": 127,
   "metadata": {},
   "outputs": [
    {
     "data": {
      "text/html": [
       "<style>\n",
       ".list-inline {list-style: none; margin:0; padding: 0}\n",
       ".list-inline>li {display: inline-block}\n",
       ".list-inline>li:not(:last-child)::after {content: \"\\00b7\"; padding: 0 .5ex}\n",
       "</style>\n",
       "<ol class=list-inline><li>2</li><li>1</li><li>3</li><li>4</li></ol>\n"
      ],
      "text/latex": [
       "\\begin{enumerate*}\n",
       "\\item 2\n",
       "\\item 1\n",
       "\\item 3\n",
       "\\item 4\n",
       "\\end{enumerate*}\n"
      ],
      "text/markdown": [
       "1. 2\n",
       "2. 1\n",
       "3. 3\n",
       "4. 4\n",
       "\n",
       "\n"
      ],
      "text/plain": [
       "[1] 2 1 3 4"
      ]
     },
     "metadata": {},
     "output_type": "display_data"
    }
   ],
   "source": [
    "unique(personalDist$Worldregion)"
   ]
  },
  {
   "cell_type": "code",
   "execution_count": 128,
   "metadata": {},
   "outputs": [],
   "source": [
    "regions = c('EuAndNAmer','S.America','Asia','Africa')"
   ]
  },
  {
   "cell_type": "code",
   "execution_count": 129,
   "metadata": {},
   "outputs": [
    {
     "data": {
      "text/html": [
       "<style>\n",
       ".list-inline {list-style: none; margin:0; padding: 0}\n",
       ".list-inline>li {display: inline-block}\n",
       ".list-inline>li:not(:last-child)::after {content: \"\\00b7\"; padding: 0 .5ex}\n",
       "</style>\n",
       "<ol class=list-inline><li>'S.America'</li><li>'EuAndNAmer'</li><li>'Asia'</li><li>'Africa'</li></ol>\n"
      ],
      "text/latex": [
       "\\begin{enumerate*}\n",
       "\\item 'S.America'\n",
       "\\item 'EuAndNAmer'\n",
       "\\item 'Asia'\n",
       "\\item 'Africa'\n",
       "\\end{enumerate*}\n"
      ],
      "text/markdown": [
       "1. 'S.America'\n",
       "2. 'EuAndNAmer'\n",
       "3. 'Asia'\n",
       "4. 'Africa'\n",
       "\n",
       "\n"
      ],
      "text/plain": [
       "[1] \"S.America\"  \"EuAndNAmer\" \"Asia\"       \"Africa\"    "
      ]
     },
     "metadata": {},
     "output_type": "display_data"
    }
   ],
   "source": [
    "regions[unique(personalDist$Worldregion)]"
   ]
  },
  {
   "cell_type": "code",
   "execution_count": 130,
   "metadata": {},
   "outputs": [
    {
     "data": {
      "image/png": "[encoded data removed]",
      "text/plain": [
       "plot without title"
      ]
     },
     "metadata": {
      "image/png": {
       "height": 420,
       "width": 420
      }
     },
     "output_type": "display_data"
    }
   ],
   "source": [
    "boxplot( SocialdistanceMean~Worldregion , data = personalDist, names = regions )"
   ]
  },
  {
   "cell_type": "code",
   "execution_count": 131,
   "metadata": {},
   "outputs": [
    {
     "data": {
      "text/html": [
       "<table>\n",
       "<caption>A data.frame: 6 × 1</caption>\n",
       "<thead>\n",
       "\t<tr><th></th><th scope=col>Worldregion</th></tr>\n",
       "\t<tr><th></th><th scope=col>&lt;int&gt;</th></tr>\n",
       "</thead>\n",
       "<tbody>\n",
       "\t<tr><th scope=row>1</th><td>2</td></tr>\n",
       "\t<tr><th scope=row>2</th><td>1</td></tr>\n",
       "\t<tr><th scope=row>3</th><td>2</td></tr>\n",
       "\t<tr><th scope=row>4</th><td>1</td></tr>\n",
       "\t<tr><th scope=row>5</th><td>1</td></tr>\n",
       "\t<tr><th scope=row>6</th><td>3</td></tr>\n",
       "</tbody>\n",
       "</table>\n"
      ],
      "text/latex": [
       "A data.frame: 6 × 1\n",
       "\\begin{tabular}{r|l}\n",
       "  & Worldregion\\\\\n",
       "  & <int>\\\\\n",
       "\\hline\n",
       "\t1 & 2\\\\\n",
       "\t2 & 1\\\\\n",
       "\t3 & 2\\\\\n",
       "\t4 & 1\\\\\n",
       "\t5 & 1\\\\\n",
       "\t6 & 3\\\\\n",
       "\\end{tabular}\n"
      ],
      "text/markdown": [
       "\n",
       "A data.frame: 6 × 1\n",
       "\n",
       "| <!--/--> | Worldregion &lt;int&gt; |\n",
       "|---|---|\n",
       "| 1 | 2 |\n",
       "| 2 | 1 |\n",
       "| 3 | 2 |\n",
       "| 4 | 1 |\n",
       "| 5 | 1 |\n",
       "| 6 | 3 |\n",
       "\n"
      ],
      "text/plain": [
       "  Worldregion\n",
       "1 2          \n",
       "2 1          \n",
       "3 2          \n",
       "4 1          \n",
       "5 1          \n",
       "6 3          "
      ]
     },
     "metadata": {},
     "output_type": "display_data"
    }
   ],
   "source": [
    "head( personalDist[2] )"
   ]
  },
  {
   "cell_type": "code",
   "execution_count": 132,
   "metadata": {},
   "outputs": [
    {
     "data": {
      "text/html": [
       "<style>\n",
       ".list-inline {list-style: none; margin:0; padding: 0}\n",
       ".list-inline>li {display: inline-block}\n",
       ".list-inline>li:not(:last-child)::after {content: \"\\00b7\"; padding: 0 .5ex}\n",
       "</style>\n",
       "<ol class=list-inline><li>'S.America'</li><li>'EuAndNAmer'</li><li>'S.America'</li><li>'EuAndNAmer'</li><li>'EuAndNAmer'</li><li>'Asia'</li></ol>\n"
      ],
      "text/latex": [
       "\\begin{enumerate*}\n",
       "\\item 'S.America'\n",
       "\\item 'EuAndNAmer'\n",
       "\\item 'S.America'\n",
       "\\item 'EuAndNAmer'\n",
       "\\item 'EuAndNAmer'\n",
       "\\item 'Asia'\n",
       "\\end{enumerate*}\n"
      ],
      "text/markdown": [
       "1. 'S.America'\n",
       "2. 'EuAndNAmer'\n",
       "3. 'S.America'\n",
       "4. 'EuAndNAmer'\n",
       "5. 'EuAndNAmer'\n",
       "6. 'Asia'\n",
       "\n",
       "\n"
      ],
      "text/plain": [
       "[1] \"S.America\"  \"EuAndNAmer\" \"S.America\"  \"EuAndNAmer\" \"EuAndNAmer\"\n",
       "[6] \"Asia\"      "
      ]
     },
     "metadata": {},
     "output_type": "display_data"
    }
   ],
   "source": [
    "regions[ head( personalDist[[2]] ) ]"
   ]
  },
  {
   "cell_type": "code",
   "execution_count": 133,
   "metadata": {},
   "outputs": [
    {
     "data": {
      "text/html": [
       "<style>\n",
       ".list-inline {list-style: none; margin:0; padding: 0}\n",
       ".list-inline>li {display: inline-block}\n",
       ".list-inline>li:not(:last-child)::after {content: \"\\00b7\"; padding: 0 .5ex}\n",
       "</style>\n",
       "<ol class=list-inline><li>'S.America'</li><li>'EuAndNAmer'</li><li>'S.America'</li><li>'EuAndNAmer'</li><li>'EuAndNAmer'</li><li>'Asia'</li><li>'S.America'</li><li>'EuAndNAmer'</li><li>'EuAndNAmer'</li><li>'EuAndNAmer'</li></ol>\n"
      ],
      "text/latex": [
       "\\begin{enumerate*}\n",
       "\\item 'S.America'\n",
       "\\item 'EuAndNAmer'\n",
       "\\item 'S.America'\n",
       "\\item 'EuAndNAmer'\n",
       "\\item 'EuAndNAmer'\n",
       "\\item 'Asia'\n",
       "\\item 'S.America'\n",
       "\\item 'EuAndNAmer'\n",
       "\\item 'EuAndNAmer'\n",
       "\\item 'EuAndNAmer'\n",
       "\\end{enumerate*}\n"
      ],
      "text/markdown": [
       "1. 'S.America'\n",
       "2. 'EuAndNAmer'\n",
       "3. 'S.America'\n",
       "4. 'EuAndNAmer'\n",
       "5. 'EuAndNAmer'\n",
       "6. 'Asia'\n",
       "7. 'S.America'\n",
       "8. 'EuAndNAmer'\n",
       "9. 'EuAndNAmer'\n",
       "10. 'EuAndNAmer'\n",
       "\n",
       "\n"
      ],
      "text/plain": [
       " [1] \"S.America\"  \"EuAndNAmer\" \"S.America\"  \"EuAndNAmer\" \"EuAndNAmer\"\n",
       " [6] \"Asia\"       \"S.America\"  \"EuAndNAmer\" \"EuAndNAmer\" \"EuAndNAmer\""
      ]
     },
     "metadata": {},
     "output_type": "display_data"
    }
   ],
   "source": [
    "regions[ head( personalDist[[2]],10 ) ]"
   ]
  },
  {
   "cell_type": "code",
   "execution_count": null,
   "metadata": {},
   "outputs": [],
   "source": []
  },
  {
   "cell_type": "code",
   "execution_count": 134,
   "metadata": {},
   "outputs": [
    {
     "data": {
      "text/html": [
       "<table>\n",
       "<caption>A data.frame: 6 × 8</caption>\n",
       "<thead>\n",
       "\t<tr><th></th><th scope=col>Country</th><th scope=col>Worldregion</th><th scope=col>SocialdistanceMean</th><th scope=col>SocialdistanceSD</th><th scope=col>PersonaldistanceMean</th><th scope=col>PersonaldistanceSD</th><th scope=col>IntimatedistanceMean</th><th scope=col>IntimatedistanceSD</th></tr>\n",
       "\t<tr><th></th><th scope=col>&lt;chr&gt;</th><th scope=col>&lt;int&gt;</th><th scope=col>&lt;dbl&gt;</th><th scope=col>&lt;dbl&gt;</th><th scope=col>&lt;dbl&gt;</th><th scope=col>&lt;dbl&gt;</th><th scope=col>&lt;dbl&gt;</th><th scope=col>&lt;dbl&gt;</th></tr>\n",
       "</thead>\n",
       "<tbody>\n",
       "\t<tr><th scope=row>1</th><td>Argentina</td><td>2</td><td> 76.52</td><td>-31.08</td><td>59.10</td><td>-24.76</td><td>40.30</td><td>-20.25</td></tr>\n",
       "\t<tr><th scope=row>2</th><td>Austria  </td><td>1</td><td> 88.10</td><td>-30.94</td><td>68.00</td><td>-25.28</td><td>50.70</td><td>-24.79</td></tr>\n",
       "\t<tr><th scope=row>3</th><td>Brazil   </td><td>2</td><td>101.21</td><td>-40.05</td><td>78.00</td><td>-35.27</td><td>54.04</td><td>-40.50</td></tr>\n",
       "\t<tr><th scope=row>4</th><td>Bulgaria </td><td>1</td><td> 81.37</td><td>-12.98</td><td>63.92</td><td>-10.91</td><td>43.14</td><td>-12.51</td></tr>\n",
       "\t<tr><th scope=row>5</th><td>Canada   </td><td>1</td><td>103.24</td><td>-49.31</td><td>85.47</td><td>-39.25</td><td>74.54</td><td>-55.47</td></tr>\n",
       "\t<tr><th scope=row>6</th><td>China    </td><td>3</td><td>115.80</td><td>-44.33</td><td>83.53</td><td>-37.43</td><td>57.65</td><td>-35.24</td></tr>\n",
       "</tbody>\n",
       "</table>\n"
      ],
      "text/latex": [
       "A data.frame: 6 × 8\n",
       "\\begin{tabular}{r|llllllll}\n",
       "  & Country & Worldregion & SocialdistanceMean & SocialdistanceSD & PersonaldistanceMean & PersonaldistanceSD & IntimatedistanceMean & IntimatedistanceSD\\\\\n",
       "  & <chr> & <int> & <dbl> & <dbl> & <dbl> & <dbl> & <dbl> & <dbl>\\\\\n",
       "\\hline\n",
       "\t1 & Argentina & 2 &  76.52 & -31.08 & 59.10 & -24.76 & 40.30 & -20.25\\\\\n",
       "\t2 & Austria   & 1 &  88.10 & -30.94 & 68.00 & -25.28 & 50.70 & -24.79\\\\\n",
       "\t3 & Brazil    & 2 & 101.21 & -40.05 & 78.00 & -35.27 & 54.04 & -40.50\\\\\n",
       "\t4 & Bulgaria  & 1 &  81.37 & -12.98 & 63.92 & -10.91 & 43.14 & -12.51\\\\\n",
       "\t5 & Canada    & 1 & 103.24 & -49.31 & 85.47 & -39.25 & 74.54 & -55.47\\\\\n",
       "\t6 & China     & 3 & 115.80 & -44.33 & 83.53 & -37.43 & 57.65 & -35.24\\\\\n",
       "\\end{tabular}\n"
      ],
      "text/markdown": [
       "\n",
       "A data.frame: 6 × 8\n",
       "\n",
       "| <!--/--> | Country &lt;chr&gt; | Worldregion &lt;int&gt; | SocialdistanceMean &lt;dbl&gt; | SocialdistanceSD &lt;dbl&gt; | PersonaldistanceMean &lt;dbl&gt; | PersonaldistanceSD &lt;dbl&gt; | IntimatedistanceMean &lt;dbl&gt; | IntimatedistanceSD &lt;dbl&gt; |\n",
       "|---|---|---|---|---|---|---|---|---|\n",
       "| 1 | Argentina | 2 |  76.52 | -31.08 | 59.10 | -24.76 | 40.30 | -20.25 |\n",
       "| 2 | Austria   | 1 |  88.10 | -30.94 | 68.00 | -25.28 | 50.70 | -24.79 |\n",
       "| 3 | Brazil    | 2 | 101.21 | -40.05 | 78.00 | -35.27 | 54.04 | -40.50 |\n",
       "| 4 | Bulgaria  | 1 |  81.37 | -12.98 | 63.92 | -10.91 | 43.14 | -12.51 |\n",
       "| 5 | Canada    | 1 | 103.24 | -49.31 | 85.47 | -39.25 | 74.54 | -55.47 |\n",
       "| 6 | China     | 3 | 115.80 | -44.33 | 83.53 | -37.43 | 57.65 | -35.24 |\n",
       "\n"
      ],
      "text/plain": [
       "  Country   Worldregion SocialdistanceMean SocialdistanceSD\n",
       "1 Argentina 2            76.52             -31.08          \n",
       "2 Austria   1            88.10             -30.94          \n",
       "3 Brazil    2           101.21             -40.05          \n",
       "4 Bulgaria  1            81.37             -12.98          \n",
       "5 Canada    1           103.24             -49.31          \n",
       "6 China     3           115.80             -44.33          \n",
       "  PersonaldistanceMean PersonaldistanceSD IntimatedistanceMean\n",
       "1 59.10                -24.76             40.30               \n",
       "2 68.00                -25.28             50.70               \n",
       "3 78.00                -35.27             54.04               \n",
       "4 63.92                -10.91             43.14               \n",
       "5 85.47                -39.25             74.54               \n",
       "6 83.53                -37.43             57.65               \n",
       "  IntimatedistanceSD\n",
       "1 -20.25            \n",
       "2 -24.79            \n",
       "3 -40.50            \n",
       "4 -12.51            \n",
       "5 -55.47            \n",
       "6 -35.24            "
      ]
     },
     "metadata": {},
     "output_type": "display_data"
    }
   ],
   "source": [
    "head( personalDist )"
   ]
  },
  {
   "cell_type": "code",
   "execution_count": 135,
   "metadata": {},
   "outputs": [
    {
     "data": {
      "text/html": [
       "42"
      ],
      "text/latex": [
       "42"
      ],
      "text/markdown": [
       "42"
      ],
      "text/plain": [
       "[1] 42"
      ]
     },
     "metadata": {},
     "output_type": "display_data"
    }
   ],
   "source": [
    "dim(personalDist)[1]"
   ]
  },
  {
   "cell_type": "code",
   "execution_count": 195,
   "metadata": {},
   "outputs": [
    {
     "data": {
      "text/html": [
       "<table>\n",
       "<caption>A data.frame: 6 × 1</caption>\n",
       "<thead>\n",
       "\t<tr><th></th><th scope=col>Country</th></tr>\n",
       "\t<tr><th></th><th scope=col>&lt;chr&gt;</th></tr>\n",
       "</thead>\n",
       "<tbody>\n",
       "\t<tr><th scope=row>1</th><td>Argentina</td></tr>\n",
       "\t<tr><th scope=row>2</th><td>Austria  </td></tr>\n",
       "\t<tr><th scope=row>3</th><td>Brazil   </td></tr>\n",
       "\t<tr><th scope=row>4</th><td>Bulgaria </td></tr>\n",
       "\t<tr><th scope=row>5</th><td>Canada   </td></tr>\n",
       "\t<tr><th scope=row>6</th><td>China    </td></tr>\n",
       "</tbody>\n",
       "</table>\n"
      ],
      "text/latex": [
       "A data.frame: 6 × 1\n",
       "\\begin{tabular}{r|l}\n",
       "  & Country\\\\\n",
       "  & <chr>\\\\\n",
       "\\hline\n",
       "\t1 & Argentina\\\\\n",
       "\t2 & Austria  \\\\\n",
       "\t3 & Brazil   \\\\\n",
       "\t4 & Bulgaria \\\\\n",
       "\t5 & Canada   \\\\\n",
       "\t6 & China    \\\\\n",
       "\\end{tabular}\n"
      ],
      "text/markdown": [
       "\n",
       "A data.frame: 6 × 1\n",
       "\n",
       "| <!--/--> | Country &lt;chr&gt; |\n",
       "|---|---|\n",
       "| 1 | Argentina |\n",
       "| 2 | Austria   |\n",
       "| 3 | Brazil    |\n",
       "| 4 | Bulgaria  |\n",
       "| 5 | Canada    |\n",
       "| 6 | China     |\n",
       "\n"
      ],
      "text/plain": [
       "  Country  \n",
       "1 Argentina\n",
       "2 Austria  \n",
       "3 Brazil   \n",
       "4 Bulgaria \n",
       "5 Canada   \n",
       "6 China    "
      ]
     },
     "metadata": {},
     "output_type": "display_data"
    }
   ],
   "source": [
    "head(personalDist)[1]"
   ]
  },
  {
   "cell_type": "code",
   "execution_count": 196,
   "metadata": {},
   "outputs": [
    {
     "data": {
      "text/html": [
       "<table>\n",
       "<caption>A data.frame: 6 × 1</caption>\n",
       "<thead>\n",
       "\t<tr><th></th><th scope=col>Worldregion</th></tr>\n",
       "\t<tr><th></th><th scope=col>&lt;int&gt;</th></tr>\n",
       "</thead>\n",
       "<tbody>\n",
       "\t<tr><th scope=row>1</th><td>2</td></tr>\n",
       "\t<tr><th scope=row>2</th><td>1</td></tr>\n",
       "\t<tr><th scope=row>3</th><td>2</td></tr>\n",
       "\t<tr><th scope=row>4</th><td>1</td></tr>\n",
       "\t<tr><th scope=row>5</th><td>1</td></tr>\n",
       "\t<tr><th scope=row>6</th><td>3</td></tr>\n",
       "</tbody>\n",
       "</table>\n"
      ],
      "text/latex": [
       "A data.frame: 6 × 1\n",
       "\\begin{tabular}{r|l}\n",
       "  & Worldregion\\\\\n",
       "  & <int>\\\\\n",
       "\\hline\n",
       "\t1 & 2\\\\\n",
       "\t2 & 1\\\\\n",
       "\t3 & 2\\\\\n",
       "\t4 & 1\\\\\n",
       "\t5 & 1\\\\\n",
       "\t6 & 3\\\\\n",
       "\\end{tabular}\n"
      ],
      "text/markdown": [
       "\n",
       "A data.frame: 6 × 1\n",
       "\n",
       "| <!--/--> | Worldregion &lt;int&gt; |\n",
       "|---|---|\n",
       "| 1 | 2 |\n",
       "| 2 | 1 |\n",
       "| 3 | 2 |\n",
       "| 4 | 1 |\n",
       "| 5 | 1 |\n",
       "| 6 | 3 |\n",
       "\n"
      ],
      "text/plain": [
       "  Worldregion\n",
       "1 2          \n",
       "2 1          \n",
       "3 2          \n",
       "4 1          \n",
       "5 1          \n",
       "6 3          "
      ]
     },
     "metadata": {},
     "output_type": "display_data"
    }
   ],
   "source": [
    "head(personalDist)[2]"
   ]
  },
  {
   "cell_type": "code",
   "execution_count": 197,
   "metadata": {},
   "outputs": [],
   "source": [
    "personalDist.new = personalDist[-1]"
   ]
  },
  {
   "cell_type": "code",
   "execution_count": 198,
   "metadata": {},
   "outputs": [
    {
     "data": {
      "text/html": [
       "<table>\n",
       "<caption>A data.frame: 6 × 7</caption>\n",
       "<thead>\n",
       "\t<tr><th></th><th scope=col>Worldregion</th><th scope=col>SocialdistanceMean</th><th scope=col>SocialdistanceSD</th><th scope=col>PersonaldistanceMean</th><th scope=col>PersonaldistanceSD</th><th scope=col>IntimatedistanceMean</th><th scope=col>IntimatedistanceSD</th></tr>\n",
       "\t<tr><th></th><th scope=col>&lt;int&gt;</th><th scope=col>&lt;dbl&gt;</th><th scope=col>&lt;dbl&gt;</th><th scope=col>&lt;dbl&gt;</th><th scope=col>&lt;dbl&gt;</th><th scope=col>&lt;dbl&gt;</th><th scope=col>&lt;dbl&gt;</th></tr>\n",
       "</thead>\n",
       "<tbody>\n",
       "\t<tr><th scope=row>1</th><td>2</td><td> 76.52</td><td>-31.08</td><td>59.10</td><td>-24.76</td><td>40.30</td><td>-20.25</td></tr>\n",
       "\t<tr><th scope=row>2</th><td>1</td><td> 88.10</td><td>-30.94</td><td>68.00</td><td>-25.28</td><td>50.70</td><td>-24.79</td></tr>\n",
       "\t<tr><th scope=row>3</th><td>2</td><td>101.21</td><td>-40.05</td><td>78.00</td><td>-35.27</td><td>54.04</td><td>-40.50</td></tr>\n",
       "\t<tr><th scope=row>4</th><td>1</td><td> 81.37</td><td>-12.98</td><td>63.92</td><td>-10.91</td><td>43.14</td><td>-12.51</td></tr>\n",
       "\t<tr><th scope=row>5</th><td>1</td><td>103.24</td><td>-49.31</td><td>85.47</td><td>-39.25</td><td>74.54</td><td>-55.47</td></tr>\n",
       "\t<tr><th scope=row>6</th><td>3</td><td>115.80</td><td>-44.33</td><td>83.53</td><td>-37.43</td><td>57.65</td><td>-35.24</td></tr>\n",
       "</tbody>\n",
       "</table>\n"
      ],
      "text/latex": [
       "A data.frame: 6 × 7\n",
       "\\begin{tabular}{r|lllllll}\n",
       "  & Worldregion & SocialdistanceMean & SocialdistanceSD & PersonaldistanceMean & PersonaldistanceSD & IntimatedistanceMean & IntimatedistanceSD\\\\\n",
       "  & <int> & <dbl> & <dbl> & <dbl> & <dbl> & <dbl> & <dbl>\\\\\n",
       "\\hline\n",
       "\t1 & 2 &  76.52 & -31.08 & 59.10 & -24.76 & 40.30 & -20.25\\\\\n",
       "\t2 & 1 &  88.10 & -30.94 & 68.00 & -25.28 & 50.70 & -24.79\\\\\n",
       "\t3 & 2 & 101.21 & -40.05 & 78.00 & -35.27 & 54.04 & -40.50\\\\\n",
       "\t4 & 1 &  81.37 & -12.98 & 63.92 & -10.91 & 43.14 & -12.51\\\\\n",
       "\t5 & 1 & 103.24 & -49.31 & 85.47 & -39.25 & 74.54 & -55.47\\\\\n",
       "\t6 & 3 & 115.80 & -44.33 & 83.53 & -37.43 & 57.65 & -35.24\\\\\n",
       "\\end{tabular}\n"
      ],
      "text/markdown": [
       "\n",
       "A data.frame: 6 × 7\n",
       "\n",
       "| <!--/--> | Worldregion &lt;int&gt; | SocialdistanceMean &lt;dbl&gt; | SocialdistanceSD &lt;dbl&gt; | PersonaldistanceMean &lt;dbl&gt; | PersonaldistanceSD &lt;dbl&gt; | IntimatedistanceMean &lt;dbl&gt; | IntimatedistanceSD &lt;dbl&gt; |\n",
       "|---|---|---|---|---|---|---|---|\n",
       "| 1 | 2 |  76.52 | -31.08 | 59.10 | -24.76 | 40.30 | -20.25 |\n",
       "| 2 | 1 |  88.10 | -30.94 | 68.00 | -25.28 | 50.70 | -24.79 |\n",
       "| 3 | 2 | 101.21 | -40.05 | 78.00 | -35.27 | 54.04 | -40.50 |\n",
       "| 4 | 1 |  81.37 | -12.98 | 63.92 | -10.91 | 43.14 | -12.51 |\n",
       "| 5 | 1 | 103.24 | -49.31 | 85.47 | -39.25 | 74.54 | -55.47 |\n",
       "| 6 | 3 | 115.80 | -44.33 | 83.53 | -37.43 | 57.65 | -35.24 |\n",
       "\n"
      ],
      "text/plain": [
       "  Worldregion SocialdistanceMean SocialdistanceSD PersonaldistanceMean\n",
       "1 2            76.52             -31.08           59.10               \n",
       "2 1            88.10             -30.94           68.00               \n",
       "3 2           101.21             -40.05           78.00               \n",
       "4 1            81.37             -12.98           63.92               \n",
       "5 1           103.24             -49.31           85.47               \n",
       "6 3           115.80             -44.33           83.53               \n",
       "  PersonaldistanceSD IntimatedistanceMean IntimatedistanceSD\n",
       "1 -24.76             40.30                -20.25            \n",
       "2 -25.28             50.70                -24.79            \n",
       "3 -35.27             54.04                -40.50            \n",
       "4 -10.91             43.14                -12.51            \n",
       "5 -39.25             74.54                -55.47            \n",
       "6 -37.43             57.65                -35.24            "
      ]
     },
     "metadata": {},
     "output_type": "display_data"
    }
   ],
   "source": [
    "head(personalDist.new)"
   ]
  },
  {
   "cell_type": "code",
   "execution_count": 225,
   "metadata": {},
   "outputs": [],
   "source": [
    "\n",
    "personalDist.train.inds = createDataPartition(seq(1:dim(personalDist.new)[1]), p=0.75, list=FALSE)\n",
    "\n",
    "personalDist.train = personalDist.new[personalDist.train.inds,]\n",
    "\n",
    "personalDist.test = personalDist.new[-personalDist.train.inds,]\n"
   ]
  },
  {
   "cell_type": "code",
   "execution_count": 226,
   "metadata": {},
   "outputs": [],
   "source": [
    "#install.packages('BBmisc')\n",
    "library('BBmisc')"
   ]
  },
  {
   "cell_type": "code",
   "execution_count": 227,
   "metadata": {},
   "outputs": [
    {
     "data": {
      "text/html": [
       "<style>\n",
       ".list-inline {list-style: none; margin:0; padding: 0}\n",
       ".list-inline>li {display: inline-block}\n",
       ".list-inline>li:not(:last-child)::after {content: \"\\00b7\"; padding: 0 .5ex}\n",
       "</style>\n",
       "<ol class=list-inline><li>34</li><li>4</li></ol>\n"
      ],
      "text/latex": [
       "\\begin{enumerate*}\n",
       "\\item 34\n",
       "\\item 4\n",
       "\\end{enumerate*}\n"
      ],
      "text/markdown": [
       "1. 34\n",
       "2. 4\n",
       "\n",
       "\n"
      ],
      "text/plain": [
       "[1] 34  4"
      ]
     },
     "metadata": {},
     "output_type": "display_data"
    }
   ],
   "source": [
    "dim( class.ind(personalDist.train$Worldregion) )"
   ]
  },
  {
   "cell_type": "code",
   "execution_count": 228,
   "metadata": {},
   "outputs": [
    {
     "data": {
      "text/html": [
       "<style>\n",
       ".list-inline {list-style: none; margin:0; padding: 0}\n",
       ".list-inline>li {display: inline-block}\n",
       ".list-inline>li:not(:last-child)::after {content: \"\\00b7\"; padding: 0 .5ex}\n",
       "</style>\n",
       "<ol class=list-inline><li>34</li><li>7</li></ol>\n"
      ],
      "text/latex": [
       "\\begin{enumerate*}\n",
       "\\item 34\n",
       "\\item 7\n",
       "\\end{enumerate*}\n"
      ],
      "text/markdown": [
       "1. 34\n",
       "2. 7\n",
       "\n",
       "\n"
      ],
      "text/plain": [
       "[1] 34  7"
      ]
     },
     "metadata": {},
     "output_type": "display_data"
    }
   ],
   "source": [
    "dim(personalDist.train)"
   ]
  },
  {
   "cell_type": "code",
   "execution_count": 229,
   "metadata": {},
   "outputs": [
    {
     "name": "stdout",
     "output_type": "stream",
     "text": [
      "[1]   1   2  10 111\n"
     ]
    },
    {
     "data": {
      "text/html": [
       "<table>\n",
       "<caption>A matrix: 8 × 4 of type dbl</caption>\n",
       "<thead>\n",
       "\t<tr><th scope=col>1</th><th scope=col>2</th><th scope=col>10</th><th scope=col>111</th></tr>\n",
       "</thead>\n",
       "<tbody>\n",
       "\t<tr><td>1</td><td>0</td><td>0</td><td>0</td></tr>\n",
       "\t<tr><td>0</td><td>1</td><td>0</td><td>0</td></tr>\n",
       "\t<tr><td>0</td><td>1</td><td>0</td><td>0</td></tr>\n",
       "\t<tr><td>1</td><td>0</td><td>0</td><td>0</td></tr>\n",
       "\t<tr><td>1</td><td>0</td><td>0</td><td>0</td></tr>\n",
       "\t<tr><td>0</td><td>0</td><td>1</td><td>0</td></tr>\n",
       "\t<tr><td>0</td><td>0</td><td>0</td><td>1</td></tr>\n",
       "\t<tr><td>0</td><td>1</td><td>0</td><td>0</td></tr>\n",
       "</tbody>\n",
       "</table>\n"
      ],
      "text/latex": [
       "A matrix: 8 × 4 of type dbl\n",
       "\\begin{tabular}{llll}\n",
       " 1 & 2 & 10 & 111\\\\\n",
       "\\hline\n",
       "\t 1 & 0 & 0 & 0\\\\\n",
       "\t 0 & 1 & 0 & 0\\\\\n",
       "\t 0 & 1 & 0 & 0\\\\\n",
       "\t 1 & 0 & 0 & 0\\\\\n",
       "\t 1 & 0 & 0 & 0\\\\\n",
       "\t 0 & 0 & 1 & 0\\\\\n",
       "\t 0 & 0 & 0 & 1\\\\\n",
       "\t 0 & 1 & 0 & 0\\\\\n",
       "\\end{tabular}\n"
      ],
      "text/markdown": [
       "\n",
       "A matrix: 8 × 4 of type dbl\n",
       "\n",
       "| 1 | 2 | 10 | 111 |\n",
       "|---|---|---|---|\n",
       "| 1 | 0 | 0 | 0 |\n",
       "| 0 | 1 | 0 | 0 |\n",
       "| 0 | 1 | 0 | 0 |\n",
       "| 1 | 0 | 0 | 0 |\n",
       "| 1 | 0 | 0 | 0 |\n",
       "| 0 | 0 | 1 | 0 |\n",
       "| 0 | 0 | 0 | 1 |\n",
       "| 0 | 1 | 0 | 0 |\n",
       "\n"
      ],
      "text/plain": [
       "     1 2 10 111\n",
       "[1,] 1 0 0  0  \n",
       "[2,] 0 1 0  0  \n",
       "[3,] 0 1 0  0  \n",
       "[4,] 1 0 0  0  \n",
       "[5,] 1 0 0  0  \n",
       "[6,] 0 0 1  0  \n",
       "[7,] 0 0 0  1  \n",
       "[8,] 0 1 0  0  "
      ]
     },
     "metadata": {},
     "output_type": "display_data"
    }
   ],
   "source": [
    "tmp = unique( c(1,2,2,1,1,10,111,2) )\n",
    "print(tmp)\n",
    "class.ind( c(1,2,2,1,1,10,111,2) )"
   ]
  },
  {
   "cell_type": "code",
   "execution_count": 230,
   "metadata": {},
   "outputs": [],
   "source": [
    "\n",
    "regionsDum = class.ind(personalDist.train$Worldregion)\n"
   ]
  },
  {
   "cell_type": "code",
   "execution_count": 231,
   "metadata": {},
   "outputs": [
    {
     "data": {
      "text/html": [
       "<style>\n",
       ".dl-inline {width: auto; margin:0; padding: 0}\n",
       ".dl-inline>dt, .dl-inline>dd {float: none; width: auto; display: inline-block}\n",
       ".dl-inline>dt::after {content: \":\\0020\"; padding-right: .5ex}\n",
       ".dl-inline>dt:not(:first-of-type) {padding-left: .5ex}\n",
       "</style><dl class=dl-inline><dt>1</dt><dd>1</dd><dt>2</dt><dd>0</dd><dt>3</dt><dd>0</dd><dt>4</dt><dd>0</dd></dl>\n"
      ],
      "text/latex": [
       "\\begin{description*}\n",
       "\\item[1] 1\n",
       "\\item[2] 0\n",
       "\\item[3] 0\n",
       "\\item[4] 0\n",
       "\\end{description*}\n"
      ],
      "text/markdown": [
       "1\n",
       ":   12\n",
       ":   03\n",
       ":   04\n",
       ":   0\n",
       "\n"
      ],
      "text/plain": [
       "1 2 3 4 \n",
       "1 0 0 0 "
      ]
     },
     "metadata": {},
     "output_type": "display_data"
    }
   ],
   "source": [
    "regionsDum[22,]"
   ]
  },
  {
   "cell_type": "code",
   "execution_count": 232,
   "metadata": {},
   "outputs": [
    {
     "data": {
      "text/html": [
       "<style>\n",
       ".list-inline {list-style: none; margin:0; padding: 0}\n",
       ".list-inline>li {display: inline-block}\n",
       ".list-inline>li:not(:last-child)::after {content: \"\\00b7\"; padding: 0 .5ex}\n",
       "</style>\n",
       "<ol class=list-inline><li>'EuAndNAmer'</li><li>'S.America'</li><li>'Asia'</li><li>'Africa'</li></ol>\n"
      ],
      "text/latex": [
       "\\begin{enumerate*}\n",
       "\\item 'EuAndNAmer'\n",
       "\\item 'S.America'\n",
       "\\item 'Asia'\n",
       "\\item 'Africa'\n",
       "\\end{enumerate*}\n"
      ],
      "text/markdown": [
       "1. 'EuAndNAmer'\n",
       "2. 'S.America'\n",
       "3. 'Asia'\n",
       "4. 'Africa'\n",
       "\n",
       "\n"
      ],
      "text/plain": [
       "[1] \"EuAndNAmer\" \"S.America\"  \"Asia\"       \"Africa\"    "
      ]
     },
     "metadata": {},
     "output_type": "display_data"
    }
   ],
   "source": [
    "regions"
   ]
  },
  {
   "cell_type": "code",
   "execution_count": 233,
   "metadata": {},
   "outputs": [
    {
     "data": {
      "text/html": [
       "'EuAndNAmer'"
      ],
      "text/latex": [
       "'EuAndNAmer'"
      ],
      "text/markdown": [
       "'EuAndNAmer'"
      ],
      "text/plain": [
       "[1] \"EuAndNAmer\""
      ]
     },
     "metadata": {},
     "output_type": "display_data"
    }
   ],
   "source": [
    "regions[ which.is.max(regionsDum[22,]) ]"
   ]
  },
  {
   "cell_type": "code",
   "execution_count": 234,
   "metadata": {},
   "outputs": [],
   "source": [
    "personalDist.train$Y = class.ind(personalDist.train$Worldregion)\n",
    "\n",
    "personalDist.train$Worldregion=NULL"
   ]
  },
  {
   "cell_type": "code",
   "execution_count": null,
   "metadata": {},
   "outputs": [],
   "source": []
  },
  {
   "cell_type": "code",
   "execution_count": 235,
   "metadata": {},
   "outputs": [
    {
     "data": {
      "text/html": [
       "<table>\n",
       "<caption>A data.frame: 6 × 7</caption>\n",
       "<thead>\n",
       "\t<tr><th></th><th scope=col>SocialdistanceMean</th><th scope=col>SocialdistanceSD</th><th scope=col>PersonaldistanceMean</th><th scope=col>PersonaldistanceSD</th><th scope=col>IntimatedistanceMean</th><th scope=col>IntimatedistanceSD</th><th scope=col>Y</th></tr>\n",
       "\t<tr><th></th><th scope=col>&lt;dbl&gt;</th><th scope=col>&lt;dbl&gt;</th><th scope=col>&lt;dbl&gt;</th><th scope=col>&lt;dbl&gt;</th><th scope=col>&lt;dbl&gt;</th><th scope=col>&lt;dbl&gt;</th><th scope=col>&lt;dbl[,4]&gt;</th></tr>\n",
       "</thead>\n",
       "<tbody>\n",
       "\t<tr><th scope=row>1</th><td> 76.52</td><td>-31.08</td><td>59.10</td><td>-24.76</td><td>40.30</td><td>-20.25</td><td>0, 1, 0, 0</td></tr>\n",
       "\t<tr><th scope=row>2</th><td> 88.10</td><td>-30.94</td><td>68.00</td><td>-25.28</td><td>50.70</td><td>-24.79</td><td>1, 0, 0, 0</td></tr>\n",
       "\t<tr><th scope=row>3</th><td>101.21</td><td>-40.05</td><td>78.00</td><td>-35.27</td><td>54.04</td><td>-40.50</td><td>0, 1, 0, 0</td></tr>\n",
       "\t<tr><th scope=row>5</th><td>103.24</td><td>-49.31</td><td>85.47</td><td>-39.25</td><td>74.54</td><td>-55.47</td><td>1, 0, 0, 0</td></tr>\n",
       "\t<tr><th scope=row>6</th><td>115.80</td><td>-44.33</td><td>83.53</td><td>-37.43</td><td>57.65</td><td>-35.24</td><td>0, 0, 1, 0</td></tr>\n",
       "\t<tr><th scope=row>7</th><td>117.40</td><td>-40.47</td><td>85.60</td><td>-34.36</td><td>60.80</td><td>-37.38</td><td>0, 1, 0, 0</td></tr>\n",
       "</tbody>\n",
       "</table>\n"
      ],
      "text/latex": [
       "A data.frame: 6 × 7\n",
       "\\begin{tabular}{r|lllllll}\n",
       "  & SocialdistanceMean & SocialdistanceSD & PersonaldistanceMean & PersonaldistanceSD & IntimatedistanceMean & IntimatedistanceSD & Y\\\\\n",
       "  & <dbl> & <dbl> & <dbl> & <dbl> & <dbl> & <dbl> & <dbl{[},4{]}>\\\\\n",
       "\\hline\n",
       "\t1 &  76.52 & -31.08 & 59.10 & -24.76 & 40.30 & -20.25 & 0, 1, 0, 0\\\\\n",
       "\t2 &  88.10 & -30.94 & 68.00 & -25.28 & 50.70 & -24.79 & 1, 0, 0, 0\\\\\n",
       "\t3 & 101.21 & -40.05 & 78.00 & -35.27 & 54.04 & -40.50 & 0, 1, 0, 0\\\\\n",
       "\t5 & 103.24 & -49.31 & 85.47 & -39.25 & 74.54 & -55.47 & 1, 0, 0, 0\\\\\n",
       "\t6 & 115.80 & -44.33 & 83.53 & -37.43 & 57.65 & -35.24 & 0, 0, 1, 0\\\\\n",
       "\t7 & 117.40 & -40.47 & 85.60 & -34.36 & 60.80 & -37.38 & 0, 1, 0, 0\\\\\n",
       "\\end{tabular}\n"
      ],
      "text/markdown": [
       "\n",
       "A data.frame: 6 × 7\n",
       "\n",
       "| <!--/--> | SocialdistanceMean &lt;dbl&gt; | SocialdistanceSD &lt;dbl&gt; | PersonaldistanceMean &lt;dbl&gt; | PersonaldistanceSD &lt;dbl&gt; | IntimatedistanceMean &lt;dbl&gt; | IntimatedistanceSD &lt;dbl&gt; | Y &lt;dbl[,4]&gt; |\n",
       "|---|---|---|---|---|---|---|---|\n",
       "| 1 |  76.52 | -31.08 | 59.10 | -24.76 | 40.30 | -20.25 | 0, 1, 0, 0 |\n",
       "| 2 |  88.10 | -30.94 | 68.00 | -25.28 | 50.70 | -24.79 | 1, 0, 0, 0 |\n",
       "| 3 | 101.21 | -40.05 | 78.00 | -35.27 | 54.04 | -40.50 | 0, 1, 0, 0 |\n",
       "| 5 | 103.24 | -49.31 | 85.47 | -39.25 | 74.54 | -55.47 | 1, 0, 0, 0 |\n",
       "| 6 | 115.80 | -44.33 | 83.53 | -37.43 | 57.65 | -35.24 | 0, 0, 1, 0 |\n",
       "| 7 | 117.40 | -40.47 | 85.60 | -34.36 | 60.80 | -37.38 | 0, 1, 0, 0 |\n",
       "\n"
      ],
      "text/plain": [
       "  SocialdistanceMean SocialdistanceSD PersonaldistanceMean PersonaldistanceSD\n",
       "1  76.52             -31.08           59.10                -24.76            \n",
       "2  88.10             -30.94           68.00                -25.28            \n",
       "3 101.21             -40.05           78.00                -35.27            \n",
       "5 103.24             -49.31           85.47                -39.25            \n",
       "6 115.80             -44.33           83.53                -37.43            \n",
       "7 117.40             -40.47           85.60                -34.36            \n",
       "  IntimatedistanceMean IntimatedistanceSD Y         \n",
       "1 40.30                -20.25             0, 1, 0, 0\n",
       "2 50.70                -24.79             1, 0, 0, 0\n",
       "3 54.04                -40.50             0, 1, 0, 0\n",
       "5 74.54                -55.47             1, 0, 0, 0\n",
       "6 57.65                -35.24             0, 0, 1, 0\n",
       "7 60.80                -37.38             0, 1, 0, 0"
      ]
     },
     "metadata": {},
     "output_type": "display_data"
    }
   ],
   "source": [
    "head(personalDist.train)"
   ]
  },
  {
   "cell_type": "code",
   "execution_count": 236,
   "metadata": {},
   "outputs": [
    {
     "name": "stdout",
     "output_type": "stream",
     "text": [
      "# weights:  37\n",
      "initial  value 47.552749 \n",
      "final  value 40.613583 \n",
      "converged\n"
     ]
    }
   ],
   "source": [
    "nnet1 = nnet (Y ~ ., personalDist.train,size=3 , entropy=TRUE, softmax=TRUE)"
   ]
  },
  {
   "cell_type": "code",
   "execution_count": 237,
   "metadata": {},
   "outputs": [
    {
     "data": {
      "text/plain": [
       "a 6-3-4 network with 37 weights\n",
       "options were - softmax modelling \n",
       " b->h1 i1->h1 i2->h1 i3->h1 i4->h1 i5->h1 i6->h1 \n",
       "  0.33  -0.39   0.66  -0.30  -0.62  -0.28   0.68 \n",
       " b->h2 i1->h2 i2->h2 i3->h2 i4->h2 i5->h2 i6->h2 \n",
       " -0.53   0.12   0.49   0.46   0.00  -0.09  -0.18 \n",
       " b->h3 i1->h3 i2->h3 i3->h3 i4->h3 i5->h3 i6->h3 \n",
       "  0.37  -0.66   0.62  -0.32   0.21   0.22   0.45 \n",
       " b->o1 h1->o1 h2->o1 h3->o1 \n",
       " -0.09  -0.34   0.26   0.14 \n",
       " b->o2 h1->o2 h2->o2 h3->o2 \n",
       " -0.27   0.57  -0.78  -0.40 \n",
       " b->o3 h1->o3 h2->o3 h3->o3 \n",
       "  0.22   0.06  -0.69  -0.54 \n",
       " b->o4 h1->o4 h2->o4 h3->o4 \n",
       " -0.83  -0.29  -0.73  -0.10 "
      ]
     },
     "metadata": {},
     "output_type": "display_data"
    }
   ],
   "source": [
    "summary(nnet1)"
   ]
  },
  {
   "cell_type": "code",
   "execution_count": 238,
   "metadata": {},
   "outputs": [
    {
     "data": {
      "text/html": [
       "<table>\n",
       "<caption>A matrix: 6 × 4 of type dbl</caption>\n",
       "<thead>\n",
       "\t<tr><th></th><th scope=col>1</th><th scope=col>2</th><th scope=col>3</th><th scope=col>4</th></tr>\n",
       "</thead>\n",
       "<tbody>\n",
       "\t<tr><th scope=row>4</th><td>0.5</td><td>0.1470588</td><td>0.264706</td><td>0.08823513</td></tr>\n",
       "\t<tr><th scope=row>11</th><td>0.5</td><td>0.1470588</td><td>0.264706</td><td>0.08823513</td></tr>\n",
       "\t<tr><th scope=row>20</th><td>0.5</td><td>0.1470588</td><td>0.264706</td><td>0.08823513</td></tr>\n",
       "\t<tr><th scope=row>21</th><td>0.5</td><td>0.1470588</td><td>0.264706</td><td>0.08823513</td></tr>\n",
       "\t<tr><th scope=row>25</th><td>0.5</td><td>0.1470588</td><td>0.264706</td><td>0.08823513</td></tr>\n",
       "\t<tr><th scope=row>26</th><td>0.5</td><td>0.1470588</td><td>0.264706</td><td>0.08823513</td></tr>\n",
       "</tbody>\n",
       "</table>\n"
      ],
      "text/latex": [
       "A matrix: 6 × 4 of type dbl\n",
       "\\begin{tabular}{r|llll}\n",
       "  & 1 & 2 & 3 & 4\\\\\n",
       "\\hline\n",
       "\t4 & 0.5 & 0.1470588 & 0.264706 & 0.08823513\\\\\n",
       "\t11 & 0.5 & 0.1470588 & 0.264706 & 0.08823513\\\\\n",
       "\t20 & 0.5 & 0.1470588 & 0.264706 & 0.08823513\\\\\n",
       "\t21 & 0.5 & 0.1470588 & 0.264706 & 0.08823513\\\\\n",
       "\t25 & 0.5 & 0.1470588 & 0.264706 & 0.08823513\\\\\n",
       "\t26 & 0.5 & 0.1470588 & 0.264706 & 0.08823513\\\\\n",
       "\\end{tabular}\n"
      ],
      "text/markdown": [
       "\n",
       "A matrix: 6 × 4 of type dbl\n",
       "\n",
       "| <!--/--> | 1 | 2 | 3 | 4 |\n",
       "|---|---|---|---|---|\n",
       "| 4 | 0.5 | 0.1470588 | 0.264706 | 0.08823513 |\n",
       "| 11 | 0.5 | 0.1470588 | 0.264706 | 0.08823513 |\n",
       "| 20 | 0.5 | 0.1470588 | 0.264706 | 0.08823513 |\n",
       "| 21 | 0.5 | 0.1470588 | 0.264706 | 0.08823513 |\n",
       "| 25 | 0.5 | 0.1470588 | 0.264706 | 0.08823513 |\n",
       "| 26 | 0.5 | 0.1470588 | 0.264706 | 0.08823513 |\n",
       "\n"
      ],
      "text/plain": [
       "   1   2         3        4         \n",
       "4  0.5 0.1470588 0.264706 0.08823513\n",
       "11 0.5 0.1470588 0.264706 0.08823513\n",
       "20 0.5 0.1470588 0.264706 0.08823513\n",
       "21 0.5 0.1470588 0.264706 0.08823513\n",
       "25 0.5 0.1470588 0.264706 0.08823513\n",
       "26 0.5 0.1470588 0.264706 0.08823513"
      ]
     },
     "metadata": {},
     "output_type": "display_data"
    }
   ],
   "source": [
    "predicted = predict(nnet1, personalDist.test)\n",
    "head(predicted)"
   ]
  },
  {
   "cell_type": "code",
   "execution_count": 239,
   "metadata": {},
   "outputs": [
    {
     "data": {
      "text/html": [
       "'EuAndNAmer'"
      ],
      "text/latex": [
       "'EuAndNAmer'"
      ],
      "text/markdown": [
       "'EuAndNAmer'"
      ],
      "text/plain": [
       "[1] \"EuAndNAmer\""
      ]
     },
     "metadata": {},
     "output_type": "display_data"
    }
   ],
   "source": [
    "regions[ which.is.max(predicted[1,]) ]"
   ]
  },
  {
   "cell_type": "code",
   "execution_count": 241,
   "metadata": {},
   "outputs": [
    {
     "data": {
      "text/html": [
       "<style>\n",
       ".dl-inline {width: auto; margin:0; padding: 0}\n",
       ".dl-inline>dt, .dl-inline>dd {float: none; width: auto; display: inline-block}\n",
       ".dl-inline>dt::after {content: \":\\0020\"; padding-right: .5ex}\n",
       ".dl-inline>dt:not(:first-of-type) {padding-left: .5ex}\n",
       "</style><dl class=dl-inline><dt>1</dt><dd>0.500000046935427</dd><dt>2</dt><dd>0.147058801787158</dd><dt>3</dt><dd>0.264706018464858</dd><dt>4</dt><dd>0.0882351328125574</dd></dl>\n"
      ],
      "text/latex": [
       "\\begin{description*}\n",
       "\\item[1] 0.500000046935427\n",
       "\\item[2] 0.147058801787158\n",
       "\\item[3] 0.264706018464858\n",
       "\\item[4] 0.0882351328125574\n",
       "\\end{description*}\n"
      ],
      "text/markdown": [
       "1\n",
       ":   0.5000000469354272\n",
       ":   0.1470588017871583\n",
       ":   0.2647060184648584\n",
       ":   0.0882351328125574\n",
       "\n"
      ],
      "text/plain": [
       "         1          2          3          4 \n",
       "0.50000005 0.14705880 0.26470602 0.08823513 "
      ]
     },
     "metadata": {},
     "output_type": "display_data"
    }
   ],
   "source": [
    "predicted[2,]"
   ]
  },
  {
   "cell_type": "code",
   "execution_count": 242,
   "metadata": {},
   "outputs": [
    {
     "data": {
      "text/html": [
       "<table>\n",
       "<caption>A data.frame: 1 × 7</caption>\n",
       "<thead>\n",
       "\t<tr><th></th><th scope=col>Worldregion</th><th scope=col>SocialdistanceMean</th><th scope=col>SocialdistanceSD</th><th scope=col>PersonaldistanceMean</th><th scope=col>PersonaldistanceSD</th><th scope=col>IntimatedistanceMean</th><th scope=col>IntimatedistanceSD</th></tr>\n",
       "\t<tr><th></th><th scope=col>&lt;int&gt;</th><th scope=col>&lt;dbl&gt;</th><th scope=col>&lt;dbl&gt;</th><th scope=col>&lt;dbl&gt;</th><th scope=col>&lt;dbl&gt;</th><th scope=col>&lt;dbl&gt;</th><th scope=col>&lt;dbl&gt;</th></tr>\n",
       "</thead>\n",
       "<tbody>\n",
       "\t<tr><th scope=row>4</th><td>1</td><td>81.37</td><td>-12.98</td><td>63.92</td><td>-10.91</td><td>43.14</td><td>-12.51</td></tr>\n",
       "</tbody>\n",
       "</table>\n"
      ],
      "text/latex": [
       "A data.frame: 1 × 7\n",
       "\\begin{tabular}{r|lllllll}\n",
       "  & Worldregion & SocialdistanceMean & SocialdistanceSD & PersonaldistanceMean & PersonaldistanceSD & IntimatedistanceMean & IntimatedistanceSD\\\\\n",
       "  & <int> & <dbl> & <dbl> & <dbl> & <dbl> & <dbl> & <dbl>\\\\\n",
       "\\hline\n",
       "\t4 & 1 & 81.37 & -12.98 & 63.92 & -10.91 & 43.14 & -12.51\\\\\n",
       "\\end{tabular}\n"
      ],
      "text/markdown": [
       "\n",
       "A data.frame: 1 × 7\n",
       "\n",
       "| <!--/--> | Worldregion &lt;int&gt; | SocialdistanceMean &lt;dbl&gt; | SocialdistanceSD &lt;dbl&gt; | PersonaldistanceMean &lt;dbl&gt; | PersonaldistanceSD &lt;dbl&gt; | IntimatedistanceMean &lt;dbl&gt; | IntimatedistanceSD &lt;dbl&gt; |\n",
       "|---|---|---|---|---|---|---|---|\n",
       "| 4 | 1 | 81.37 | -12.98 | 63.92 | -10.91 | 43.14 | -12.51 |\n",
       "\n"
      ],
      "text/plain": [
       "  Worldregion SocialdistanceMean SocialdistanceSD PersonaldistanceMean\n",
       "4 1           81.37              -12.98           63.92               \n",
       "  PersonaldistanceSD IntimatedistanceMean IntimatedistanceSD\n",
       "4 -10.91             43.14                -12.51            "
      ]
     },
     "metadata": {},
     "output_type": "display_data"
    }
   ],
   "source": [
    "personalDist.test[1,]\n"
   ]
  },
  {
   "cell_type": "code",
   "execution_count": null,
   "metadata": {},
   "outputs": [],
   "source": []
  },
  {
   "cell_type": "code",
   "execution_count": 243,
   "metadata": {},
   "outputs": [
    {
     "ename": "ERROR",
     "evalue": "Error in parse(text = x, srcfile = src): <text>:3:4: unexpected symbol\n2: \n3: 1. what\n      ^\n",
     "output_type": "error",
     "traceback": [
      "Error in parse(text = x, srcfile = src): <text>:3:4: unexpected symbol\n2: \n3: 1. what\n      ^\nTraceback:\n"
     ]
    }
   ],
   "source": [
    "# CLASS LAB (~15min)\n",
    "\n",
    "1. what is the world region predicted when the values are 1,2,3,4,5,6 as inputs?\n",
    "\n",
    "2. choose the first half of the rows as training this time and then test values in the new fitted model of common training, do they concur?\n",
    "\n",
    "3. produce your outputs so that the name of the region is printed for each prediction\n",
    "\n",
    "4. do training and testing on only 30 rows. then see if the last 12 rows are predicted successfully, what insights can you draw?\n",
    "\n",
    "email notebooks to the GTA"
   ]
  },
  {
   "cell_type": "code",
   "execution_count": null,
   "metadata": {},
   "outputs": [],
   "source": []
  },
  {
   "cell_type": "code",
   "execution_count": 197,
   "metadata": {},
   "outputs": [],
   "source": []
  },
  {
   "cell_type": "code",
   "execution_count": null,
   "metadata": {},
   "outputs": [],
   "source": []
  },
  {
   "cell_type": "code",
   "execution_count": null,
   "metadata": {},
   "outputs": [],
   "source": []
  },
  {
   "cell_type": "code",
   "execution_count": null,
   "metadata": {},
   "outputs": [],
   "source": []
  },
  {
   "cell_type": "code",
   "execution_count": null,
   "metadata": {},
   "outputs": [],
   "source": [
    "linout=TRUE"
   ]
  }
 ],
 "metadata": {
  "environment": {
   "name": "r-cpu.3-6.m61",
   "type": "gcloud",
   "uri": "gcr.io/deeplearning-platform-release/r-cpu.3-6:m61"
  },
  "kernelspec": {
   "display_name": "R",
   "language": "R",
   "name": "ir"
  },
  "language_info": {
   "codemirror_mode": "r",
   "file_extension": ".r",
   "mimetype": "text/x-r-source",
   "name": "R",
   "pygments_lexer": "r",
   "version": "3.6.3"
  }
 },
 "nbformat": 4,
 "nbformat_minor": 4
}
